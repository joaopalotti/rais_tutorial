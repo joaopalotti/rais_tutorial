{
 "cells": [
  {
   "cell_type": "markdown",
   "id": "15015028",
   "metadata": {
    "ExecuteTime": {
     "end_time": "2022-09-04T13:07:52.163408Z",
     "start_time": "2022-09-04T13:07:52.159554Z"
    }
   },
   "source": [
    "# Alternative 3 - End-to-end learning on raw features"
   ]
  },
  {
   "cell_type": "code",
   "execution_count": 1,
   "id": "3195be58",
   "metadata": {
    "ExecuteTime": {
     "end_time": "2022-09-04T19:11:08.965057Z",
     "start_time": "2022-09-04T19:11:06.995541Z"
    }
   },
   "outputs": [],
   "source": [
    "import pandas as pd\n",
    "import numpy as np\n",
    "import keras\n",
    "import tensorflow as tf"
   ]
  },
  {
   "cell_type": "code",
   "execution_count": 2,
   "id": "d12f86a5",
   "metadata": {
    "ExecuteTime": {
     "end_time": "2022-09-04T19:11:09.474798Z",
     "start_time": "2022-09-04T19:11:08.966535Z"
    }
   },
   "outputs": [
    {
     "data": {
      "text/html": [
       "<div>\n",
       "<style scoped>\n",
       "    .dataframe tbody tr th:only-of-type {\n",
       "        vertical-align: middle;\n",
       "    }\n",
       "\n",
       "    .dataframe tbody tr th {\n",
       "        vertical-align: top;\n",
       "    }\n",
       "\n",
       "    .dataframe thead th {\n",
       "        text-align: right;\n",
       "    }\n",
       "</style>\n",
       "<table border=\"1\" class=\"dataframe\">\n",
       "  <thead>\n",
       "    <tr style=\"text-align: right;\">\n",
       "      <th></th>\n",
       "      <th>pid</th>\n",
       "      <th>time</th>\n",
       "      <th>id</th>\n",
       "      <th>sort</th>\n",
       "      <th>sleep_phase</th>\n",
       "      <th>act_0</th>\n",
       "      <th>act_1</th>\n",
       "      <th>act_2</th>\n",
       "      <th>act_3</th>\n",
       "      <th>act_4</th>\n",
       "      <th>...</th>\n",
       "      <th>hr_3</th>\n",
       "      <th>hr_4</th>\n",
       "      <th>hr_5</th>\n",
       "      <th>hr_6</th>\n",
       "      <th>hr_7</th>\n",
       "      <th>hr_8</th>\n",
       "      <th>hr_9</th>\n",
       "      <th>hr_10</th>\n",
       "      <th>hr_11</th>\n",
       "      <th>hr_12</th>\n",
       "    </tr>\n",
       "  </thead>\n",
       "  <tbody>\n",
       "    <tr>\n",
       "      <th>0</th>\n",
       "      <td>1</td>\n",
       "      <td>29</td>\n",
       "      <td>(1, 0)</td>\n",
       "      <td>0</td>\n",
       "      <td>0.0</td>\n",
       "      <td>0.0</td>\n",
       "      <td>0.0</td>\n",
       "      <td>0.0</td>\n",
       "      <td>0.0</td>\n",
       "      <td>0.0</td>\n",
       "      <td>...</td>\n",
       "      <td>0.0</td>\n",
       "      <td>0.0</td>\n",
       "      <td>0.0</td>\n",
       "      <td>0.0</td>\n",
       "      <td>0.0</td>\n",
       "      <td>0.0</td>\n",
       "      <td>0.0</td>\n",
       "      <td>0.0</td>\n",
       "      <td>0.0</td>\n",
       "      <td>73.0</td>\n",
       "    </tr>\n",
       "    <tr>\n",
       "      <th>1</th>\n",
       "      <td>1</td>\n",
       "      <td>59</td>\n",
       "      <td>(1, 1)</td>\n",
       "      <td>1</td>\n",
       "      <td>0.0</td>\n",
       "      <td>0.0</td>\n",
       "      <td>0.0</td>\n",
       "      <td>0.0</td>\n",
       "      <td>0.0</td>\n",
       "      <td>0.0</td>\n",
       "      <td>...</td>\n",
       "      <td>0.0</td>\n",
       "      <td>0.0</td>\n",
       "      <td>0.0</td>\n",
       "      <td>0.0</td>\n",
       "      <td>0.0</td>\n",
       "      <td>0.0</td>\n",
       "      <td>0.0</td>\n",
       "      <td>0.0</td>\n",
       "      <td>73.0</td>\n",
       "      <td>75.0</td>\n",
       "    </tr>\n",
       "    <tr>\n",
       "      <th>2</th>\n",
       "      <td>1</td>\n",
       "      <td>89</td>\n",
       "      <td>(1, 2)</td>\n",
       "      <td>2</td>\n",
       "      <td>0.0</td>\n",
       "      <td>0.0</td>\n",
       "      <td>0.0</td>\n",
       "      <td>0.0</td>\n",
       "      <td>0.0</td>\n",
       "      <td>0.0</td>\n",
       "      <td>...</td>\n",
       "      <td>0.0</td>\n",
       "      <td>0.0</td>\n",
       "      <td>0.0</td>\n",
       "      <td>0.0</td>\n",
       "      <td>0.0</td>\n",
       "      <td>0.0</td>\n",
       "      <td>0.0</td>\n",
       "      <td>73.0</td>\n",
       "      <td>75.0</td>\n",
       "      <td>76.0</td>\n",
       "    </tr>\n",
       "    <tr>\n",
       "      <th>3</th>\n",
       "      <td>1</td>\n",
       "      <td>119</td>\n",
       "      <td>(1, 3)</td>\n",
       "      <td>3</td>\n",
       "      <td>0.0</td>\n",
       "      <td>0.0</td>\n",
       "      <td>0.0</td>\n",
       "      <td>0.0</td>\n",
       "      <td>0.0</td>\n",
       "      <td>0.0</td>\n",
       "      <td>...</td>\n",
       "      <td>0.0</td>\n",
       "      <td>0.0</td>\n",
       "      <td>0.0</td>\n",
       "      <td>0.0</td>\n",
       "      <td>0.0</td>\n",
       "      <td>0.0</td>\n",
       "      <td>73.0</td>\n",
       "      <td>75.0</td>\n",
       "      <td>76.0</td>\n",
       "      <td>75.0</td>\n",
       "    </tr>\n",
       "    <tr>\n",
       "      <th>4</th>\n",
       "      <td>1</td>\n",
       "      <td>149</td>\n",
       "      <td>(1, 4)</td>\n",
       "      <td>4</td>\n",
       "      <td>0.0</td>\n",
       "      <td>0.0</td>\n",
       "      <td>0.0</td>\n",
       "      <td>0.0</td>\n",
       "      <td>0.0</td>\n",
       "      <td>0.0</td>\n",
       "      <td>...</td>\n",
       "      <td>0.0</td>\n",
       "      <td>0.0</td>\n",
       "      <td>0.0</td>\n",
       "      <td>0.0</td>\n",
       "      <td>0.0</td>\n",
       "      <td>73.0</td>\n",
       "      <td>75.0</td>\n",
       "      <td>76.0</td>\n",
       "      <td>75.0</td>\n",
       "      <td>80.0</td>\n",
       "    </tr>\n",
       "  </tbody>\n",
       "</table>\n",
       "<p>5 rows × 31 columns</p>\n",
       "</div>"
      ],
      "text/plain": [
       "   pid  time      id  sort  sleep_phase  act_0  act_1  act_2  act_3  act_4  \\\n",
       "0    1    29  (1, 0)     0          0.0    0.0    0.0    0.0    0.0    0.0   \n",
       "1    1    59  (1, 1)     1          0.0    0.0    0.0    0.0    0.0    0.0   \n",
       "2    1    89  (1, 2)     2          0.0    0.0    0.0    0.0    0.0    0.0   \n",
       "3    1   119  (1, 3)     3          0.0    0.0    0.0    0.0    0.0    0.0   \n",
       "4    1   149  (1, 4)     4          0.0    0.0    0.0    0.0    0.0    0.0   \n",
       "\n",
       "   ...  hr_3  hr_4  hr_5  hr_6  hr_7  hr_8  hr_9  hr_10  hr_11  hr_12  \n",
       "0  ...   0.0   0.0   0.0   0.0   0.0   0.0   0.0    0.0    0.0   73.0  \n",
       "1  ...   0.0   0.0   0.0   0.0   0.0   0.0   0.0    0.0   73.0   75.0  \n",
       "2  ...   0.0   0.0   0.0   0.0   0.0   0.0   0.0   73.0   75.0   76.0  \n",
       "3  ...   0.0   0.0   0.0   0.0   0.0   0.0  73.0   75.0   76.0   75.0  \n",
       "4  ...   0.0   0.0   0.0   0.0   0.0  73.0  75.0   76.0   75.0   80.0  \n",
       "\n",
       "[5 rows x 31 columns]"
      ]
     },
     "execution_count": 2,
     "metadata": {},
     "output_type": "execute_result"
    }
   ],
   "source": [
    "df = pd.read_csv(\"./datasets/df_raw_features.tar.gz\")\n",
    "df.head()"
   ]
  },
  {
   "cell_type": "code",
   "execution_count": 3,
   "id": "335241b4",
   "metadata": {
    "ExecuteTime": {
     "end_time": "2022-09-04T19:11:22.591575Z",
     "start_time": "2022-09-04T19:11:22.583376Z"
    }
   },
   "outputs": [
    {
     "data": {
      "text/plain": [
       "array([0., 1., 2., 5., 3., 4.])"
      ]
     },
     "execution_count": 3,
     "metadata": {},
     "output_type": "execute_result"
    }
   ],
   "source": [
    "df[\"sleep_phase\"].unique()\n",
    "# 0 -> Wake\n",
    "# 1 -> phase 1 (light sleep)\n",
    "# 2 -> phase 2 (deep sleep N1)\n",
    "# 3 -> phase 3 (deep sleep N2)\n",
    "# 4 -> NREM    ()\n",
    "# 5 -> REM"
   ]
  },
  {
   "cell_type": "code",
   "execution_count": 4,
   "id": "6a62d658",
   "metadata": {
    "ExecuteTime": {
     "end_time": "2022-09-04T19:11:23.021644Z",
     "start_time": "2022-09-04T19:11:23.010509Z"
    }
   },
   "outputs": [],
   "source": [
    "df[\"bin_sleep_phase\"] = df[\"sleep_phase\"] > 0"
   ]
  },
  {
   "cell_type": "code",
   "execution_count": 26,
   "id": "92e7e8f2",
   "metadata": {
    "ExecuteTime": {
     "end_time": "2022-09-04T19:43:18.172150Z",
     "start_time": "2022-09-04T19:43:18.145136Z"
    }
   },
   "outputs": [],
   "source": [
    "MASKING_VALUE = -1000\n",
    "\n",
    "def generate_XY(df, maxdim, ycol=\"bin_sleep_phase\"):\n",
    "\n",
    "    hr_cols = dict([(int(k.split(\"_\")[1]), k) for k in df.keys() if k.startswith(\"hr_\")])\n",
    "    last_hr_key = sorted(hr_cols.items(), key=lambda item: item[0])[-1][1]\n",
    "\n",
    "    act_cols = dict([(int(k.split(\"_\")[1]), k) for k in df.keys() if k.startswith(\"act_\")])\n",
    "    last_act_key = sorted(act_cols.items(), key=lambda item: item[0])[-1][1]\n",
    "\n",
    "    hr = df[last_hr_key].values\n",
    "    act = df[last_act_key].values\n",
    "    \n",
    "    Y  = df[ycol].astype(int).values.reshape(-1, 1)\n",
    "    X = np.stack((act,hr))\n",
    "    X = X.transpose(1,0)\n",
    "    \n",
    "    if maxdim > X.shape[0]:\n",
    "        # Pad sequences (e.g., to the maxium length in the sequence or a constant like 8-10 hours)\n",
    "        X = np.pad(X, ((0, maxdim-X.shape[0]), (0,0)), \"constant\", constant_values=MASKING_VALUE)\n",
    "        Y = np.pad(Y, ((0, maxdim-Y.shape[0]), (0,0)), \"constant\", constant_values=-1)\n",
    "    else:\n",
    "        pass\n",
    "        # Crop the sequence at some maxium length\n",
    "        X = X[:maxdim]\n",
    "        Y = Y[:maxdim]\n",
    "        \n",
    "    # Expand dims\n",
    "    X = np.expand_dims(X, axis=0)\n",
    "    Y = np.expand_dims(Y, axis=0)\n",
    "    \n",
    "    X = X.astype(float)\n",
    "    Y = Y.astype(int)\n",
    "    \n",
    "    return X, Y\n",
    "    "
   ]
  },
  {
   "cell_type": "code",
   "execution_count": 27,
   "id": "2bcc8a19",
   "metadata": {
    "ExecuteTime": {
     "end_time": "2022-09-04T19:43:18.541341Z",
     "start_time": "2022-09-04T19:43:18.525625Z"
    }
   },
   "outputs": [],
   "source": [
    "X, Y = generate_XY(df[df[\"pid\"]==1], maxdim=800)"
   ]
  },
  {
   "cell_type": "code",
   "execution_count": 48,
   "id": "094c0e8b",
   "metadata": {
    "ExecuteTime": {
     "end_time": "2022-09-04T20:06:11.980993Z",
     "start_time": "2022-09-04T20:06:11.967205Z"
    }
   },
   "outputs": [
    {
     "name": "stdout",
     "output_type": "stream",
     "text": [
      "The largest dimension is 1615\n",
      "Quantile 0.8 1149\n"
     ]
    }
   ],
   "source": [
    "max_dimension = df.groupby(\"pid\").size().max()\n",
    "print(\"The largest dimension is %d\" % (max_dimension))\n",
    "\n",
    "quantile08 = int(df.groupby(\"pid\").size().quantile(0.8))\n",
    "print(\"Quantile 0.8 %d\" % (quantile08))\n",
    "\n",
    "dimension = max_dimension\n",
    "dimension = 1200 # 1200 = 10 hours"
   ]
  },
  {
   "cell_type": "code",
   "execution_count": 49,
   "id": "e4b0427e",
   "metadata": {
    "ExecuteTime": {
     "end_time": "2022-09-04T20:06:12.719733Z",
     "start_time": "2022-09-04T20:06:12.525421Z"
    }
   },
   "outputs": [
    {
     "data": {
      "text/plain": [
       "pid\n",
       "1     ([[[ 0. 73.], [ 0. 75.], [ 0. 76.], [ 0. 75.],...\n",
       "16    ([[[ 0. 67.], [ 0. 65.], [ 0. 66.], [ 0. 67.],...\n",
       "21    ([[[11. 77.], [27. 63.], [ 0. 64.], [ 1. 65.],...\n",
       "28    ([[[ 0. 72.], [ 0. 69.], [ 0. 69.], [ 0. 70.],...\n",
       "33    ([[[ 0. 53.], [ 0. 52.], [ 0. 53.], [ 0. 51.],...\n",
       "dtype: object"
      ]
     },
     "execution_count": 49,
     "metadata": {},
     "output_type": "execute_result"
    }
   ],
   "source": [
    "df_XY = df.groupby(\"pid\").apply(lambda x: generate_XY(x, maxdim=dimension))\n",
    "df_XY.head()"
   ]
  },
  {
   "cell_type": "code",
   "execution_count": 50,
   "id": "32683352",
   "metadata": {
    "ExecuteTime": {
     "end_time": "2022-09-04T20:06:12.883246Z",
     "start_time": "2022-09-04T20:06:12.873898Z"
    }
   },
   "outputs": [
    {
     "data": {
      "text/plain": [
       "((1, 1200, 2), (1, 1200, 1))"
      ]
     },
     "execution_count": 50,
     "metadata": {},
     "output_type": "execute_result"
    }
   ],
   "source": [
    "idx = 30\n",
    "df_XY.iloc[idx][0].shape, df_XY.iloc[idx][1].shape"
   ]
  },
  {
   "cell_type": "code",
   "execution_count": 51,
   "id": "367cb6cc",
   "metadata": {
    "ExecuteTime": {
     "end_time": "2022-09-04T20:06:13.303825Z",
     "start_time": "2022-09-04T20:06:13.291504Z"
    }
   },
   "outputs": [
    {
     "data": {
      "text/plain": [
       "array([[[    2.,    70.],\n",
       "        [    0.,    68.],\n",
       "        [    0.,    70.],\n",
       "        ...,\n",
       "        [-1000., -1000.],\n",
       "        [-1000., -1000.],\n",
       "        [-1000., -1000.]]])"
      ]
     },
     "execution_count": 51,
     "metadata": {},
     "output_type": "execute_result"
    }
   ],
   "source": [
    "df_XY.iloc[idx][0]"
   ]
  },
  {
   "cell_type": "code",
   "execution_count": 52,
   "id": "2fb00869",
   "metadata": {
    "ExecuteTime": {
     "end_time": "2022-09-04T20:06:13.705901Z",
     "start_time": "2022-09-04T20:06:13.698225Z"
    }
   },
   "outputs": [
    {
     "data": {
      "text/plain": [
       "array([[[ 1],\n",
       "        [ 1],\n",
       "        [ 1],\n",
       "        ...,\n",
       "        [-1],\n",
       "        [-1],\n",
       "        [-1]]])"
      ]
     },
     "execution_count": 52,
     "metadata": {},
     "output_type": "execute_result"
    }
   ],
   "source": [
    "df_XY.iloc[idx][1]"
   ]
  },
  {
   "cell_type": "code",
   "execution_count": 53,
   "id": "c916d626",
   "metadata": {
    "ExecuteTime": {
     "end_time": "2022-09-04T20:06:14.126095Z",
     "start_time": "2022-09-04T20:06:14.083422Z"
    }
   },
   "outputs": [],
   "source": [
    "xs, ys = [], []\n",
    "for row_id, (x, y) in df_XY.items():\n",
    "    xs.append(x)\n",
    "    ys.append(y)\n",
    "    \n",
    "xs = np.array(xs, dtype=object)\n",
    "ys = np.array(ys, dtype=object)\n"
   ]
  },
  {
   "cell_type": "code",
   "execution_count": 54,
   "id": "433ef872",
   "metadata": {
    "ExecuteTime": {
     "end_time": "2022-09-04T20:06:14.608988Z",
     "start_time": "2022-09-04T20:06:14.574227Z"
    }
   },
   "outputs": [],
   "source": [
    "subjects_train_idx = range(100)\n",
    "X_train = np.vstack(xs[subjects_train_idx])\n",
    "Y_train = np.vstack(ys[subjects_train_idx])\n",
    "\n",
    "subjects_test_idx = range(100, 150)\n",
    "X_val = np.vstack(xs[subjects_test_idx])\n",
    "Y_val = np.vstack(ys[subjects_test_idx])\n",
    "\n",
    "subjects_test_idx = range(150, 200)\n",
    "X_test = np.vstack(xs[subjects_test_idx])\n",
    "Y_test = np.vstack(ys[subjects_test_idx])\n"
   ]
  },
  {
   "cell_type": "code",
   "execution_count": 77,
   "id": "e48a94c2",
   "metadata": {
    "ExecuteTime": {
     "end_time": "2022-09-05T07:00:31.417099Z",
     "start_time": "2022-09-05T07:00:31.355206Z"
    }
   },
   "outputs": [],
   "source": [
    "def cnn_lstm_model(cnn_d=32, lstm_d=32):\n",
    "    \n",
    "    model = tf.keras.models.Sequential()\n",
    "    model.add(tf.keras.layers.Masking(mask_value=MASKING_VALUE))\n",
    "    \n",
    "#     model.add(tf.keras.layers.Conv1D(cnn_d, kernel_size=(3,), padding='same'))    \n",
    "#     model.add(tf.keras.layers.Activation(tf.nn.relu))\n",
    "    \n",
    "    model.add(tf.keras.layers.Dropout(0.3))\n",
    "    model.add(tf.keras.layers.LSTM(lstm_d, return_sequences=True))\n",
    "    model.add(tf.keras.layers.Dropout(0.3))\n",
    "    model.add(tf.keras.layers.LSTM(lstm_d, return_sequences=True))\n",
    "    model.add(tf.keras.layers.Dropout(0.3))\n",
    "    model.add(tf.keras.layers.LSTM(lstm_d, return_sequences=True))\n",
    "    \n",
    "    # model.add(tf.keras.layers.Conv1D(1, 1, activation='sigmoid', padding='same'))\n",
    "    model.add(tf.keras.layers.Dense(1, activation=\"sigmoid\", name='output'))\n",
    "    \n",
    "    model.compile(loss='binary_crossentropy', optimizer='adam', metrics=['accuracy'])\n",
    "    return model\n",
    "\n",
    "cnnlstm_model = cnn_lstm_model()"
   ]
  },
  {
   "cell_type": "code",
   "execution_count": 78,
   "id": "ab08cd1b",
   "metadata": {
    "ExecuteTime": {
     "end_time": "2022-09-05T07:01:51.982626Z",
     "start_time": "2022-09-05T07:00:31.821218Z"
    }
   },
   "outputs": [
    {
     "name": "stdout",
     "output_type": "stream",
     "text": [
      "Epoch 1/50\n",
      "13/13 [==============================] - 28s 2s/step - loss: 0.5105 - accuracy: 0.6958 - val_loss: 0.4549 - val_accuracy: 0.7415\n",
      "Epoch 2/50\n",
      "13/13 [==============================] - 17s 1s/step - loss: 0.4249 - accuracy: 0.7660 - val_loss: 0.5446 - val_accuracy: 0.4736\n",
      "Epoch 3/50\n",
      "13/13 [==============================] - 17s 1s/step - loss: 0.3893 - accuracy: 0.8003 - val_loss: 0.6028 - val_accuracy: 0.4406\n",
      "Epoch 4/50\n",
      "13/13 [==============================] - 17s 1s/step - loss: 0.3783 - accuracy: 0.8051 - val_loss: 0.5027 - val_accuracy: 0.6716\n"
     ]
    }
   ],
   "source": [
    "with tf.device('/cpu:0'):\n",
    "    early_stop_callback = tf.keras.callbacks.EarlyStopping(monitor='val_loss', patience=3)\n",
    "    cnnlstm_model.fit(X_train.astype(float), Y_train.astype(int),\n",
    "                      validation_data=(X_val.astype(float), Y_val.astype(int)), \n",
    "                      epochs=50, \n",
    "                      batch_size=8,\n",
    "                      callbacks=[early_stop_callback])"
   ]
  },
  {
   "cell_type": "code",
   "execution_count": 74,
   "id": "71be92bf",
   "metadata": {
    "ExecuteTime": {
     "end_time": "2022-09-05T07:00:04.061089Z",
     "start_time": "2022-09-05T07:00:04.057487Z"
    }
   },
   "outputs": [],
   "source": [
    "# def cnn_lstm_model2(dimension, cnn_d=10, lstm_d=4):\n",
    "    \n",
    "#     input_size = (dimension, 2)\n",
    "#     input_layer = tf.keras.layers.Input(shape=input_size)\n",
    "#     masked_layer = tf.keras.layers.Masking(mask_value=MASKING_VALUE, input_shape=input_size)(input_layer)\n",
    "        \n",
    "#     # masked_layer = tf.keras.layers.BatchNormalization(epsilon=1e-03, axis=-1, momentum=0.99)(masked_layer)\n",
    "    \n",
    "#     layer1 = tf.keras.layers.Conv1D(cnn_d, kernel_size=3, padding='same', activation='softplus')(masked_layer)\n",
    "#     layer2 = tf.keras.layers.Conv1D(cnn_d, kernel_size=5, padding='same', activation='softplus')(masked_layer)\n",
    "# #     layer3 = tf.keras.layers.Conv1D(cnn_d, kernel_size=7, padding='same', activation='softplus')(masked_layer)\n",
    "# #     layer4 = tf.keras.layers.Conv1D(cnn_d, kernel_size=30, padding='same', activation='softplus')(masked_layer)\n",
    "# #     layer5 = tf.keras.layers.Conv1D(cnn_d, kernel_size=60, padding='same', activation='softplus')(masked_layer)\n",
    "# #     layer6 = tf.keras.layers.Conv1D(cnn_d, kernel_size=120, padding='same', activation='softplus')(masked_layer)\n",
    "# #     layer7 = tf.keras.layers.Conv1D(cnn_d, kernel_size=240, padding='same', activation='softplus')(masked_layer)\n",
    " \n",
    "# #     concat = tf.keras.layers.Concatenate(axis=2)([layer1, layer2, layer3, layer4, layer5, layer6, layer7])\n",
    "#     concat = tf.keras.layers.Concatenate(axis=2)([layer1, layer2])\n",
    "    \n",
    "#     x = tf.keras.layers.Dropout(0.1)(concat)\n",
    "#     x = tf.keras.layers.Bidirectional(tf.keras.layers.LSTM(64, return_sequences=True, mask=masked_layer))(x)\n",
    "# #     x = tf.keras.layers.Dropout(0.5)(x)\n",
    "# #     x = tf.keras.layers.Bidirectional(tf.keras.layers.LSTM(32, return_sequences=True))(x)\n",
    "# #     x = tf.keras.layers.Dropout(0.5)(x)\n",
    "# #     x = tf.keras.layers.Bidirectional(tf.keras.layers.LSTM(64, return_sequences=True))(x)\n",
    "\n",
    "#     output_stages = tf.keras.layers.Conv1D(1, 1, activation='sigmoid', padding='same', name=\"stages\")(x)\n",
    "#     model = tf.keras.models.Model(inputs=input_layer, outputs=output_stages)\n",
    "\n",
    "#     model.compile(loss='binary_crossentropy', optimizer='adam', metrics=['accuracy'])\n",
    "        \n",
    "#     return model\n",
    "\n",
    "# cnnlstm_model = cnn_lstm_model2(dimension)"
   ]
  },
  {
   "cell_type": "code",
   "execution_count": 75,
   "id": "ffc0adb4",
   "metadata": {
    "ExecuteTime": {
     "end_time": "2022-09-05T07:00:05.401321Z",
     "start_time": "2022-09-05T07:00:04.441430Z"
    }
   },
   "outputs": [
    {
     "name": "stdout",
     "output_type": "stream",
     "text": [
      "2/2 [==============================] - 1s 77ms/step\n"
     ]
    }
   ],
   "source": [
    "with tf.device('/cpu:0'):\n",
    "    p = cnnlstm_model.predict(x=X_test.astype(float))"
   ]
  },
  {
   "cell_type": "code",
   "execution_count": 76,
   "id": "e643f931",
   "metadata": {
    "ExecuteTime": {
     "end_time": "2022-09-05T07:00:06.919742Z",
     "start_time": "2022-09-05T07:00:06.730856Z"
    }
   },
   "outputs": [
    {
     "name": "stdout",
     "output_type": "stream",
     "text": [
      "2/2 [==============================] - 0s 75ms/step - loss: 0.5372 - accuracy: 0.2707\n"
     ]
    }
   ],
   "source": [
    "with tf.device('/cpu:0'):\n",
    "    cnnlstm_model.evaluate(x=X_test.astype(float), y=Y_test.astype(int))"
   ]
  },
  {
   "cell_type": "code",
   "execution_count": 71,
   "id": "cb92dc3c",
   "metadata": {
    "ExecuteTime": {
     "end_time": "2022-09-05T06:57:58.588025Z",
     "start_time": "2022-09-05T06:57:58.571109Z"
    }
   },
   "outputs": [
    {
     "data": {
      "text/plain": [
       "0.5433333333333333"
      ]
     },
     "execution_count": 71,
     "metadata": {},
     "output_type": "execute_result"
    }
   ],
   "source": [
    "from sklearn import metrics\n",
    "\n",
    "y0 = Y_test[0]\n",
    "y_filter = (y0 != MASKING_VALUE)\n",
    "\n",
    "metrics.accuracy_score(p[0][y_filter] > 0.5, y0[y_filter].astype(int))\n"
   ]
  },
  {
   "cell_type": "code",
   "execution_count": null,
   "id": "4a4f0e22",
   "metadata": {},
   "outputs": [],
   "source": [
    "\n",
    "        input_size1, input_size2, input_size3, output_size = (1200, 30, 1), (1200, 1), (1200, 136, 1), 3\n",
    "\n",
    "        input_layer1 = tf.keras.layers.Input(shape=input_size1, name=\"input_1\")\n",
    "        masked_layer1 = tf.keras.layers.Masking(mask_value=3000, input_shape=input_size1)(input_layer1)\n",
    "        if bn_input:\n",
    "            masked_layer1 = tf.keras.layers.BatchNormalization(epsilon=1e-03, axis=-1, momentum=0.99)(masked_layer1)\n",
    "        masked_layer1 = tf.squeeze(masked_layer1, axis=3)\n",
    "\n",
    "        input_layer2 = tf.keras.layers.Input(shape=input_size2, name=\"input_2\")\n",
    "        masked_layer2 = tf.keras.layers.Masking(mask_value=3000, input_shape=input_size2)(input_layer2)\n",
    "        if bn_input:\n",
    "            masked_layer2 = tf.keras.layers.BatchNormalization(epsilon=1e-03, axis=-1, momentum=0.99)(masked_layer2)\n",
    "\n",
    "\n",
    "        layer1_1 = tf.keras.layers.Conv1D(cnn_dim, kernel_size=3, padding='same', activation='softplus')(masked_layer1)\n",
    "        layer1_2 = tf.keras.layers.Conv1D(cnn_dim, kernel_size=5, padding='same', activation='softplus')(masked_layer1)\n",
    "        layer1_3 = tf.keras.layers.Conv1D(cnn_dim, kernel_size=7, padding='same', activation='softplus')(masked_layer1)\n",
    "        layer1_4 = tf.keras.layers.Conv1D(cnn_dim, kernel_size=30, padding='same', activation='softplus')(masked_layer1)\n",
    "        layer1_5 = tf.keras.layers.Conv1D(cnn_dim, kernel_size=60, padding='same', activation='softplus')(masked_layer1)\n",
    "        layer1_6 = tf.keras.layers.Conv1D(cnn_dim, kernel_size=120, padding='same', activation='softplus')(masked_layer1)\n",
    "        layer1_7 = tf.keras.layers.Conv1D(cnn_dim, kernel_size=240, padding='same', activation='softplus')(masked_layer1)\n",
    "        layer1_8 = tf.keras.layers.Conv1D(cnn_dim, kernel_size=3, padding='same', activation='relu')(masked_layer1)\n",
    "        layer1_9 = tf.keras.layers.Conv1D(cnn_dim, kernel_size=5, padding='same', activation='relu')(masked_layer1)\n",
    "        layer1_10 = tf.keras.layers.Conv1D(cnn_dim, kernel_size=7, padding='same', activation=None)(masked_layer1)\n",
    "        layer1_10 = tf.keras.layers.ThresholdedReLU(theta=1.0)(layer1_10)\n",
    "        layer1_11 = tf.keras.layers.Conv1D(cnn_dim, kernel_size=5, padding='same', activation='tanh')(masked_layer1)\n",
    "        layer1_12 = tf.keras.layers.Conv1D(cnn_dim, kernel_size=30, padding='same', activation='tanh')(masked_layer1)\n",
    "\n",
    "        layer2_1 = tf.keras.layers.Conv1D(cnn_dim, kernel_size=3, padding='same', activation='softplus')(masked_layer2)\n",
    "        layer2_2 = tf.keras.layers.Conv1D(cnn_dim, kernel_size=5, padding='same', activation='softplus')(masked_layer2)\n",
    "        layer2_3 = tf.keras.layers.Conv1D(cnn_dim, kernel_size=7, padding='same', activation='softplus')(masked_layer2)\n",
    "        layer2_4 = tf.keras.layers.Conv1D(cnn_dim, kernel_size=30, padding='same', activation='softplus')(masked_layer2)\n",
    "        layer2_5 = tf.keras.layers.Conv1D(cnn_dim, kernel_size=60, padding='same', activation='softplus')(masked_layer2)\n",
    "        layer2_6 = tf.keras.layers.Conv1D(cnn_dim, kernel_size=120, padding='same', activation='softplus')(masked_layer2)\n",
    "        layer2_7 = tf.keras.layers.Conv1D(cnn_dim, kernel_size=240, padding='same', activation='softplus')(masked_layer2)\n",
    "        layer2_8 = tf.keras.layers.Conv1D(cnn_dim, kernel_size=3, padding='same', activation='relu')(masked_layer2)\n",
    "        layer2_9 = tf.keras.layers.Conv1D(cnn_dim, kernel_size=5, padding='same', activation='relu')(masked_layer2)\n",
    "        layer2_10 = tf.keras.layers.Conv1D(cnn_dim, kernel_size=7, padding='same', activation=None)(masked_layer2)\n",
    "        layer2_10 = tf.keras.layers.ThresholdedReLU(theta=1.0)(layer2_10)\n",
    "        layer2_11 = tf.keras.layers.Conv1D(cnn_dim, kernel_size=5, padding='same', activation='tanh')(masked_layer2)\n",
    "        layer2_12 = tf.keras.layers.Conv1D(cnn_dim, kernel_size=30, padding='same', activation='tanh')(masked_layer2)\n",
    "\n",
    "        if concatenation == \"simple\":\n",
    "            concat = tf.keras.layers.Concatenate(axis=2)(\n",
    "                [layer1_1, layer1_2, layer1_3, layer1_4, layer1_5, layer1_6, layer1_7, layer1_8, layer1_9, layer1_10,\n",
    "                 layer1_11, layer1_12, layer2_1, layer2_2, layer2_3, layer2_4, layer2_5, layer2_6, layer2_7, layer2_8,\n",
    "                 layer2_9, layer2_10, layer2_11, layer2_12])\n",
    "        elif concatenation == \"pairs\":\n",
    "            concat = tf.keras.layers.Concatenate(axis=2)(\n",
    "                [layer1_1 + layer2_1, layer1_2 + layer2_2, layer1_3 + layer2_3, layer1_4 + layer2_4,\n",
    "                 layer1_5 + layer2_5, layer1_6 + layer2_6, layer1_7 + layer2_7, layer1_8 + layer2_8,\n",
    "                 layer1_9 + layer2_9, layer1_10 + layer2_10, layer1_11 + layer2_11, layer1_12 + layer2_12])\n",
    "\n",
    "        elif concatenation == \"all\":\n",
    "            concat = layer1_1 + layer2_1 + layer1_2 + layer2_2 + layer1_3 + layer2_3 + layer1_4 + layer2_4 + layer1_5 + layer2_5 + \\\n",
    "                     layer1_6 + layer2_6 + layer1_7 + layer2_7 + layer1_8 + layer2_8 + layer1_9 + layer2_9 + layer1_10 + layer2_10 + \\\n",
    "                     layer2_11 + layer2_12 + layer1_11 + layer1_12\n",
    "\n",
    "        x = tf.keras.layers.Dropout(cnn_concat_dropout)(concat)\n",
    "        x = tf.keras.layers.Bidirectional(LSTM(64, return_sequences=True))(x)\n",
    "        x = tf.keras.layers.Dropout(lstm_dropout)(x)\n",
    "        x = tf.keras.layers.Bidirectional(LSTM(32, return_sequences=True))(x)\n",
    "        x = tf.keras.layers.Dropout(lstm_dropout)(x)\n",
    "        x = tf.keras.layers.Bidirectional(LSTM(64, return_sequences=True))(x)\n",
    "\n",
    "        output_stages = tf.keras.layers.Conv1D(output_size, 1, activation='softmax', padding='same', name=\"stages\")(x)\n",
    "\n",
    "        if multiple_outputs:\n",
    "            output_idx0 = tf.keras.layers.Conv1D(2, 1, activation='softmax', padding='same', name=\"idx0\")(x)\n",
    "            output_idx1 = tf.keras.layers.Conv1D(2, 1, activation='softmax', padding='same', name=\"idx1\")(x)\n",
    "            output_idx2 = tf.keras.layers.Conv1D(2, 1, activation='softmax', padding='same', name=\"idx2\")(x)\n",
    "            model = tf.keras.models.Model(inputs=[input_layer1, input_layer2],\n",
    "                                          outputs=[output_stages, output_idx0, output_idx1, output_idx2])\n",
    "\n",
    "        else:\n",
    "            model = tf.keras.models.Model(inputs=[input_layer1, input_layer2], outputs=[output_stages])\n",
    "\n",
    "        lr_schedule = tf.keras.optimizers.schedules.ExponentialDecay(lr, decay_steps=16000, decay_rate=0.98,\n",
    "                                                                     staircase=True)\n",
    "\n",
    "        def matthews_correlation_coefficient(y_true, y_pred):\n",
    "            tp = K.sum(K.round(K.clip(y_true * y_pred, 0, 1)))\n",
    "            tn = K.sum(K.round(K.clip((1 - y_true) * (1 - y_pred), 0, 1)))\n",
    "            fp = K.sum(K.round(K.clip((1 - y_true) * y_pred, 0, 1)))\n",
    "            fn = K.sum(K.round(K.clip(y_true * (1 - y_pred), 0, 1)))\n",
    "\n",
    "            num = tp * tn - fp * fn\n",
    "            den = (tp + fp) * (tp + fn) * (tn + fp) * (tn + fn)\n",
    "            return num / K.sqrt(den + K.epsilon())\n",
    "\n",
    "        if multiple_outputs:\n",
    "            model.compile(optimizer=tfa.optimizers.AdamW(lr_schedule),\n",
    "                          loss=[tf.keras.losses.CategoricalCrossentropy(),\n",
    "                                tf.keras.losses.BinaryCrossentropy(),\n",
    "                                tf.keras.losses.BinaryCrossentropy(),\n",
    "                                tf.keras.losses.BinaryCrossentropy()\n",
    "                                ],\n",
    "                          metrics={\"stages\": ['categorical_accuracy', matthews_correlation_coefficient],\n",
    "                                   \"idx0\": ['binary_accuracy', matthews_correlation_coefficient],\n",
    "                                   \"idx1\": ['binary_accuracy', matthews_correlation_coefficient],\n",
    "                                   \"idx2\": ['binary_accuracy', matthews_correlation_coefficient],\n",
    "                                   },\n",
    "                          loss_weights={\"stages\": 1.0, \"idx0\": 1., \"idx1\": 0.5, \"idx2\": 0.5},\n",
    "                          )\n",
    "        else:\n",
    "            model.compile(optimizer=tfa.optimizers.AdamW(lr_schedule),\n",
    "                          loss=tfa.losses.SigmoidFocalCrossEntropy(),\n",
    "                          metrics={\"stages\": ['categorical_accuracy', matthews_correlation_coefficient]}\n",
    "                          )\n",
    "\n",
    "        model.summary()\n",
    "        return model"
   ]
  }
 ],
 "metadata": {
  "kernelspec": {
   "display_name": "Python 3 (ipykernel)",
   "language": "python",
   "name": "python3"
  },
  "language_info": {
   "codemirror_mode": {
    "name": "ipython",
    "version": 3
   },
   "file_extension": ".py",
   "mimetype": "text/x-python",
   "name": "python",
   "nbconvert_exporter": "python",
   "pygments_lexer": "ipython3",
   "version": "3.8.13"
  }
 },
 "nbformat": 4,
 "nbformat_minor": 5
}
