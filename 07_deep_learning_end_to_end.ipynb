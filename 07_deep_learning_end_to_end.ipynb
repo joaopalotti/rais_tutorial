{
 "cells": [
  {
   "cell_type": "markdown",
   "id": "15015028",
   "metadata": {
    "ExecuteTime": {
     "end_time": "2022-09-04T13:07:52.163408Z",
     "start_time": "2022-09-04T13:07:52.159554Z"
    }
   },
   "source": [
    "# Alternative 3 - End-to-end learning on raw features"
   ]
  },
  {
   "cell_type": "code",
   "execution_count": 1,
   "id": "3195be58",
   "metadata": {
    "ExecuteTime": {
     "end_time": "2022-09-04T19:11:08.965057Z",
     "start_time": "2022-09-04T19:11:06.995541Z"
    }
   },
   "outputs": [],
   "source": [
    "import pandas as pd\n",
    "import numpy as np\n",
    "import keras\n",
    "import tensorflow as tf\n",
    "\n",
    "def reset_seed():\n",
    "    tf.random.set_seed(0)\n",
    "    np.random.seed(0)\n",
    "\n",
    "from sklearn import metrics\n",
    "\n",
    "def classification_results(y, yhat):\n",
    "    acc = metrics.accuracy_score(y, yhat)\n",
    "    mcc = metrics.matthews_corrcoef(y, yhat)\n",
    "    f1_weighted = metrics.f1_score(y, yhat, average=\"weighted\")\n",
    "    return acc, mcc, f1_weighted\n",
    "\n",
    "\n",
    "reset_seed()"
   ]
  },
  {
   "cell_type": "code",
   "execution_count": 2,
   "id": "d12f86a5",
   "metadata": {
    "ExecuteTime": {
     "end_time": "2022-09-04T19:11:09.474798Z",
     "start_time": "2022-09-04T19:11:08.966535Z"
    }
   },
   "outputs": [
    {
     "data": {
      "text/html": [
       "<div>\n",
       "<style scoped>\n",
       "    .dataframe tbody tr th:only-of-type {\n",
       "        vertical-align: middle;\n",
       "    }\n",
       "\n",
       "    .dataframe tbody tr th {\n",
       "        vertical-align: top;\n",
       "    }\n",
       "\n",
       "    .dataframe thead th {\n",
       "        text-align: right;\n",
       "    }\n",
       "</style>\n",
       "<table border=\"1\" class=\"dataframe\">\n",
       "  <thead>\n",
       "    <tr style=\"text-align: right;\">\n",
       "      <th></th>\n",
       "      <th>pid</th>\n",
       "      <th>time</th>\n",
       "      <th>id</th>\n",
       "      <th>sort</th>\n",
       "      <th>sleep_phase</th>\n",
       "      <th>act_0</th>\n",
       "      <th>act_1</th>\n",
       "      <th>act_2</th>\n",
       "      <th>act_3</th>\n",
       "      <th>act_4</th>\n",
       "      <th>...</th>\n",
       "      <th>hr_1</th>\n",
       "      <th>hr_2</th>\n",
       "      <th>hr_3</th>\n",
       "      <th>hr_4</th>\n",
       "      <th>hr_5</th>\n",
       "      <th>hr_6</th>\n",
       "      <th>hr_7</th>\n",
       "      <th>hr_8</th>\n",
       "      <th>hr_9</th>\n",
       "      <th>hr_10</th>\n",
       "    </tr>\n",
       "  </thead>\n",
       "  <tbody>\n",
       "    <tr>\n",
       "      <th>0</th>\n",
       "      <td>0</td>\n",
       "      <td>29</td>\n",
       "      <td>(0, 0)</td>\n",
       "      <td>0</td>\n",
       "      <td>0.0</td>\n",
       "      <td>0.0</td>\n",
       "      <td>0.0</td>\n",
       "      <td>0.0</td>\n",
       "      <td>0.0</td>\n",
       "      <td>0.0</td>\n",
       "      <td>...</td>\n",
       "      <td>0.0</td>\n",
       "      <td>0.0</td>\n",
       "      <td>0.0</td>\n",
       "      <td>0.0</td>\n",
       "      <td>0.0</td>\n",
       "      <td>0.0</td>\n",
       "      <td>0.0</td>\n",
       "      <td>0.0</td>\n",
       "      <td>0.0</td>\n",
       "      <td>71.0</td>\n",
       "    </tr>\n",
       "    <tr>\n",
       "      <th>1</th>\n",
       "      <td>0</td>\n",
       "      <td>59</td>\n",
       "      <td>(0, 1)</td>\n",
       "      <td>1</td>\n",
       "      <td>0.0</td>\n",
       "      <td>0.0</td>\n",
       "      <td>0.0</td>\n",
       "      <td>0.0</td>\n",
       "      <td>0.0</td>\n",
       "      <td>0.0</td>\n",
       "      <td>...</td>\n",
       "      <td>0.0</td>\n",
       "      <td>0.0</td>\n",
       "      <td>0.0</td>\n",
       "      <td>0.0</td>\n",
       "      <td>0.0</td>\n",
       "      <td>0.0</td>\n",
       "      <td>0.0</td>\n",
       "      <td>0.0</td>\n",
       "      <td>71.0</td>\n",
       "      <td>76.0</td>\n",
       "    </tr>\n",
       "    <tr>\n",
       "      <th>2</th>\n",
       "      <td>0</td>\n",
       "      <td>89</td>\n",
       "      <td>(0, 2)</td>\n",
       "      <td>2</td>\n",
       "      <td>0.0</td>\n",
       "      <td>0.0</td>\n",
       "      <td>0.0</td>\n",
       "      <td>0.0</td>\n",
       "      <td>0.0</td>\n",
       "      <td>0.0</td>\n",
       "      <td>...</td>\n",
       "      <td>0.0</td>\n",
       "      <td>0.0</td>\n",
       "      <td>0.0</td>\n",
       "      <td>0.0</td>\n",
       "      <td>0.0</td>\n",
       "      <td>0.0</td>\n",
       "      <td>0.0</td>\n",
       "      <td>71.0</td>\n",
       "      <td>76.0</td>\n",
       "      <td>78.0</td>\n",
       "    </tr>\n",
       "    <tr>\n",
       "      <th>3</th>\n",
       "      <td>0</td>\n",
       "      <td>119</td>\n",
       "      <td>(0, 3)</td>\n",
       "      <td>3</td>\n",
       "      <td>0.0</td>\n",
       "      <td>0.0</td>\n",
       "      <td>0.0</td>\n",
       "      <td>0.0</td>\n",
       "      <td>0.0</td>\n",
       "      <td>0.0</td>\n",
       "      <td>...</td>\n",
       "      <td>0.0</td>\n",
       "      <td>0.0</td>\n",
       "      <td>0.0</td>\n",
       "      <td>0.0</td>\n",
       "      <td>0.0</td>\n",
       "      <td>0.0</td>\n",
       "      <td>71.0</td>\n",
       "      <td>76.0</td>\n",
       "      <td>78.0</td>\n",
       "      <td>73.0</td>\n",
       "    </tr>\n",
       "    <tr>\n",
       "      <th>4</th>\n",
       "      <td>0</td>\n",
       "      <td>149</td>\n",
       "      <td>(0, 4)</td>\n",
       "      <td>4</td>\n",
       "      <td>0.0</td>\n",
       "      <td>0.0</td>\n",
       "      <td>0.0</td>\n",
       "      <td>0.0</td>\n",
       "      <td>0.0</td>\n",
       "      <td>0.0</td>\n",
       "      <td>...</td>\n",
       "      <td>0.0</td>\n",
       "      <td>0.0</td>\n",
       "      <td>0.0</td>\n",
       "      <td>0.0</td>\n",
       "      <td>0.0</td>\n",
       "      <td>71.0</td>\n",
       "      <td>76.0</td>\n",
       "      <td>78.0</td>\n",
       "      <td>73.0</td>\n",
       "      <td>80.0</td>\n",
       "    </tr>\n",
       "  </tbody>\n",
       "</table>\n",
       "<p>5 rows × 27 columns</p>\n",
       "</div>"
      ],
      "text/plain": [
       "   pid  time      id  sort  sleep_phase  act_0  act_1  act_2  act_3  act_4  \\\n",
       "0    0    29  (0, 0)     0          0.0    0.0    0.0    0.0    0.0    0.0   \n",
       "1    0    59  (0, 1)     1          0.0    0.0    0.0    0.0    0.0    0.0   \n",
       "2    0    89  (0, 2)     2          0.0    0.0    0.0    0.0    0.0    0.0   \n",
       "3    0   119  (0, 3)     3          0.0    0.0    0.0    0.0    0.0    0.0   \n",
       "4    0   149  (0, 4)     4          0.0    0.0    0.0    0.0    0.0    0.0   \n",
       "\n",
       "   ...  hr_1  hr_2  hr_3  hr_4  hr_5  hr_6  hr_7  hr_8  hr_9  hr_10  \n",
       "0  ...   0.0   0.0   0.0   0.0   0.0   0.0   0.0   0.0   0.0   71.0  \n",
       "1  ...   0.0   0.0   0.0   0.0   0.0   0.0   0.0   0.0  71.0   76.0  \n",
       "2  ...   0.0   0.0   0.0   0.0   0.0   0.0   0.0  71.0  76.0   78.0  \n",
       "3  ...   0.0   0.0   0.0   0.0   0.0   0.0  71.0  76.0  78.0   73.0  \n",
       "4  ...   0.0   0.0   0.0   0.0   0.0  71.0  76.0  78.0  73.0   80.0  \n",
       "\n",
       "[5 rows x 27 columns]"
      ]
     },
     "execution_count": 2,
     "metadata": {},
     "output_type": "execute_result"
    }
   ],
   "source": [
    "df = pd.read_csv(\"./datasets/df_raw_features.tar.gz\")\n",
    "df.head()"
   ]
  },
  {
   "cell_type": "code",
   "execution_count": 3,
   "id": "335241b4",
   "metadata": {
    "ExecuteTime": {
     "end_time": "2022-09-04T19:11:22.591575Z",
     "start_time": "2022-09-04T19:11:22.583376Z"
    }
   },
   "outputs": [
    {
     "data": {
      "text/plain": [
       "array([0., 1., 2., 5., 3., 4.])"
      ]
     },
     "execution_count": 3,
     "metadata": {},
     "output_type": "execute_result"
    }
   ],
   "source": [
    "df[\"sleep_phase\"].unique()\n",
    "# 0 -> Wake\n",
    "# 1 -> phase 1 (light sleep)\n",
    "# 2 -> phase 2 (deep sleep N1)\n",
    "# 3 -> phase 3 (deep sleep N2)\n",
    "# 4 -> NREM    ()\n",
    "# 5 -> REM"
   ]
  },
  {
   "cell_type": "code",
   "execution_count": 4,
   "id": "6a62d658",
   "metadata": {
    "ExecuteTime": {
     "end_time": "2022-09-04T19:11:23.021644Z",
     "start_time": "2022-09-04T19:11:23.010509Z"
    }
   },
   "outputs": [],
   "source": [
    "df[\"sleep\"] = df[\"sleep_phase\"] > 0"
   ]
  },
  {
   "cell_type": "code",
   "execution_count": 5,
   "id": "92e7e8f2",
   "metadata": {
    "ExecuteTime": {
     "end_time": "2022-09-04T19:43:18.172150Z",
     "start_time": "2022-09-04T19:43:18.145136Z"
    }
   },
   "outputs": [],
   "source": [
    "MASKING_VALUE = -1000\n",
    "\n",
    "def generate_XY(df, maxdim, ycol=\"sleep\"):\n",
    "\n",
    "    hr_cols = dict([(int(k.split(\"_\")[1]), k) for k in df.keys() if k.startswith(\"hr_\")])\n",
    "    last_hr_key = sorted(hr_cols.items(), key=lambda item: item[0])[-1][1]\n",
    "\n",
    "    act_cols = dict([(int(k.split(\"_\")[1]), k) for k in df.keys() if k.startswith(\"act_\")])\n",
    "    last_act_key = sorted(act_cols.items(), key=lambda item: item[0])[-1][1]\n",
    "\n",
    "    hr = df[last_hr_key].values\n",
    "    act = df[last_act_key].values\n",
    "    \n",
    "    Y  = df[ycol].astype(int).values.reshape(-1, 1)\n",
    "    X = np.stack((act,hr))\n",
    "    X = X.transpose(1,0)\n",
    "    \n",
    "    if maxdim > X.shape[0]:\n",
    "        # Pad sequences (e.g., to the maxium length in the sequence or a constant like 8-10 hours)\n",
    "        X = np.pad(X, ((0, maxdim-X.shape[0]), (0,0)), \"constant\", constant_values=MASKING_VALUE)\n",
    "        Y = np.pad(Y, ((0, maxdim-Y.shape[0]), (0,0)), \"constant\", constant_values=MASKING_VALUE)\n",
    "    else:\n",
    "        # Crop the sequence at some maxium length\n",
    "        X = X[:maxdim]\n",
    "        Y = Y[:maxdim]\n",
    "        \n",
    "    # Expand dims\n",
    "    X = np.expand_dims(X, axis=0)\n",
    "    Y = np.expand_dims(Y, axis=0)\n",
    "    \n",
    "    X = X.astype(float)\n",
    "    Y = Y.astype(int)\n",
    "    \n",
    "    return X, Y\n",
    "    "
   ]
  },
  {
   "cell_type": "code",
   "execution_count": 6,
   "id": "2bcc8a19",
   "metadata": {
    "ExecuteTime": {
     "end_time": "2022-09-04T19:43:18.541341Z",
     "start_time": "2022-09-04T19:43:18.525625Z"
    }
   },
   "outputs": [],
   "source": [
    "X, Y = generate_XY(df[df[\"pid\"]==1], maxdim=800)"
   ]
  },
  {
   "cell_type": "code",
   "execution_count": 7,
   "id": "9fd832dc",
   "metadata": {},
   "outputs": [
    {
     "data": {
      "text/plain": [
       "(1, 800, 2)"
      ]
     },
     "execution_count": 7,
     "metadata": {},
     "output_type": "execute_result"
    }
   ],
   "source": [
    "X.shape"
   ]
  },
  {
   "cell_type": "code",
   "execution_count": 8,
   "id": "094c0e8b",
   "metadata": {
    "ExecuteTime": {
     "end_time": "2022-09-04T20:06:11.980993Z",
     "start_time": "2022-09-04T20:06:11.967205Z"
    }
   },
   "outputs": [
    {
     "name": "stdout",
     "output_type": "stream",
     "text": [
      "The largest dimension is 1615\n",
      "Quantile 0.8 1153\n"
     ]
    }
   ],
   "source": [
    "max_dimension = df.groupby(\"pid\").size().max()\n",
    "print(\"The largest dimension is %d\" % (max_dimension))\n",
    "\n",
    "quantile08 = int(df.groupby(\"pid\").size().quantile(0.8))\n",
    "print(\"Quantile 0.8 %d\" % (quantile08))\n",
    "\n",
    "MAX_DIMENSION = max_dimension\n",
    "# MAX_DIMENSION = 1200 # 1200 = 10 hours\n",
    "# MAX_DIMENSION = 400 # 1200 = 10 hours"
   ]
  },
  {
   "cell_type": "code",
   "execution_count": 9,
   "id": "e4b0427e",
   "metadata": {
    "ExecuteTime": {
     "end_time": "2022-09-04T20:06:12.719733Z",
     "start_time": "2022-09-04T20:06:12.525421Z"
    }
   },
   "outputs": [
    {
     "data": {
      "text/plain": [
       "pid\n",
       "0    ([[[ 2. 71.], [ 0. 76.], [ 1. 78.], [ 2. 73.],...\n",
       "1    ([[[ 1. 66.], [ 0. 67.], [ 0. 66.], [ 1. 67.],...\n",
       "2    ([[[12. 77.], [27. 62.], [ 1. 64.], [ 0. 64.],...\n",
       "3    ([[[ 1. 73.], [ 0. 69.], [ 0. 70.], [ 0. 70.],...\n",
       "4    ([[[ 0. 51.], [ 1. 49.], [ 1. 53.], [ 1. 50.],...\n",
       "dtype: object"
      ]
     },
     "execution_count": 9,
     "metadata": {},
     "output_type": "execute_result"
    }
   ],
   "source": [
    "df_XY = df.groupby(\"pid\").apply(lambda x: generate_XY(x, maxdim=MAX_DIMENSION))\n",
    "df_XY.head()"
   ]
  },
  {
   "cell_type": "code",
   "execution_count": 10,
   "id": "32683352",
   "metadata": {
    "ExecuteTime": {
     "end_time": "2022-09-04T20:06:12.883246Z",
     "start_time": "2022-09-04T20:06:12.873898Z"
    }
   },
   "outputs": [
    {
     "data": {
      "text/plain": [
       "((1, 1615, 2), (1, 1615, 1))"
      ]
     },
     "execution_count": 10,
     "metadata": {},
     "output_type": "execute_result"
    }
   ],
   "source": [
    "idx = 30\n",
    "df_XY.iloc[idx][0].shape, df_XY.iloc[idx][1].shape"
   ]
  },
  {
   "cell_type": "code",
   "execution_count": 11,
   "id": "367cb6cc",
   "metadata": {
    "ExecuteTime": {
     "end_time": "2022-09-04T20:06:13.303825Z",
     "start_time": "2022-09-04T20:06:13.291504Z"
    }
   },
   "outputs": [
    {
     "data": {
      "text/plain": [
       "array([[[    1.,    70.],\n",
       "        [    1.,    69.],\n",
       "        [    0.,    71.],\n",
       "        ...,\n",
       "        [-1000., -1000.],\n",
       "        [-1000., -1000.],\n",
       "        [-1000., -1000.]]])"
      ]
     },
     "execution_count": 11,
     "metadata": {},
     "output_type": "execute_result"
    }
   ],
   "source": [
    "df_XY.iloc[idx][0]"
   ]
  },
  {
   "cell_type": "code",
   "execution_count": 12,
   "id": "2fb00869",
   "metadata": {
    "ExecuteTime": {
     "end_time": "2022-09-04T20:06:13.705901Z",
     "start_time": "2022-09-04T20:06:13.698225Z"
    }
   },
   "outputs": [
    {
     "data": {
      "text/plain": [
       "array([[[    1],\n",
       "        [    1],\n",
       "        [    1],\n",
       "        ...,\n",
       "        [-1000],\n",
       "        [-1000],\n",
       "        [-1000]]])"
      ]
     },
     "execution_count": 12,
     "metadata": {},
     "output_type": "execute_result"
    }
   ],
   "source": [
    "df_XY.iloc[idx][1]"
   ]
  },
  {
   "cell_type": "code",
   "execution_count": 13,
   "id": "c916d626",
   "metadata": {
    "ExecuteTime": {
     "end_time": "2022-09-04T20:06:14.126095Z",
     "start_time": "2022-09-04T20:06:14.083422Z"
    }
   },
   "outputs": [],
   "source": [
    "xs, ys = [], []\n",
    "for row_id, (x, y) in df_XY.items():\n",
    "    xs.append(x)\n",
    "    ys.append(y)\n",
    "    \n",
    "xs = np.array(xs, dtype=object)\n",
    "ys = np.array(ys, dtype=object)\n"
   ]
  },
  {
   "cell_type": "code",
   "execution_count": 14,
   "id": "433ef872",
   "metadata": {
    "ExecuteTime": {
     "end_time": "2022-09-04T20:06:14.608988Z",
     "start_time": "2022-09-04T20:06:14.574227Z"
    }
   },
   "outputs": [],
   "source": [
    "subjects_train_idx = range(0, 40)\n",
    "X_train = np.vstack(xs[subjects_train_idx]).astype(float)\n",
    "Y_train = np.vstack(ys[subjects_train_idx]).astype(int)\n",
    "\n",
    "subjects_val_idx = range(40, 50)\n",
    "X_val = np.vstack(xs[subjects_val_idx]).astype(float)\n",
    "Y_val = np.vstack(ys[subjects_val_idx]).astype(int)\n",
    "\n",
    "subjects_test_idx = range(50, 100)\n",
    "X_test = np.vstack(xs[subjects_test_idx]).astype(float)\n",
    "Y_test = np.vstack(ys[subjects_test_idx]).astype(int)\n"
   ]
  },
  {
   "cell_type": "code",
   "execution_count": 15,
   "id": "e48a94c2",
   "metadata": {
    "ExecuteTime": {
     "end_time": "2022-09-05T07:00:31.417099Z",
     "start_time": "2022-09-05T07:00:31.355206Z"
    }
   },
   "outputs": [],
   "source": [
    "def bilstm_model(cnn_d=32, lstm_d=16):\n",
    "    \n",
    "    model = tf.keras.models.Sequential()\n",
    "    model.add(tf.keras.layers.Masking(mask_value=MASKING_VALUE))\n",
    "        \n",
    "    model.add(tf.keras.layers.Dropout(0.1))\n",
    "\n",
    "    model.add(tf.keras.layers.Bidirectional(tf.keras.layers.LSTM(lstm_d, return_sequences=True)))\n",
    "    model.add(tf.keras.layers.Dense(1, activation=\"sigmoid\", name='output'))\n",
    "    \n",
    "    model.compile(loss='binary_crossentropy', optimizer='adam', metrics=['accuracy'])\n",
    "    return model\n",
    "\n",
    "bilstm_model = bilstm_model()"
   ]
  },
  {
   "cell_type": "code",
   "execution_count": 16,
   "id": "d922d6f0",
   "metadata": {},
   "outputs": [],
   "source": [
    "def bilstm_model(cnn_d=32, lstm_d=16):\n",
    "    \n",
    "    model = tf.keras.models.Sequential()\n",
    "    model.add(tf.keras.layers.Masking(mask_value=MASKING_VALUE))\n",
    "        \n",
    "    model.add(tf.keras.layers.Dropout(0.01))\n",
    "\n",
    "    model.add(tf.keras.layers.Bidirectional(tf.keras.layers.LSTM(lstm_d, return_sequences=True)))\n",
    "\n",
    "    model.add(tf.keras.layers.Dense(64, activation=\"relu\"))\n",
    "    model.add(tf.keras.layers.Dense(16, activation=\"relu\"))\n",
    "    model.add(tf.keras.layers.Dense(1, activation=\"sigmoid\", name='output'))\n",
    "    \n",
    "    model.compile(loss='binary_crossentropy', optimizer='adam', metrics=['accuracy'])\n",
    "    return model\n",
    "\n",
    "bilstm_model = bilstm_model()"
   ]
  },
  {
   "cell_type": "code",
   "execution_count": 17,
   "id": "0ea0a17c",
   "metadata": {},
   "outputs": [
    {
     "name": "stderr",
     "output_type": "stream",
     "text": [
      "2022-09-11 15:15:29.860478: W tensorflow/core/platform/profile_utils/cpu_utils.cc:128] Failed to get CPU frequency: 0 Hz\n"
     ]
    },
    {
     "name": "stdout",
     "output_type": "stream",
     "text": [
      "2/2 [==============================] - 2s 45ms/step - loss: 0.4476 - accuracy: 0.2863\n"
     ]
    }
   ],
   "source": [
    "with tf.device('/cpu:0'):\n",
    "    bilstm_model.evaluate(x=X_test.astype(float), y=Y_test.astype(int))"
   ]
  },
  {
   "cell_type": "code",
   "execution_count": 18,
   "id": "fba6eeaf",
   "metadata": {},
   "outputs": [
    {
     "name": "stdout",
     "output_type": "stream",
     "text": [
      "2/2 [==============================] - 1s 45ms/step\n",
      "Have a look at the shape now: (50, 1615, 1)\n"
     ]
    },
    {
     "data": {
      "text/plain": [
       "array([[[0.],\n",
       "        [0.],\n",
       "        [0.],\n",
       "        ...,\n",
       "        [0.],\n",
       "        [0.],\n",
       "        [0.]],\n",
       "\n",
       "       [[0.],\n",
       "        [0.],\n",
       "        [0.],\n",
       "        ...,\n",
       "        [0.],\n",
       "        [0.],\n",
       "        [0.]],\n",
       "\n",
       "       [[0.],\n",
       "        [0.],\n",
       "        [0.],\n",
       "        ...,\n",
       "        [0.],\n",
       "        [0.],\n",
       "        [0.]],\n",
       "\n",
       "       ...,\n",
       "\n",
       "       [[0.],\n",
       "        [0.],\n",
       "        [0.],\n",
       "        ...,\n",
       "        [0.],\n",
       "        [0.],\n",
       "        [0.]],\n",
       "\n",
       "       [[0.],\n",
       "        [0.],\n",
       "        [0.],\n",
       "        ...,\n",
       "        [0.],\n",
       "        [0.],\n",
       "        [0.]],\n",
       "\n",
       "       [[0.],\n",
       "        [0.],\n",
       "        [0.],\n",
       "        ...,\n",
       "        [0.],\n",
       "        [0.],\n",
       "        [0.]]], dtype=float32)"
      ]
     },
     "execution_count": 18,
     "metadata": {},
     "output_type": "execute_result"
    }
   ],
   "source": [
    "with tf.device('/cpu:0'):\n",
    "    p = bilstm_model.predict(x=X_test.astype(float)).round()\n",
    "    \n",
    "print(\"Have a look at the shape now:\", p.shape)\n",
    "p"
   ]
  },
  {
   "cell_type": "code",
   "execution_count": 19,
   "id": "e4d96e58",
   "metadata": {},
   "outputs": [
    {
     "data": {
      "text/html": [
       "<div>\n",
       "<style scoped>\n",
       "    .dataframe tbody tr th:only-of-type {\n",
       "        vertical-align: middle;\n",
       "    }\n",
       "\n",
       "    .dataframe tbody tr th {\n",
       "        vertical-align: top;\n",
       "    }\n",
       "\n",
       "    .dataframe thead th {\n",
       "        text-align: right;\n",
       "    }\n",
       "</style>\n",
       "<table border=\"1\" class=\"dataframe\">\n",
       "  <thead>\n",
       "    <tr style=\"text-align: right;\">\n",
       "      <th></th>\n",
       "      <th>pid</th>\n",
       "      <th>time</th>\n",
       "      <th>sleep_phase</th>\n",
       "      <th>sleep</th>\n",
       "    </tr>\n",
       "  </thead>\n",
       "  <tbody>\n",
       "    <tr>\n",
       "      <th>51982</th>\n",
       "      <td>50</td>\n",
       "      <td>5099</td>\n",
       "      <td>0.0</td>\n",
       "      <td>False</td>\n",
       "    </tr>\n",
       "    <tr>\n",
       "      <th>51983</th>\n",
       "      <td>50</td>\n",
       "      <td>5129</td>\n",
       "      <td>0.0</td>\n",
       "      <td>False</td>\n",
       "    </tr>\n",
       "    <tr>\n",
       "      <th>51984</th>\n",
       "      <td>50</td>\n",
       "      <td>5159</td>\n",
       "      <td>0.0</td>\n",
       "      <td>False</td>\n",
       "    </tr>\n",
       "    <tr>\n",
       "      <th>51985</th>\n",
       "      <td>50</td>\n",
       "      <td>5189</td>\n",
       "      <td>0.0</td>\n",
       "      <td>False</td>\n",
       "    </tr>\n",
       "    <tr>\n",
       "      <th>51986</th>\n",
       "      <td>50</td>\n",
       "      <td>5219</td>\n",
       "      <td>0.0</td>\n",
       "      <td>False</td>\n",
       "    </tr>\n",
       "    <tr>\n",
       "      <th>...</th>\n",
       "      <td>...</td>\n",
       "      <td>...</td>\n",
       "      <td>...</td>\n",
       "      <td>...</td>\n",
       "    </tr>\n",
       "    <tr>\n",
       "      <th>102854</th>\n",
       "      <td>99</td>\n",
       "      <td>27569</td>\n",
       "      <td>0.0</td>\n",
       "      <td>False</td>\n",
       "    </tr>\n",
       "    <tr>\n",
       "      <th>102855</th>\n",
       "      <td>99</td>\n",
       "      <td>27599</td>\n",
       "      <td>0.0</td>\n",
       "      <td>False</td>\n",
       "    </tr>\n",
       "    <tr>\n",
       "      <th>102856</th>\n",
       "      <td>99</td>\n",
       "      <td>27629</td>\n",
       "      <td>0.0</td>\n",
       "      <td>False</td>\n",
       "    </tr>\n",
       "    <tr>\n",
       "      <th>102857</th>\n",
       "      <td>99</td>\n",
       "      <td>27659</td>\n",
       "      <td>0.0</td>\n",
       "      <td>False</td>\n",
       "    </tr>\n",
       "    <tr>\n",
       "      <th>102858</th>\n",
       "      <td>99</td>\n",
       "      <td>27689</td>\n",
       "      <td>0.0</td>\n",
       "      <td>False</td>\n",
       "    </tr>\n",
       "  </tbody>\n",
       "</table>\n",
       "<p>50877 rows × 4 columns</p>\n",
       "</div>"
      ],
      "text/plain": [
       "        pid   time  sleep_phase  sleep\n",
       "51982    50   5099          0.0  False\n",
       "51983    50   5129          0.0  False\n",
       "51984    50   5159          0.0  False\n",
       "51985    50   5189          0.0  False\n",
       "51986    50   5219          0.0  False\n",
       "...     ...    ...          ...    ...\n",
       "102854   99  27569          0.0  False\n",
       "102855   99  27599          0.0  False\n",
       "102856   99  27629          0.0  False\n",
       "102857   99  27659          0.0  False\n",
       "102858   99  27689          0.0  False\n",
       "\n",
       "[50877 rows x 4 columns]"
      ]
     },
     "execution_count": 19,
     "metadata": {},
     "output_type": "execute_result"
    }
   ],
   "source": [
    "test_range = range(50, 100)\n",
    "\n",
    "df_held_out_test = df[df[\"pid\"].isin(test_range)][[\"pid\", \"time\", \"sleep_phase\", \"sleep\"]].copy()\n",
    "df_held_out_test"
   ]
  },
  {
   "cell_type": "code",
   "execution_count": 20,
   "id": "8d974e1f",
   "metadata": {},
   "outputs": [
    {
     "data": {
      "text/plain": [
       "1263.0"
      ]
     },
     "execution_count": 20,
     "metadata": {},
     "output_type": "execute_result"
    }
   ],
   "source": [
    "Y_test.flatten().shape, p.flatten().shape\n",
    "\n",
    "p[Y_test != MASKING_VALUE].round().sum()"
   ]
  },
  {
   "cell_type": "code",
   "execution_count": 21,
   "id": "fdd53f60",
   "metadata": {},
   "outputs": [
    {
     "data": {
      "text/html": [
       "<div>\n",
       "<style scoped>\n",
       "    .dataframe tbody tr th:only-of-type {\n",
       "        vertical-align: middle;\n",
       "    }\n",
       "\n",
       "    .dataframe tbody tr th {\n",
       "        vertical-align: top;\n",
       "    }\n",
       "\n",
       "    .dataframe thead th {\n",
       "        text-align: right;\n",
       "    }\n",
       "</style>\n",
       "<table border=\"1\" class=\"dataframe\">\n",
       "  <thead>\n",
       "    <tr style=\"text-align: right;\">\n",
       "      <th></th>\n",
       "      <th>pid</th>\n",
       "      <th>time</th>\n",
       "      <th>sleep_phase</th>\n",
       "      <th>sleep</th>\n",
       "    </tr>\n",
       "  </thead>\n",
       "  <tbody>\n",
       "    <tr>\n",
       "      <th>0</th>\n",
       "      <td>50</td>\n",
       "      <td>26519</td>\n",
       "      <td>1.0</td>\n",
       "      <td>True</td>\n",
       "    </tr>\n",
       "    <tr>\n",
       "      <th>1</th>\n",
       "      <td>50</td>\n",
       "      <td>26549</td>\n",
       "      <td>2.0</td>\n",
       "      <td>True</td>\n",
       "    </tr>\n",
       "    <tr>\n",
       "      <th>2</th>\n",
       "      <td>50</td>\n",
       "      <td>26579</td>\n",
       "      <td>1.0</td>\n",
       "      <td>True</td>\n",
       "    </tr>\n",
       "    <tr>\n",
       "      <th>3</th>\n",
       "      <td>50</td>\n",
       "      <td>26609</td>\n",
       "      <td>1.0</td>\n",
       "      <td>True</td>\n",
       "    </tr>\n",
       "    <tr>\n",
       "      <th>4</th>\n",
       "      <td>50</td>\n",
       "      <td>26639</td>\n",
       "      <td>1.0</td>\n",
       "      <td>True</td>\n",
       "    </tr>\n",
       "    <tr>\n",
       "      <th>...</th>\n",
       "      <td>...</td>\n",
       "      <td>...</td>\n",
       "      <td>...</td>\n",
       "      <td>...</td>\n",
       "    </tr>\n",
       "    <tr>\n",
       "      <th>19995</th>\n",
       "      <td>99</td>\n",
       "      <td>27569</td>\n",
       "      <td>0.0</td>\n",
       "      <td>False</td>\n",
       "    </tr>\n",
       "    <tr>\n",
       "      <th>19996</th>\n",
       "      <td>99</td>\n",
       "      <td>27599</td>\n",
       "      <td>0.0</td>\n",
       "      <td>False</td>\n",
       "    </tr>\n",
       "    <tr>\n",
       "      <th>19997</th>\n",
       "      <td>99</td>\n",
       "      <td>27629</td>\n",
       "      <td>0.0</td>\n",
       "      <td>False</td>\n",
       "    </tr>\n",
       "    <tr>\n",
       "      <th>19998</th>\n",
       "      <td>99</td>\n",
       "      <td>27659</td>\n",
       "      <td>0.0</td>\n",
       "      <td>False</td>\n",
       "    </tr>\n",
       "    <tr>\n",
       "      <th>19999</th>\n",
       "      <td>99</td>\n",
       "      <td>27689</td>\n",
       "      <td>0.0</td>\n",
       "      <td>False</td>\n",
       "    </tr>\n",
       "  </tbody>\n",
       "</table>\n",
       "<p>20000 rows × 4 columns</p>\n",
       "</div>"
      ],
      "text/plain": [
       "       pid   time  sleep_phase  sleep\n",
       "0       50  26519          1.0   True\n",
       "1       50  26549          2.0   True\n",
       "2       50  26579          1.0   True\n",
       "3       50  26609          1.0   True\n",
       "4       50  26639          1.0   True\n",
       "...    ...    ...          ...    ...\n",
       "19995   99  27569          0.0  False\n",
       "19996   99  27599          0.0  False\n",
       "19997   99  27629          0.0  False\n",
       "19998   99  27659          0.0  False\n",
       "19999   99  27689          0.0  False\n",
       "\n",
       "[20000 rows x 4 columns]"
      ]
     },
     "execution_count": 21,
     "metadata": {},
     "output_type": "execute_result"
    }
   ],
   "source": [
    "df_held_out_test.groupby(\"pid\").tail(400).reset_index(drop=True)"
   ]
  },
  {
   "cell_type": "code",
   "execution_count": 22,
   "id": "6c4e7a34",
   "metadata": {},
   "outputs": [],
   "source": [
    "def evaluate_per_pid(df, test_range, maxdim, nnmodel, x_test, y_test, masking_value, name):\n",
    "    \n",
    "    df_held_out_test = df[df[\"pid\"].isin(test_range)][[\"pid\", \"time\", \"sleep_phase\", \"sleep\"]].copy()\n",
    "    df_held_out_test = df_held_out_test.groupby(\"pid\").head(maxdim).reset_index(drop=True)\n",
    "    \n",
    "    p = nnmodel.predict(x_test).round()\n",
    "    df_held_out_test[\"yhat\"] = p[y_test != masking_value].round()\n",
    "    \n",
    "    df_held_out_test.to_csv(f\"results/{name}.csv.tar.gz\", index=False)\n",
    "        \n",
    "    final_results = df_held_out_test.groupby([\"pid\"])[[\"sleep\", \"yhat\"]].apply(lambda x:\n",
    "                                                                          classification_results(x[\"sleep\"].values, \n",
    "                                                                                                 x[\"yhat\"].values))\n",
    "\n",
    "    final_results = final_results.apply(pd.Series).rename(columns={0: \"Accuracy\", 1: \"MCC\", 2: \"F1_weighted\"})\n",
    "\n",
    "    return final_results.agg([\"mean\", \"std\"]).round(3)"
   ]
  },
  {
   "cell_type": "code",
   "execution_count": 23,
   "id": "3dadf0e3",
   "metadata": {
    "scrolled": true
   },
   "outputs": [
    {
     "name": "stdout",
     "output_type": "stream",
     "text": [
      "2/2 [==============================] - 0s 44ms/step\n"
     ]
    },
    {
     "data": {
      "text/html": [
       "<div>\n",
       "<style scoped>\n",
       "    .dataframe tbody tr th:only-of-type {\n",
       "        vertical-align: middle;\n",
       "    }\n",
       "\n",
       "    .dataframe tbody tr th {\n",
       "        vertical-align: top;\n",
       "    }\n",
       "\n",
       "    .dataframe thead th {\n",
       "        text-align: right;\n",
       "    }\n",
       "</style>\n",
       "<table border=\"1\" class=\"dataframe\">\n",
       "  <thead>\n",
       "    <tr style=\"text-align: right;\">\n",
       "      <th></th>\n",
       "      <th>Accuracy</th>\n",
       "      <th>MCC</th>\n",
       "      <th>F1_weighted</th>\n",
       "    </tr>\n",
       "  </thead>\n",
       "  <tbody>\n",
       "    <tr>\n",
       "      <th>mean</th>\n",
       "      <td>0.283</td>\n",
       "      <td>-0.130</td>\n",
       "      <td>0.151</td>\n",
       "    </tr>\n",
       "    <tr>\n",
       "      <th>std</th>\n",
       "      <td>0.104</td>\n",
       "      <td>0.128</td>\n",
       "      <td>0.088</td>\n",
       "    </tr>\n",
       "  </tbody>\n",
       "</table>\n",
       "</div>"
      ],
      "text/plain": [
       "      Accuracy    MCC  F1_weighted\n",
       "mean     0.283 -0.130        0.151\n",
       "std      0.104  0.128        0.088"
      ]
     },
     "execution_count": 23,
     "metadata": {},
     "output_type": "execute_result"
    }
   ],
   "source": [
    "evaluate_per_pid(df, range(50, 100), MAX_DIMENSION, bilstm_model,\n",
    "                 X_test.astype(float), Y_test, MASKING_VALUE, name=\"cnnlstm_model_end2end\")"
   ]
  }
 ],
 "metadata": {
  "kernelspec": {
   "display_name": "Python 3 (ipykernel)",
   "language": "python",
   "name": "python3"
  },
  "language_info": {
   "codemirror_mode": {
    "name": "ipython",
    "version": 3
   },
   "file_extension": ".py",
   "mimetype": "text/x-python",
   "name": "python",
   "nbconvert_exporter": "python",
   "pygments_lexer": "ipython3",
   "version": "3.8.13"
  }
 },
 "nbformat": 4,
 "nbformat_minor": 5
}
