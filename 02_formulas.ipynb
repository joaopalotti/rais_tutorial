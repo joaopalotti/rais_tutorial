{
 "cells": [
  {
   "cell_type": "code",
   "execution_count": 1,
   "id": "53a0a76d",
   "metadata": {
    "ExecuteTime": {
     "end_time": "2022-08-28T07:46:50.624823Z",
     "start_time": "2022-08-28T07:46:50.613997Z"
    }
   },
   "outputs": [],
   "source": [
    "import numpy as np\n",
    "import pandas as pd\n",
    "import matplotlib.pyplot as plt\n",
    "import seaborn as sns"
   ]
  },
  {
   "cell_type": "code",
   "execution_count": 2,
   "id": "c549ebd3",
   "metadata": {
    "ExecuteTime": {
     "end_time": "2022-08-28T07:13:21.101485Z",
     "start_time": "2022-08-28T07:13:19.924730Z"
    }
   },
   "outputs": [],
   "source": [
    "df = pd.read_csv(\"./datasets/tutorial_sleep_training_data.csv.gz\")\n",
    "df = df.dropna().reset_index(drop=True) # Remove HR nan values"
   ]
  },
  {
   "cell_type": "markdown",
   "id": "8dbc1644",
   "metadata": {},
   "source": [
    "# Non-ML State of the Art\n",
    "\n",
    "## Traditional algorithms:\n",
    "\n",
    "### Webster (1982)\n",
    "https://academic.oup.com/sleep/article/5/4/389/2753301\n",
    "\n",
    "### Cole-Kripke Algorithm (1992)\n",
    "https://pubmed.ncbi.nlm.nih.gov/1455130/\n",
    "\n",
    "### Sadeh algorithm (1994)\n",
    "https://pubmed.ncbi.nlm.nih.gov/7939118/\n",
    "\n",
    "### +20 years of optimizing/validating formulas with various datasets:\n",
    "- #### Oakley (1997) (Technical Report)\n",
    "- #### Saznov (2004) (https://iopscience.iop.org/article/10.1088/0967-3334/25/5/018)\n",
    "- #### Scripps Clinic (2010) (https://onlinelibrary.wiley.com/doi/epdf/10.1111/j.1365-2869.2010.00835.x/)\n",
    "\n",
    "\n",
    "### ~2009 start of ML for sleep/wake classification\n",
    "E.g. Tilmanne, J. et al (2009) (https://pubmed.ncbi.nlm.nih.gov/19250177/)\n",
    "        "
   ]
  },
  {
   "cell_type": "markdown",
   "id": "de08afb2",
   "metadata": {},
   "source": [
    "---\n",
    "#### The Cole-Kripke formula:\n",
    "<img src=\"images/cole-kripke.png\" width=\"400\" height=\"200\">\n",
    "\n",
    "\n",
    "## Outcomes:\n",
    "$\n",
    "\\begin{cases}\n",
    "\\color{blue}{D < 1}  &\\color{blue}{\\rightarrow \\text{Sleep}} \\\\\n",
    "\\color{red}{D \\geq 1} &\\color{red}{\\rightarrow \\text{Wake}}\n",
    "\\end{cases}\n",
    "$"
   ]
  },
  {
   "cell_type": "markdown",
   "id": "90c6a511",
   "metadata": {
    "ExecuteTime": {
     "end_time": "2022-08-28T08:05:02.866121Z",
     "start_time": "2022-08-28T08:05:02.862160Z"
    }
   },
   "source": [
    "<img src=\"images/timewindows_colekripke.png\" width=\"600\" height=\"200\">\n",
    "\n",
    "### What do you think about this algorithm?\n",
    "---\n"
   ]
  },
  {
   "cell_type": "code",
   "execution_count": 3,
   "id": "c8070930",
   "metadata": {
    "ExecuteTime": {
     "end_time": "2022-08-28T07:50:28.095200Z",
     "start_time": "2022-08-28T07:50:28.072818Z"
    }
   },
   "outputs": [],
   "source": [
    "def cole_kripke_algorithm(activity: pd.Series) -> pd.Series:\n",
    "    \"\"\"\n",
    "    Cole-Kripke method to classify sleep vs awake\n",
    "    \"\"\"\n",
    "    act_series = {}\n",
    "\n",
    "    act_series[\"_A0\"] = activity.fillna(0.0)\n",
    "    \n",
    "    for i in range(1, 5):\n",
    "        act_series[\"_A-%d\" % (i)] = activity.shift(i).fillna(0.0)\n",
    "        \n",
    "    for i in range(1, 3):\n",
    "        act_series[\"_A+%d\" % (i)] = activity.shift(-i).fillna(0.0)\n",
    "\n",
    "    w_m4, w_m3, w_m2, w_m1, w_0, w_p1, w_p2 = [404, 598, 326, 441, 1408, 508, 350]\n",
    "    p = 0.00001\n",
    "\n",
    "    cole_kripke = p * (w_m4 * act_series[\"_A-4\"] + w_m3 * act_series[\"_A-3\"] +\n",
    "                       w_m2 * act_series[\"_A-2\"] + w_m1 * act_series[\"_A-1\"] +\n",
    "                       w_0 * act_series[\"_A0\"] +\n",
    "                       w_p1 * act_series[\"_A+1\"] + w_p2 * act_series[\"_A+2\"])\n",
    "\n",
    "    cole_kripke.name = \"Cole_Kripke\"\n",
    "    return (cole_kripke < 1.0).astype(int)\n"
   ]
  },
  {
   "cell_type": "code",
   "execution_count": 4,
   "id": "a3f38ae8",
   "metadata": {
    "ExecuteTime": {
     "end_time": "2022-08-28T07:51:14.922784Z",
     "start_time": "2022-08-28T07:51:14.910740Z"
    }
   },
   "outputs": [],
   "source": [
    "df1 = df[df[\"pid\"] == 1].copy()"
   ]
  },
  {
   "cell_type": "code",
   "execution_count": 5,
   "id": "02855101",
   "metadata": {
    "ExecuteTime": {
     "end_time": "2022-08-28T07:51:21.517941Z",
     "start_time": "2022-08-28T07:51:21.507357Z"
    }
   },
   "outputs": [],
   "source": [
    "# Runs the cole kripke algorithm on the data of a single user\n",
    "df1[\"cole\"] = cole_kripke_algorithm(df1[\"act\"])"
   ]
  },
  {
   "cell_type": "code",
   "execution_count": 6,
   "id": "0f401f9a",
   "metadata": {
    "ExecuteTime": {
     "end_time": "2022-08-28T07:51:24.403042Z",
     "start_time": "2022-08-28T07:51:24.387370Z"
    }
   },
   "outputs": [
    {
     "data": {
      "text/html": [
       "<div>\n",
       "<style scoped>\n",
       "    .dataframe tbody tr th:only-of-type {\n",
       "        vertical-align: middle;\n",
       "    }\n",
       "\n",
       "    .dataframe tbody tr th {\n",
       "        vertical-align: top;\n",
       "    }\n",
       "\n",
       "    .dataframe thead th {\n",
       "        text-align: right;\n",
       "    }\n",
       "</style>\n",
       "<table border=\"1\" class=\"dataframe\">\n",
       "  <thead>\n",
       "    <tr style=\"text-align: right;\">\n",
       "      <th></th>\n",
       "      <th>time</th>\n",
       "      <th>act</th>\n",
       "      <th>sleep_phase</th>\n",
       "      <th>hr</th>\n",
       "      <th>pid</th>\n",
       "      <th>cole</th>\n",
       "    </tr>\n",
       "  </thead>\n",
       "  <tbody>\n",
       "    <tr>\n",
       "      <th>1279</th>\n",
       "      <td>29</td>\n",
       "      <td>1.0</td>\n",
       "      <td>0.0</td>\n",
       "      <td>66.0</td>\n",
       "      <td>1</td>\n",
       "      <td>1</td>\n",
       "    </tr>\n",
       "    <tr>\n",
       "      <th>1280</th>\n",
       "      <td>59</td>\n",
       "      <td>0.0</td>\n",
       "      <td>0.0</td>\n",
       "      <td>67.0</td>\n",
       "      <td>1</td>\n",
       "      <td>1</td>\n",
       "    </tr>\n",
       "    <tr>\n",
       "      <th>1281</th>\n",
       "      <td>89</td>\n",
       "      <td>0.0</td>\n",
       "      <td>1.0</td>\n",
       "      <td>66.0</td>\n",
       "      <td>1</td>\n",
       "      <td>1</td>\n",
       "    </tr>\n",
       "    <tr>\n",
       "      <th>1282</th>\n",
       "      <td>119</td>\n",
       "      <td>1.0</td>\n",
       "      <td>1.0</td>\n",
       "      <td>67.0</td>\n",
       "      <td>1</td>\n",
       "      <td>1</td>\n",
       "    </tr>\n",
       "    <tr>\n",
       "      <th>1283</th>\n",
       "      <td>149</td>\n",
       "      <td>1.0</td>\n",
       "      <td>1.0</td>\n",
       "      <td>64.0</td>\n",
       "      <td>1</td>\n",
       "      <td>1</td>\n",
       "    </tr>\n",
       "    <tr>\n",
       "      <th>...</th>\n",
       "      <td>...</td>\n",
       "      <td>...</td>\n",
       "      <td>...</td>\n",
       "      <td>...</td>\n",
       "      <td>...</td>\n",
       "      <td>...</td>\n",
       "    </tr>\n",
       "    <tr>\n",
       "      <th>2199</th>\n",
       "      <td>27629</td>\n",
       "      <td>1.0</td>\n",
       "      <td>2.0</td>\n",
       "      <td>65.0</td>\n",
       "      <td>1</td>\n",
       "      <td>1</td>\n",
       "    </tr>\n",
       "    <tr>\n",
       "      <th>2200</th>\n",
       "      <td>27659</td>\n",
       "      <td>0.0</td>\n",
       "      <td>2.0</td>\n",
       "      <td>69.0</td>\n",
       "      <td>1</td>\n",
       "      <td>1</td>\n",
       "    </tr>\n",
       "    <tr>\n",
       "      <th>2201</th>\n",
       "      <td>27689</td>\n",
       "      <td>18.0</td>\n",
       "      <td>0.0</td>\n",
       "      <td>96.0</td>\n",
       "      <td>1</td>\n",
       "      <td>1</td>\n",
       "    </tr>\n",
       "    <tr>\n",
       "      <th>2202</th>\n",
       "      <td>27719</td>\n",
       "      <td>44.0</td>\n",
       "      <td>0.0</td>\n",
       "      <td>89.0</td>\n",
       "      <td>1</td>\n",
       "      <td>0</td>\n",
       "    </tr>\n",
       "    <tr>\n",
       "      <th>2203</th>\n",
       "      <td>27749</td>\n",
       "      <td>145.0</td>\n",
       "      <td>0.0</td>\n",
       "      <td>57.0</td>\n",
       "      <td>1</td>\n",
       "      <td>0</td>\n",
       "    </tr>\n",
       "  </tbody>\n",
       "</table>\n",
       "<p>925 rows × 6 columns</p>\n",
       "</div>"
      ],
      "text/plain": [
       "       time    act  sleep_phase    hr  pid  cole\n",
       "1279     29    1.0          0.0  66.0    1     1\n",
       "1280     59    0.0          0.0  67.0    1     1\n",
       "1281     89    0.0          1.0  66.0    1     1\n",
       "1282    119    1.0          1.0  67.0    1     1\n",
       "1283    149    1.0          1.0  64.0    1     1\n",
       "...     ...    ...          ...   ...  ...   ...\n",
       "2199  27629    1.0          2.0  65.0    1     1\n",
       "2200  27659    0.0          2.0  69.0    1     1\n",
       "2201  27689   18.0          0.0  96.0    1     1\n",
       "2202  27719   44.0          0.0  89.0    1     0\n",
       "2203  27749  145.0          0.0  57.0    1     0\n",
       "\n",
       "[925 rows x 6 columns]"
      ]
     },
     "execution_count": 6,
     "metadata": {},
     "output_type": "execute_result"
    }
   ],
   "source": [
    "df1"
   ]
  },
  {
   "cell_type": "code",
   "execution_count": 7,
   "id": "d334978a",
   "metadata": {},
   "outputs": [],
   "source": [
    "def scripps_clinic_algorithm(activity, scaler=0.204):\n",
    "\n",
    "    act_series = dict()\n",
    "    act_series[\"_a0\"] = activity.fillna(0.0)\n",
    "\n",
    "    # Enrich the dataframe with temporary values\n",
    "    for i in range(1, 11):\n",
    "        act_series[\"_a-%d\" % (i)] = activity.shift(i).fillna(0.0)\n",
    "        act_series[\"_a+%d\" % (i)] = activity.shift(-i).fillna(0.0)\n",
    "\n",
    "    # Calculates Scripps clinic algorithm\n",
    "    scripps = scaler * (0.0064 * act_series[\"_a-10\"] + 0.0074 * act_series[\"_a-9\"] +\n",
    "                        0.0112 * act_series[\"_a-8\"] + 0.0112 * act_series[\"_a-7\"] +\n",
    "                        0.0118 * act_series[\"_a-6\"] + 0.0118 * act_series[\"_a-5\"] +\n",
    "                        0.0128 * act_series[\"_a-4\"] + 0.0188 * act_series[\"_a-3\"] +\n",
    "                        0.0280 * act_series[\"_a-2\"] + 0.0664 * act_series[\"_a-1\"] +\n",
    "                        0.0300 * act_series[\"_a0\"] + 0.0112 * act_series[\"_a+1\"] +\n",
    "                        0.0100 * act_series[\"_a+2\"])\n",
    "\n",
    "    scripps.name = \"ScrippsClinic\"\n",
    "    # Returns a series with binary values: 1 for sleep, 0 for awake\n",
    "    return (scripps < 1.0).astype(int)"
   ]
  },
  {
   "cell_type": "markdown",
   "id": "d2286f20",
   "metadata": {},
   "source": [
    "# Result Exploration"
   ]
  },
  {
   "cell_type": "code",
   "execution_count": 8,
   "id": "6f08be4d",
   "metadata": {},
   "outputs": [],
   "source": [
    "def data_exploration(df, sleep_col=\"sleep_phase\", other_col=\"cole\"):\n",
    "    \n",
    "    fig, (ax1, ax2, ax3, ax4) = plt.subplots(4, 1, sharex=True)\n",
    "    \n",
    "    df[[\"time\", \"act\"]].plot(x=\"time\", y=\"act\", ax=ax1, color=\"green\")\n",
    "    df[[\"time\", \"hr\"]].plot(x=\"time\", y=\"hr\", ax=ax2, color=\"red\")\n",
    "    df[[\"time\", sleep_col]].plot(x=\"time\", y=sleep_col,  ax=ax3, color=\"blue\")\n",
    "    df[[\"time\", other_col]].plot(x=\"time\", y=other_col,  ax=ax4, color=\"purple\")\n",
    "    \n",
    "    ax1.legend(loc='center left', bbox_to_anchor=(1.0, 0.5))\n",
    "    ax2.legend(loc='center left', bbox_to_anchor=(1.0, 0.5))\n",
    "    ax3.legend(loc='center left', bbox_to_anchor=(1.0, 0.5))\n",
    "    ax4.legend(loc='center left', bbox_to_anchor=(1.0, 0.5))\n",
    "    plt.show()\n",
    "\n"
   ]
  },
  {
   "cell_type": "code",
   "execution_count": 9,
   "id": "e54deb98",
   "metadata": {},
   "outputs": [],
   "source": [
    "# Note that we need to group the dataframe per participant (pid) before applying the algorithm \n",
    "df[\"cole\"] = df.groupby(\"pid\")[\"act\"].apply(cole_kripke_algorithm)"
   ]
  },
  {
   "cell_type": "code",
   "execution_count": 10,
   "id": "4aec916f",
   "metadata": {},
   "outputs": [
    {
     "data": {
      "image/png": "[encoded data removed]",
      "text/plain": [
       "<Figure size 640x480 with 4 Axes>"
      ]
     },
     "metadata": {},
     "output_type": "display_data"
    }
   ],
   "source": [
    "data_exploration(df[df[\"pid\"] == 20])"
   ]
  },
  {
   "cell_type": "markdown",
   "id": "37ed5170",
   "metadata": {},
   "source": [
    "# Result Evaluation"
   ]
  },
  {
   "cell_type": "code",
   "execution_count": 11,
   "id": "e4c07aa9",
   "metadata": {},
   "outputs": [
    {
     "data": {
      "text/plain": [
       "0.7869899571257741"
      ]
     },
     "execution_count": 11,
     "metadata": {},
     "output_type": "execute_result"
    }
   ],
   "source": [
    "from sklearn import metrics\n",
    "metrics.accuracy_score(df[\"sleep_phase\"] > 0, df[\"cole\"])"
   ]
  }
 ],
 "metadata": {
  "kernelspec": {
   "display_name": "Python 3 (ipykernel)",
   "language": "python",
   "name": "python3"
  },
  "language_info": {
   "codemirror_mode": {
    "name": "ipython",
    "version": 3
   },
   "file_extension": ".py",
   "mimetype": "text/x-python",
   "name": "python",
   "nbconvert_exporter": "python",
   "pygments_lexer": "ipython3",
   "version": "3.8.13"
  }
 },
 "nbformat": 4,
 "nbformat_minor": 5
}
