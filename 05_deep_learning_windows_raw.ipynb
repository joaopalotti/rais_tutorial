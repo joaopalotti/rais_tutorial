{
 "cells": [
  {
   "cell_type": "markdown",
   "id": "965230af",
   "metadata": {},
   "source": [
    "# Alternative 1 - On raw signal"
   ]
  },
  {
   "cell_type": "code",
   "execution_count": 191,
   "id": "47c78f53",
   "metadata": {
    "ExecuteTime": {
     "end_time": "2022-09-04T13:37:15.685945Z",
     "start_time": "2022-09-04T13:37:15.582578Z"
    }
   },
   "outputs": [],
   "source": [
    "import pandas as pd\n",
    "import numpy as np\n",
    "import keras\n",
    "import tensorflow as tf"
   ]
  },
  {
   "cell_type": "code",
   "execution_count": 34,
   "id": "ecc00a62",
   "metadata": {
    "ExecuteTime": {
     "end_time": "2022-09-04T09:57:48.337936Z",
     "start_time": "2022-09-04T09:57:47.869247Z"
    }
   },
   "outputs": [
    {
     "data": {
      "text/html": [
       "<div>\n",
       "<style scoped>\n",
       "    .dataframe tbody tr th:only-of-type {\n",
       "        vertical-align: middle;\n",
       "    }\n",
       "\n",
       "    .dataframe tbody tr th {\n",
       "        vertical-align: top;\n",
       "    }\n",
       "\n",
       "    .dataframe thead th {\n",
       "        text-align: right;\n",
       "    }\n",
       "</style>\n",
       "<table border=\"1\" class=\"dataframe\">\n",
       "  <thead>\n",
       "    <tr style=\"text-align: right;\">\n",
       "      <th></th>\n",
       "      <th>pid</th>\n",
       "      <th>time</th>\n",
       "      <th>id</th>\n",
       "      <th>sort</th>\n",
       "      <th>sleep_phase</th>\n",
       "      <th>act_0</th>\n",
       "      <th>act_1</th>\n",
       "      <th>act_2</th>\n",
       "      <th>act_3</th>\n",
       "      <th>act_4</th>\n",
       "      <th>...</th>\n",
       "      <th>hr_3</th>\n",
       "      <th>hr_4</th>\n",
       "      <th>hr_5</th>\n",
       "      <th>hr_6</th>\n",
       "      <th>hr_7</th>\n",
       "      <th>hr_8</th>\n",
       "      <th>hr_9</th>\n",
       "      <th>hr_10</th>\n",
       "      <th>hr_11</th>\n",
       "      <th>hr_12</th>\n",
       "    </tr>\n",
       "  </thead>\n",
       "  <tbody>\n",
       "    <tr>\n",
       "      <th>0</th>\n",
       "      <td>1</td>\n",
       "      <td>29</td>\n",
       "      <td>(1, 0)</td>\n",
       "      <td>0</td>\n",
       "      <td>0.0</td>\n",
       "      <td>0.0</td>\n",
       "      <td>0.0</td>\n",
       "      <td>0.0</td>\n",
       "      <td>0.0</td>\n",
       "      <td>0.0</td>\n",
       "      <td>...</td>\n",
       "      <td>0.0</td>\n",
       "      <td>0.0</td>\n",
       "      <td>0.0</td>\n",
       "      <td>0.0</td>\n",
       "      <td>0.0</td>\n",
       "      <td>0.0</td>\n",
       "      <td>0.0</td>\n",
       "      <td>0.0</td>\n",
       "      <td>0.0</td>\n",
       "      <td>0.0</td>\n",
       "    </tr>\n",
       "    <tr>\n",
       "      <th>1</th>\n",
       "      <td>1</td>\n",
       "      <td>59</td>\n",
       "      <td>(1, 1)</td>\n",
       "      <td>1</td>\n",
       "      <td>0.0</td>\n",
       "      <td>0.0</td>\n",
       "      <td>0.0</td>\n",
       "      <td>0.0</td>\n",
       "      <td>0.0</td>\n",
       "      <td>0.0</td>\n",
       "      <td>...</td>\n",
       "      <td>0.0</td>\n",
       "      <td>0.0</td>\n",
       "      <td>0.0</td>\n",
       "      <td>0.0</td>\n",
       "      <td>0.0</td>\n",
       "      <td>0.0</td>\n",
       "      <td>0.0</td>\n",
       "      <td>0.0</td>\n",
       "      <td>0.0</td>\n",
       "      <td>0.0</td>\n",
       "    </tr>\n",
       "    <tr>\n",
       "      <th>2</th>\n",
       "      <td>1</td>\n",
       "      <td>89</td>\n",
       "      <td>(1, 2)</td>\n",
       "      <td>2</td>\n",
       "      <td>0.0</td>\n",
       "      <td>0.0</td>\n",
       "      <td>0.0</td>\n",
       "      <td>0.0</td>\n",
       "      <td>0.0</td>\n",
       "      <td>0.0</td>\n",
       "      <td>...</td>\n",
       "      <td>0.0</td>\n",
       "      <td>0.0</td>\n",
       "      <td>0.0</td>\n",
       "      <td>0.0</td>\n",
       "      <td>0.0</td>\n",
       "      <td>0.0</td>\n",
       "      <td>0.0</td>\n",
       "      <td>0.0</td>\n",
       "      <td>0.0</td>\n",
       "      <td>0.0</td>\n",
       "    </tr>\n",
       "    <tr>\n",
       "      <th>3</th>\n",
       "      <td>1</td>\n",
       "      <td>119</td>\n",
       "      <td>(1, 3)</td>\n",
       "      <td>3</td>\n",
       "      <td>0.0</td>\n",
       "      <td>0.0</td>\n",
       "      <td>0.0</td>\n",
       "      <td>0.0</td>\n",
       "      <td>0.0</td>\n",
       "      <td>0.0</td>\n",
       "      <td>...</td>\n",
       "      <td>75.0</td>\n",
       "      <td>0.0</td>\n",
       "      <td>0.0</td>\n",
       "      <td>0.0</td>\n",
       "      <td>0.0</td>\n",
       "      <td>0.0</td>\n",
       "      <td>0.0</td>\n",
       "      <td>0.0</td>\n",
       "      <td>0.0</td>\n",
       "      <td>0.0</td>\n",
       "    </tr>\n",
       "    <tr>\n",
       "      <th>4</th>\n",
       "      <td>1</td>\n",
       "      <td>149</td>\n",
       "      <td>(1, 4)</td>\n",
       "      <td>4</td>\n",
       "      <td>0.0</td>\n",
       "      <td>0.0</td>\n",
       "      <td>0.0</td>\n",
       "      <td>0.0</td>\n",
       "      <td>0.0</td>\n",
       "      <td>85.0</td>\n",
       "      <td>...</td>\n",
       "      <td>75.0</td>\n",
       "      <td>80.0</td>\n",
       "      <td>0.0</td>\n",
       "      <td>0.0</td>\n",
       "      <td>0.0</td>\n",
       "      <td>0.0</td>\n",
       "      <td>0.0</td>\n",
       "      <td>0.0</td>\n",
       "      <td>0.0</td>\n",
       "      <td>0.0</td>\n",
       "    </tr>\n",
       "  </tbody>\n",
       "</table>\n",
       "<p>5 rows × 31 columns</p>\n",
       "</div>"
      ],
      "text/plain": [
       "   pid  time      id  sort  sleep_phase  act_0  act_1  act_2  act_3  act_4  \\\n",
       "0    1    29  (1, 0)     0          0.0    0.0    0.0    0.0    0.0    0.0   \n",
       "1    1    59  (1, 1)     1          0.0    0.0    0.0    0.0    0.0    0.0   \n",
       "2    1    89  (1, 2)     2          0.0    0.0    0.0    0.0    0.0    0.0   \n",
       "3    1   119  (1, 3)     3          0.0    0.0    0.0    0.0    0.0    0.0   \n",
       "4    1   149  (1, 4)     4          0.0    0.0    0.0    0.0    0.0   85.0   \n",
       "\n",
       "   ...  hr_3  hr_4  hr_5  hr_6  hr_7  hr_8  hr_9  hr_10  hr_11  hr_12  \n",
       "0  ...   0.0   0.0   0.0   0.0   0.0   0.0   0.0    0.0    0.0    0.0  \n",
       "1  ...   0.0   0.0   0.0   0.0   0.0   0.0   0.0    0.0    0.0    0.0  \n",
       "2  ...   0.0   0.0   0.0   0.0   0.0   0.0   0.0    0.0    0.0    0.0  \n",
       "3  ...  75.0   0.0   0.0   0.0   0.0   0.0   0.0    0.0    0.0    0.0  \n",
       "4  ...  75.0  80.0   0.0   0.0   0.0   0.0   0.0    0.0    0.0    0.0  \n",
       "\n",
       "[5 rows x 31 columns]"
      ]
     },
     "execution_count": 34,
     "metadata": {},
     "output_type": "execute_result"
    }
   ],
   "source": [
    "df = pd.read_csv(\"./datasets/df_raw_features.tar.gz\")\n",
    "df.head()"
   ]
  },
  {
   "cell_type": "code",
   "execution_count": 193,
   "id": "2aa13f98",
   "metadata": {
    "ExecuteTime": {
     "end_time": "2022-09-04T13:37:31.669873Z",
     "start_time": "2022-09-04T13:37:31.633859Z"
    }
   },
   "outputs": [
    {
     "data": {
      "text/plain": [
       "array([0., 1., 2., 5., 3., 4.])"
      ]
     },
     "execution_count": 193,
     "metadata": {},
     "output_type": "execute_result"
    }
   ],
   "source": [
    "df[\"sleep_phase\"].unique()\n",
    "# 0 -> Wake\n",
    "# 1 -> phase 1 (light sleep)\n",
    "# 2 -> phase 2 (deep sleep N1)\n",
    "# 3 -> phase 3 (deep sleep N2)\n",
    "# 4 -> NREM    ()\n",
    "# 5 -> REM"
   ]
  },
  {
   "cell_type": "code",
   "execution_count": 194,
   "id": "6ff4ce29",
   "metadata": {
    "ExecuteTime": {
     "end_time": "2022-09-04T13:37:32.249004Z",
     "start_time": "2022-09-04T13:37:32.215300Z"
    }
   },
   "outputs": [],
   "source": [
    "df[\"bin_sleep_phase\"] = df[\"sleep_phase\"] > 0"
   ]
  },
  {
   "cell_type": "markdown",
   "id": "e213d03c",
   "metadata": {
    "ExecuteTime": {
     "end_time": "2022-09-04T13:37:32.769073Z",
     "start_time": "2022-09-04T13:37:32.755931Z"
    }
   },
   "source": [
    "\n",
    "- Model input (S, 2, 13): \n",
    "                       [\n",
    "                        [hr_0, hr_1, hr_2   ....hr_12]\n",
    "                        [act_0, act_1, act_2....act_12]\n",
    "                       ]\n",
    "- Model output:\n",
    "    - (S, 1) (bin sleep phase)\n",
    "    - (S, X) (sleep_)\n",
    "\n"
   ]
  },
  {
   "cell_type": "markdown",
   "id": "fc870fd9",
   "metadata": {},
   "source": [
    "### Get XY from dataframe"
   ]
  },
  {
   "cell_type": "code",
   "execution_count": 196,
   "id": "e6c34045",
   "metadata": {
    "ExecuteTime": {
     "end_time": "2022-09-04T13:38:27.036121Z",
     "start_time": "2022-09-04T13:38:27.018691Z"
    }
   },
   "outputs": [],
   "source": [
    "def generate_XY(df, ycol=\"bin_sleep_phase\"):\n",
    "    \n",
    "    hr_cols = [k for k in df.keys() if k.startswith(\"hr_\")]\n",
    "    act_cols = [k for k in df.keys() if k.startswith(\"act_\")]\n",
    "\n",
    "    hr = df[hr_cols].values\n",
    "    act = df[act_cols].values\n",
    "    \n",
    "    Y  = df[ycol].values.reshape(-1, 1)\n",
    "\n",
    "    X = np.stack((act,hr))\n",
    "    X = X.transpose(1,0,2)\n",
    "    \n",
    "    return X, Y\n"
   ]
  },
  {
   "cell_type": "code",
   "execution_count": 197,
   "id": "36834b34",
   "metadata": {
    "ExecuteTime": {
     "end_time": "2022-09-04T13:38:31.723727Z",
     "start_time": "2022-09-04T13:38:31.135680Z"
    }
   },
   "outputs": [
    {
     "data": {
      "text/plain": [
       "pid\n",
       "1     ([[[0. 0. 0. 0. 0. 0. 0. 0. 0. 0. 0. 0. 0.], [...\n",
       "16    ([[[0. 0. 0. 0. 0. 0. 0. 0. 0. 0. 0. 0. 0.], [...\n",
       "21    ([[[ 0.  0.  0.  0.  0.  0.  0.  0.  0.  0.  0...\n",
       "28    ([[[0. 0. 0. 0. 0. 0. 0. 0. 0. 0. 0. 0. 0.], [...\n",
       "33    ([[[0. 0. 0. 0. 0. 0. 0. 0. 0. 0. 0. 0. 0.], [...\n",
       "dtype: object"
      ]
     },
     "execution_count": 197,
     "metadata": {},
     "output_type": "execute_result"
    }
   ],
   "source": [
    "df_XY = df.groupby(\"pid\").apply(lambda x: generate_XY(x))\n",
    "df_XY.head()"
   ]
  },
  {
   "cell_type": "code",
   "execution_count": 198,
   "id": "5cf48cc6",
   "metadata": {
    "ExecuteTime": {
     "end_time": "2022-09-04T13:38:32.332517Z",
     "start_time": "2022-09-04T13:38:32.320303Z"
    }
   },
   "outputs": [
    {
     "data": {
      "text/plain": [
       "((1075, 2, 13), (1075, 1))"
      ]
     },
     "execution_count": 198,
     "metadata": {},
     "output_type": "execute_result"
    }
   ],
   "source": [
    "idx = 2\n",
    "df_XY.iloc[idx][0].shape, df_XY.iloc[idx][1].shape"
   ]
  },
  {
   "cell_type": "code",
   "execution_count": 199,
   "id": "caf259c7",
   "metadata": {
    "ExecuteTime": {
     "end_time": "2022-09-04T13:38:33.664697Z",
     "start_time": "2022-09-04T13:38:33.658035Z"
    }
   },
   "outputs": [],
   "source": [
    "xs, ys = [], []\n",
    "for row_id, (x, y) in df_XY.items():\n",
    "    xs.append(x)\n",
    "    ys.append(y)\n",
    "    \n",
    "xs = np.array(xs, dtype=object)\n",
    "ys = np.array(ys, dtype=object)\n"
   ]
  },
  {
   "cell_type": "code",
   "execution_count": 200,
   "id": "939d5eb3",
   "metadata": {
    "ExecuteTime": {
     "end_time": "2022-09-04T13:38:35.031579Z",
     "start_time": "2022-09-04T13:38:35.025178Z"
    }
   },
   "outputs": [
    {
     "data": {
      "text/plain": [
       "((3504, 2, 13), (3504, 1))"
      ]
     },
     "execution_count": 200,
     "metadata": {},
     "output_type": "execute_result"
    }
   ],
   "source": [
    "# Now we can create a simple trainset from the dataset making sure that\n",
    "# data from one subject is NOT at the same time in the training and in the test sets\n",
    "subjects_train_idx = [1, 2, 3, 4]    \n",
    "np.vstack(xs[subjects_train_idx]).shape, np.vstack(ys[subjects_train_idx]).shape"
   ]
  },
  {
   "cell_type": "code",
   "execution_count": 201,
   "id": "ff3c01a7",
   "metadata": {
    "ExecuteTime": {
     "end_time": "2022-09-04T13:38:35.787208Z",
     "start_time": "2022-09-04T13:38:35.489766Z"
    }
   },
   "outputs": [],
   "source": [
    "subjects_train_idx = range(100)\n",
    "X_train = np.vstack(xs[subjects_train_idx])\n",
    "Y_train = np.vstack(ys[subjects_train_idx])\n",
    "\n",
    "subjects_test_idx = range(100, 150)\n",
    "X_val = np.vstack(xs[subjects_test_idx])\n",
    "Y_val = np.vstack(ys[subjects_test_idx])\n",
    "\n",
    "subjects_test_idx = range(150, 200)\n",
    "X_test = np.vstack(xs[subjects_test_idx])\n",
    "Y_test = np.vstack(ys[subjects_test_idx])\n"
   ]
  },
  {
   "cell_type": "markdown",
   "id": "237d7b31",
   "metadata": {
    "ExecuteTime": {
     "end_time": "2022-09-04T12:35:56.999748Z",
     "start_time": "2022-09-04T12:35:56.993110Z"
    }
   },
   "source": [
    "### Evaluate a few models"
   ]
  },
  {
   "cell_type": "code",
   "execution_count": 202,
   "id": "d950302c",
   "metadata": {
    "ExecuteTime": {
     "end_time": "2022-09-04T13:38:38.649377Z",
     "start_time": "2022-09-04T13:38:36.763975Z"
    }
   },
   "outputs": [],
   "source": [
    "def simple_dense_model():\n",
    "    model = tf.keras.models.Sequential()\n",
    "    model.add(tf.keras.layers.Dense(12, input_shape=(2, 13), activation='relu'))\n",
    "    model.add(tf.keras.layers.Dense(8, activation='relu'))\n",
    "    model.add(tf.keras.layers.Dense(1, activation='sigmoid'))\n",
    "\n",
    "    model.compile(loss='binary_crossentropy', optimizer='adam', metrics=['accuracy'])\n",
    "    return model\n",
    "\n",
    "simple_model = simple_dense_model()\n",
    "  "
   ]
  },
  {
   "cell_type": "code",
   "execution_count": 204,
   "id": "89298e6c",
   "metadata": {
    "ExecuteTime": {
     "end_time": "2022-09-04T13:49:34.563812Z",
     "start_time": "2022-09-04T13:40:50.250573Z"
    }
   },
   "outputs": [
    {
     "name": "stdout",
     "output_type": "stream",
     "text": [
      "Epoch 1/50\n",
      "12858/12858 [==============================] - 59s 5ms/step - loss: 0.4959 - accuracy: 0.7731 - val_loss: 0.4672 - val_accuracy: 0.7991\n",
      "Epoch 2/50\n",
      "12858/12858 [==============================] - 64s 5ms/step - loss: 0.4926 - accuracy: 0.7755 - val_loss: 0.4611 - val_accuracy: 0.8016\n",
      "Epoch 3/50\n",
      "12858/12858 [==============================] - 69s 5ms/step - loss: 0.4904 - accuracy: 0.7768 - val_loss: 0.4599 - val_accuracy: 0.7995\n",
      "Epoch 4/50\n",
      "12858/12858 [==============================] - 75s 6ms/step - loss: 0.4892 - accuracy: 0.7779 - val_loss: 0.4539 - val_accuracy: 0.8039\n",
      "Epoch 5/50\n",
      "12858/12858 [==============================] - 61s 5ms/step - loss: 0.4881 - accuracy: 0.7790 - val_loss: 0.4555 - val_accuracy: 0.8049\n",
      "Epoch 6/50\n",
      "12858/12858 [==============================] - 51s 4ms/step - loss: 0.4879 - accuracy: 0.7790 - val_loss: 0.4514 - val_accuracy: 0.8058\n",
      "Epoch 7/50\n",
      "12858/12858 [==============================] - 47s 4ms/step - loss: 0.4867 - accuracy: 0.7798 - val_loss: 0.4531 - val_accuracy: 0.8063\n",
      "Epoch 8/50\n",
      "12858/12858 [==============================] - 49s 4ms/step - loss: 0.4865 - accuracy: 0.7800 - val_loss: 0.4561 - val_accuracy: 0.8063\n",
      "Epoch 9/50\n",
      "12858/12858 [==============================] - 48s 4ms/step - loss: 0.4858 - accuracy: 0.7803 - val_loss: 0.4568 - val_accuracy: 0.8033\n"
     ]
    }
   ],
   "source": [
    "early_stop_callback = tf.keras.callbacks.EarlyStopping(monitor='val_loss', patience=3)\n",
    "history = simple_model.fit(X_train, Y_train, \n",
    "                           validation_data=(X_val, Y_val), \n",
    "                           epochs=50, \n",
    "                           batch_size=8,\n",
    "                           callbacks=[early_stop_callback])\n"
   ]
  },
  {
   "cell_type": "code",
   "execution_count": 205,
   "id": "eb9ac7c1",
   "metadata": {
    "ExecuteTime": {
     "end_time": "2022-09-04T14:27:01.633622Z",
     "start_time": "2022-09-04T14:26:58.304941Z"
    }
   },
   "outputs": [
    {
     "name": "stdout",
     "output_type": "stream",
     "text": [
      "1603/1603 [==============================] - 3s 2ms/step - loss: 0.4985 - accuracy: 0.7755\n"
     ]
    },
    {
     "data": {
      "text/plain": [
       "[0.4985067546367645, 0.7754501104354858]"
      ]
     },
     "execution_count": 205,
     "metadata": {},
     "output_type": "execute_result"
    }
   ],
   "source": [
    "simple_model.evaluate(x=X_test, y=Y_test)"
   ]
  },
  {
   "cell_type": "code",
   "execution_count": 185,
   "id": "8c4810c7",
   "metadata": {
    "ExecuteTime": {
     "end_time": "2022-09-04T12:17:33.369358Z",
     "start_time": "2022-09-04T12:17:33.348483Z"
    }
   },
   "outputs": [],
   "source": [
    "def cnn_lstm_model(cnn_d = 10, lstm_d = 4):\n",
    "    model = tf.keras.models.Sequential()\n",
    "    model.add(tf.keras.layers.Conv1D(cnn_d, kernel_size=(3,), padding='same'))\n",
    "    model.add(tf.keras.layers.BatchNormalization(epsilon=1e-06, axis=-1, momentum=0.9))\n",
    "    model.add(tf.keras.layers.Activation(tf.nn.relu))\n",
    "    \n",
    "    model.add(tf.keras.layers.Dropout(0.1))\n",
    "    model.add(tf.keras.layers.LSTM(lstm_d, return_sequences=False))\n",
    "    model.add(tf.keras.layers.Dense(1, activation=\"sigmoid\", name='output'))\n",
    "    \n",
    "    model.compile(loss='binary_crossentropy', optimizer='adam', metrics=['accuracy'])\n",
    "    return model\n",
    "\n",
    "cnnlstm_model = cnn_lstm_model()"
   ]
  },
  {
   "cell_type": "code",
   "execution_count": 186,
   "id": "e3050a13",
   "metadata": {
    "ExecuteTime": {
     "end_time": "2022-09-04T12:27:50.853120Z",
     "start_time": "2022-09-04T12:17:33.706069Z"
    }
   },
   "outputs": [
    {
     "name": "stdout",
     "output_type": "stream",
     "text": [
      "Epoch 1/50\n"
     ]
    },
    {
     "name": "stderr",
     "output_type": "stream",
     "text": [
      "2022-09-04 15:17:35.898353: I tensorflow/stream_executor/cuda/cuda_dnn.cc:384] Loaded cuDNN version 8101\n"
     ]
    },
    {
     "name": "stdout",
     "output_type": "stream",
     "text": [
      "12858/12858 [==============================] - 80s 6ms/step - loss: 0.4392 - accuracy: 0.8155 - val_loss: 0.3893 - val_accuracy: 0.8397\n",
      "Epoch 2/50\n",
      "12858/12858 [==============================] - 74s 6ms/step - loss: 0.4217 - accuracy: 0.8223 - val_loss: 0.3886 - val_accuracy: 0.8431\n",
      "Epoch 3/50\n",
      "12858/12858 [==============================] - 76s 6ms/step - loss: 0.4166 - accuracy: 0.8238 - val_loss: 0.3829 - val_accuracy: 0.8416\n",
      "Epoch 4/50\n",
      "12858/12858 [==============================] - 76s 6ms/step - loss: 0.4138 - accuracy: 0.8255 - val_loss: 0.3810 - val_accuracy: 0.8439\n",
      "Epoch 5/50\n",
      "12858/12858 [==============================] - 78s 6ms/step - loss: 0.4121 - accuracy: 0.8260 - val_loss: 0.3769 - val_accuracy: 0.8454\n",
      "Epoch 6/50\n",
      "12858/12858 [==============================] - 78s 6ms/step - loss: 0.4105 - accuracy: 0.8265 - val_loss: 0.3936 - val_accuracy: 0.8436\n",
      "Epoch 7/50\n",
      "12858/12858 [==============================] - 79s 6ms/step - loss: 0.4099 - accuracy: 0.8257 - val_loss: 0.3876 - val_accuracy: 0.8435\n",
      "Epoch 8/50\n",
      "12858/12858 [==============================] - 77s 6ms/step - loss: 0.4083 - accuracy: 0.8267 - val_loss: 0.3943 - val_accuracy: 0.8413\n"
     ]
    }
   ],
   "source": [
    "early_stop_callback = tf.keras.callbacks.EarlyStopping(monitor='val_loss', patience=3)\n",
    "history = cnnlstm_model.fit(X_train, Y_train, \n",
    "                           validation_data=(X_val, Y_val), \n",
    "                           epochs=50, \n",
    "                           batch_size=8,\n",
    "                           callbacks=[early_stop_callback])"
   ]
  },
  {
   "cell_type": "code",
   "execution_count": 187,
   "id": "d9ac117e",
   "metadata": {
    "ExecuteTime": {
     "end_time": "2022-09-04T12:34:05.103116Z",
     "start_time": "2022-09-04T12:34:01.835432Z"
    }
   },
   "outputs": [
    {
     "name": "stdout",
     "output_type": "stream",
     "text": [
      "1603/1603 [==============================] - 3s 2ms/step - loss: 0.4965 - accuracy: 0.7755\n"
     ]
    },
    {
     "data": {
      "text/plain": [
       "[0.49647629261016846, 0.7755085825920105]"
      ]
     },
     "execution_count": 187,
     "metadata": {},
     "output_type": "execute_result"
    }
   ],
   "source": [
    "cnnlstm_model.evaluate(x=X_test, y=Y_test)"
   ]
  },
  {
   "cell_type": "code",
   "execution_count": null,
   "id": "d5e1a0d1",
   "metadata": {},
   "outputs": [],
   "source": []
  }
 ],
 "metadata": {
  "kernelspec": {
   "display_name": "Python 3 (ipykernel)",
   "language": "python",
   "name": "python3"
  },
  "language_info": {
   "codemirror_mode": {
    "name": "ipython",
    "version": 3
   },
   "file_extension": ".py",
   "mimetype": "text/x-python",
   "name": "python",
   "nbconvert_exporter": "python",
   "pygments_lexer": "ipython3",
   "version": "3.8.13"
  }
 },
 "nbformat": 4,
 "nbformat_minor": 5
}
