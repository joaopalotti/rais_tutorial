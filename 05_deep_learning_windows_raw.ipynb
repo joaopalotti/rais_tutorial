{
 "cells": [
  {
   "cell_type": "markdown",
   "id": "965230af",
   "metadata": {},
   "source": [
    "# Alternative 1 - Deep Learning on the raw signal\n",
    "\n",
    "<img src=\"images/feature_set_summary.jpg\" width=\"1000\" height=\"1000\">\n"
   ]
  },
  {
   "cell_type": "code",
   "execution_count": 1,
   "id": "47c78f53",
   "metadata": {
    "ExecuteTime": {
     "end_time": "2022-09-04T13:37:15.685945Z",
     "start_time": "2022-09-04T13:37:15.582578Z"
    }
   },
   "outputs": [],
   "source": [
    "import pandas as pd\n",
    "import numpy as np\n",
    "import keras\n",
    "import tensorflow as tf\n",
    "from sklearn import metrics\n",
    "\n",
    "tf.random.set_seed(0)\n",
    "np.random.seed(0)\n",
    "\n",
    "def classification_results(y, yhat):\n",
    "    acc = metrics.accuracy_score(y, yhat)\n",
    "    mcc = metrics.matthews_corrcoef(y, yhat)\n",
    "    f1_weighted = metrics.f1_score(y, yhat, average=\"weighted\")\n",
    "    return acc, mcc, f1_weighted"
   ]
  },
  {
   "cell_type": "code",
   "execution_count": 2,
   "id": "ecc00a62",
   "metadata": {
    "ExecuteTime": {
     "end_time": "2022-09-04T09:57:48.337936Z",
     "start_time": "2022-09-04T09:57:47.869247Z"
    }
   },
   "outputs": [
    {
     "name": "stdout",
     "output_type": "stream",
     "text": [
      "Number of PIDs: 100\n"
     ]
    },
    {
     "data": {
      "text/html": [
       "<div>\n",
       "<style scoped>\n",
       "    .dataframe tbody tr th:only-of-type {\n",
       "        vertical-align: middle;\n",
       "    }\n",
       "\n",
       "    .dataframe tbody tr th {\n",
       "        vertical-align: top;\n",
       "    }\n",
       "\n",
       "    .dataframe thead th {\n",
       "        text-align: right;\n",
       "    }\n",
       "</style>\n",
       "<table border=\"1\" class=\"dataframe\">\n",
       "  <thead>\n",
       "    <tr style=\"text-align: right;\">\n",
       "      <th></th>\n",
       "      <th>pid</th>\n",
       "      <th>time</th>\n",
       "      <th>id</th>\n",
       "      <th>sort</th>\n",
       "      <th>sleep_phase</th>\n",
       "      <th>act_0</th>\n",
       "      <th>act_1</th>\n",
       "      <th>act_2</th>\n",
       "      <th>act_3</th>\n",
       "      <th>act_4</th>\n",
       "      <th>...</th>\n",
       "      <th>hr_1</th>\n",
       "      <th>hr_2</th>\n",
       "      <th>hr_3</th>\n",
       "      <th>hr_4</th>\n",
       "      <th>hr_5</th>\n",
       "      <th>hr_6</th>\n",
       "      <th>hr_7</th>\n",
       "      <th>hr_8</th>\n",
       "      <th>hr_9</th>\n",
       "      <th>hr_10</th>\n",
       "    </tr>\n",
       "  </thead>\n",
       "  <tbody>\n",
       "    <tr>\n",
       "      <th>0</th>\n",
       "      <td>0</td>\n",
       "      <td>29</td>\n",
       "      <td>(0, 0)</td>\n",
       "      <td>0</td>\n",
       "      <td>0.0</td>\n",
       "      <td>0.0</td>\n",
       "      <td>0.0</td>\n",
       "      <td>0.0</td>\n",
       "      <td>0.0</td>\n",
       "      <td>0.0</td>\n",
       "      <td>...</td>\n",
       "      <td>0.0</td>\n",
       "      <td>0.0</td>\n",
       "      <td>0.0</td>\n",
       "      <td>0.0</td>\n",
       "      <td>0.0</td>\n",
       "      <td>0.0</td>\n",
       "      <td>0.0</td>\n",
       "      <td>0.0</td>\n",
       "      <td>0.0</td>\n",
       "      <td>71.0</td>\n",
       "    </tr>\n",
       "    <tr>\n",
       "      <th>1</th>\n",
       "      <td>0</td>\n",
       "      <td>59</td>\n",
       "      <td>(0, 1)</td>\n",
       "      <td>1</td>\n",
       "      <td>0.0</td>\n",
       "      <td>0.0</td>\n",
       "      <td>0.0</td>\n",
       "      <td>0.0</td>\n",
       "      <td>0.0</td>\n",
       "      <td>0.0</td>\n",
       "      <td>...</td>\n",
       "      <td>0.0</td>\n",
       "      <td>0.0</td>\n",
       "      <td>0.0</td>\n",
       "      <td>0.0</td>\n",
       "      <td>0.0</td>\n",
       "      <td>0.0</td>\n",
       "      <td>0.0</td>\n",
       "      <td>0.0</td>\n",
       "      <td>71.0</td>\n",
       "      <td>76.0</td>\n",
       "    </tr>\n",
       "    <tr>\n",
       "      <th>2</th>\n",
       "      <td>0</td>\n",
       "      <td>89</td>\n",
       "      <td>(0, 2)</td>\n",
       "      <td>2</td>\n",
       "      <td>0.0</td>\n",
       "      <td>0.0</td>\n",
       "      <td>0.0</td>\n",
       "      <td>0.0</td>\n",
       "      <td>0.0</td>\n",
       "      <td>0.0</td>\n",
       "      <td>...</td>\n",
       "      <td>0.0</td>\n",
       "      <td>0.0</td>\n",
       "      <td>0.0</td>\n",
       "      <td>0.0</td>\n",
       "      <td>0.0</td>\n",
       "      <td>0.0</td>\n",
       "      <td>0.0</td>\n",
       "      <td>71.0</td>\n",
       "      <td>76.0</td>\n",
       "      <td>78.0</td>\n",
       "    </tr>\n",
       "    <tr>\n",
       "      <th>3</th>\n",
       "      <td>0</td>\n",
       "      <td>119</td>\n",
       "      <td>(0, 3)</td>\n",
       "      <td>3</td>\n",
       "      <td>0.0</td>\n",
       "      <td>0.0</td>\n",
       "      <td>0.0</td>\n",
       "      <td>0.0</td>\n",
       "      <td>0.0</td>\n",
       "      <td>0.0</td>\n",
       "      <td>...</td>\n",
       "      <td>0.0</td>\n",
       "      <td>0.0</td>\n",
       "      <td>0.0</td>\n",
       "      <td>0.0</td>\n",
       "      <td>0.0</td>\n",
       "      <td>0.0</td>\n",
       "      <td>71.0</td>\n",
       "      <td>76.0</td>\n",
       "      <td>78.0</td>\n",
       "      <td>73.0</td>\n",
       "    </tr>\n",
       "    <tr>\n",
       "      <th>4</th>\n",
       "      <td>0</td>\n",
       "      <td>149</td>\n",
       "      <td>(0, 4)</td>\n",
       "      <td>4</td>\n",
       "      <td>0.0</td>\n",
       "      <td>0.0</td>\n",
       "      <td>0.0</td>\n",
       "      <td>0.0</td>\n",
       "      <td>0.0</td>\n",
       "      <td>0.0</td>\n",
       "      <td>...</td>\n",
       "      <td>0.0</td>\n",
       "      <td>0.0</td>\n",
       "      <td>0.0</td>\n",
       "      <td>0.0</td>\n",
       "      <td>0.0</td>\n",
       "      <td>71.0</td>\n",
       "      <td>76.0</td>\n",
       "      <td>78.0</td>\n",
       "      <td>73.0</td>\n",
       "      <td>80.0</td>\n",
       "    </tr>\n",
       "  </tbody>\n",
       "</table>\n",
       "<p>5 rows × 27 columns</p>\n",
       "</div>"
      ],
      "text/plain": [
       "   pid  time      id  sort  sleep_phase  act_0  act_1  act_2  act_3  act_4  \\\n",
       "0    0    29  (0, 0)     0          0.0    0.0    0.0    0.0    0.0    0.0   \n",
       "1    0    59  (0, 1)     1          0.0    0.0    0.0    0.0    0.0    0.0   \n",
       "2    0    89  (0, 2)     2          0.0    0.0    0.0    0.0    0.0    0.0   \n",
       "3    0   119  (0, 3)     3          0.0    0.0    0.0    0.0    0.0    0.0   \n",
       "4    0   149  (0, 4)     4          0.0    0.0    0.0    0.0    0.0    0.0   \n",
       "\n",
       "   ...  hr_1  hr_2  hr_3  hr_4  hr_5  hr_6  hr_7  hr_8  hr_9  hr_10  \n",
       "0  ...   0.0   0.0   0.0   0.0   0.0   0.0   0.0   0.0   0.0   71.0  \n",
       "1  ...   0.0   0.0   0.0   0.0   0.0   0.0   0.0   0.0  71.0   76.0  \n",
       "2  ...   0.0   0.0   0.0   0.0   0.0   0.0   0.0  71.0  76.0   78.0  \n",
       "3  ...   0.0   0.0   0.0   0.0   0.0   0.0  71.0  76.0  78.0   73.0  \n",
       "4  ...   0.0   0.0   0.0   0.0   0.0  71.0  76.0  78.0  73.0   80.0  \n",
       "\n",
       "[5 rows x 27 columns]"
      ]
     },
     "execution_count": 2,
     "metadata": {},
     "output_type": "execute_result"
    }
   ],
   "source": [
    "df = pd.read_csv(\"./datasets/df_raw_features.tar.gz\")\n",
    "print(\"Number of PIDs:\", df[\"pid\"].unique().shape[0])\n",
    "df.head()"
   ]
  },
  {
   "cell_type": "code",
   "execution_count": 3,
   "id": "7eb908b3",
   "metadata": {},
   "outputs": [],
   "source": [
    "WIN_LENGTH = len([k for k in df.keys() if k.startswith(\"hr_\")])"
   ]
  },
  {
   "cell_type": "code",
   "execution_count": 4,
   "id": "2aa13f98",
   "metadata": {
    "ExecuteTime": {
     "end_time": "2022-09-04T13:37:31.669873Z",
     "start_time": "2022-09-04T13:37:31.633859Z"
    }
   },
   "outputs": [
    {
     "data": {
      "text/plain": [
       "array([0., 1., 2., 5., 3., 4.])"
      ]
     },
     "execution_count": 4,
     "metadata": {},
     "output_type": "execute_result"
    }
   ],
   "source": [
    "df[\"sleep_phase\"].unique()\n",
    "\n",
    "# Type of sleep statging problems:\n",
    "# -------------------------------\n",
    "#\n",
    "#      5-class | 4-class | 3-class | 2-Class\n",
    "# 0 -> Wake    | Wake    | Wake    | Wake\n",
    "# 1 -> N1      | Light   | NREM    | Sleep\n",
    "# 2 -> N2      | Light   | NREM    | Sleep\n",
    "# 3 -> N3      | Deep    | NREM    | Sleep\n",
    "# 4 -> N4      | Deep    | NREM    | Sleep\n",
    "# 5 -> REM     | REM     | REM     | Sleep\n",
    "#\n",
    "#\n"
   ]
  },
  {
   "cell_type": "code",
   "execution_count": 5,
   "id": "6ff4ce29",
   "metadata": {
    "ExecuteTime": {
     "end_time": "2022-09-04T13:37:32.249004Z",
     "start_time": "2022-09-04T13:37:32.215300Z"
    }
   },
   "outputs": [],
   "source": [
    "df[\"sleep\"] = (df[\"sleep_phase\"] > 0).astype(int)"
   ]
  },
  {
   "cell_type": "markdown",
   "id": "e213d03c",
   "metadata": {
    "ExecuteTime": {
     "end_time": "2022-09-04T13:37:32.769073Z",
     "start_time": "2022-09-04T13:37:32.755931Z"
    }
   },
   "source": [
    "\n",
    "- Model input (S, 2, 11): \n",
    "                       [\n",
    "                        [hr_0, hr_1, hr_2   ....hr_10]\n",
    "                        [act_0, act_1, act_2....act_10]\n",
    "                       ]\n",
    "- Model output:\n",
    "    - (S, 1) (sleep)\n",
    "\n"
   ]
  },
  {
   "cell_type": "markdown",
   "id": "fc870fd9",
   "metadata": {},
   "source": [
    "### Get XY from dataframe"
   ]
  },
  {
   "cell_type": "code",
   "execution_count": 6,
   "id": "e6c34045",
   "metadata": {
    "ExecuteTime": {
     "end_time": "2022-09-04T13:38:27.036121Z",
     "start_time": "2022-09-04T13:38:27.018691Z"
    }
   },
   "outputs": [],
   "source": [
    "def generate_XY(df, ycol=\"sleep\"):\n",
    "    \n",
    "    hr_cols = [k for k in df.keys() if k.startswith(\"hr_\")]\n",
    "    act_cols = [k for k in df.keys() if k.startswith(\"act_\")]\n",
    "\n",
    "    hr = df[hr_cols].values\n",
    "    act = df[act_cols].values\n",
    "    \n",
    "    Y  = df[ycol].values.reshape(-1, 1)\n",
    "\n",
    "    X = np.stack((act,hr))\n",
    "    X = X.transpose(1, 0, 2)\n",
    "    \n",
    "    return X, Y\n"
   ]
  },
  {
   "cell_type": "code",
   "execution_count": 7,
   "id": "36834b34",
   "metadata": {
    "ExecuteTime": {
     "end_time": "2022-09-04T13:38:31.723727Z",
     "start_time": "2022-09-04T13:38:31.135680Z"
    }
   },
   "outputs": [
    {
     "data": {
      "text/plain": [
       "pid\n",
       "0    ([[[0. 0. 0. 0. 0. 0. 0. 0. 0. 0. 2.], [ 0.  0...\n",
       "1    ([[[0. 0. 0. 0. 0. 0. 0. 0. 0. 0. 1.], [ 0.  0...\n",
       "2    ([[[ 0.  0.  0.  0.  0.  0.  0.  0.  0.  0. 12...\n",
       "3    ([[[0. 0. 0. 0. 0. 0. 0. 0. 0. 0. 1.], [ 0.  0...\n",
       "4    ([[[0. 0. 0. 0. 0. 0. 0. 0. 0. 0. 0.], [ 0.  0...\n",
       "dtype: object"
      ]
     },
     "execution_count": 7,
     "metadata": {},
     "output_type": "execute_result"
    }
   ],
   "source": [
    "df_XY = df.groupby(\"pid\").apply(lambda x: generate_XY(x))\n",
    "df_XY.head()"
   ]
  },
  {
   "cell_type": "code",
   "execution_count": 8,
   "id": "5cf48cc6",
   "metadata": {
    "ExecuteTime": {
     "end_time": "2022-09-04T13:38:32.332517Z",
     "start_time": "2022-09-04T13:38:32.320303Z"
    }
   },
   "outputs": [
    {
     "data": {
      "text/plain": [
       "((1075, 2, 11), (1075, 1))"
      ]
     },
     "execution_count": 8,
     "metadata": {},
     "output_type": "execute_result"
    }
   ],
   "source": [
    "idx = 2\n",
    "df_XY.iloc[idx][0].shape, df_XY.iloc[idx][1].shape"
   ]
  },
  {
   "cell_type": "code",
   "execution_count": 9,
   "id": "caf259c7",
   "metadata": {
    "ExecuteTime": {
     "end_time": "2022-09-04T13:38:33.664697Z",
     "start_time": "2022-09-04T13:38:33.658035Z"
    }
   },
   "outputs": [],
   "source": [
    "xs, ys = [], []\n",
    "for row_id, (x, y) in df_XY.items():\n",
    "    xs.append(x)\n",
    "    ys.append(y)\n",
    "    \n",
    "xs = np.array(xs, dtype=object)\n",
    "ys = np.array(ys, dtype=object)\n"
   ]
  },
  {
   "cell_type": "code",
   "execution_count": 10,
   "id": "939d5eb3",
   "metadata": {
    "ExecuteTime": {
     "end_time": "2022-09-04T13:38:35.031579Z",
     "start_time": "2022-09-04T13:38:35.025178Z"
    }
   },
   "outputs": [
    {
     "data": {
      "text/plain": [
       "((4783, 2, 11), (4783, 1))"
      ]
     },
     "execution_count": 10,
     "metadata": {},
     "output_type": "execute_result"
    }
   ],
   "source": [
    "# Now we can create a simple trainset from the dataset making sure that\n",
    "# data from one subject is NOT at the same time in the training and in the test sets\n",
    "subjects_train_idx = [0, 1, 2, 3, 4]    \n",
    "np.vstack(xs[subjects_train_idx]).shape, np.vstack(ys[subjects_train_idx]).shape"
   ]
  },
  {
   "cell_type": "code",
   "execution_count": 11,
   "id": "ff3c01a7",
   "metadata": {
    "ExecuteTime": {
     "end_time": "2022-09-04T13:38:35.787208Z",
     "start_time": "2022-09-04T13:38:35.489766Z"
    }
   },
   "outputs": [],
   "source": [
    "subjects_train_idx = range(0, 40)\n",
    "X_train = np.vstack(xs[subjects_train_idx])\n",
    "Y_train = np.vstack(ys[subjects_train_idx])\n",
    "\n",
    "subjects_val_idx = range(40, 50)\n",
    "X_val = np.vstack(xs[subjects_val_idx])\n",
    "Y_val = np.vstack(ys[subjects_val_idx])\n",
    "\n",
    "subjects_test_idx = range(50, 100)\n",
    "X_test = np.vstack(xs[subjects_test_idx])\n",
    "Y_test = np.vstack(ys[subjects_test_idx])\n"
   ]
  },
  {
   "cell_type": "markdown",
   "id": "237d7b31",
   "metadata": {
    "ExecuteTime": {
     "end_time": "2022-09-04T12:35:56.999748Z",
     "start_time": "2022-09-04T12:35:56.993110Z"
    }
   },
   "source": [
    "### Evaluate a few models"
   ]
  },
  {
   "cell_type": "code",
   "execution_count": 12,
   "id": "d950302c",
   "metadata": {
    "ExecuteTime": {
     "end_time": "2022-09-04T13:38:38.649377Z",
     "start_time": "2022-09-04T13:38:36.763975Z"
    }
   },
   "outputs": [],
   "source": [
    "def simple_dense_model(input_shape=(2, WIN_LENGTH)):\n",
    "    \n",
    "    model = tf.keras.models.Sequential()\n",
    "    model.add(tf.keras.layers.Dense(32, input_shape=input_shape, activation='relu'))\n",
    "    model.add(tf.keras.layers.Dense(8, activation='relu'))\n",
    "    model.add(tf.keras.layers.Flatten())\n",
    "    model.add(tf.keras.layers.Dense(1, activation='sigmoid'))\n",
    "\n",
    "    model.compile(loss='binary_crossentropy', optimizer='adam', metrics=['accuracy'])\n",
    "    return model\n",
    "\n",
    "simple_model = simple_dense_model()\n",
    "  "
   ]
  },
  {
   "cell_type": "code",
   "execution_count": 13,
   "id": "89298e6c",
   "metadata": {
    "ExecuteTime": {
     "end_time": "2022-09-04T13:49:34.563812Z",
     "start_time": "2022-09-04T13:40:50.250573Z"
    }
   },
   "outputs": [
    {
     "name": "stdout",
     "output_type": "stream",
     "text": [
      "Epoch 1/50\n"
     ]
    },
    {
     "name": "stderr",
     "output_type": "stream",
     "text": [
      "2022-09-15 00:44:00.673395: W tensorflow/core/platform/profile_utils/cpu_utils.cc:128] Failed to get CPU frequency: 0 Hz\n"
     ]
    },
    {
     "name": "stdout",
     "output_type": "stream",
     "text": [
      "5150/5150 [==============================] - 3s 540us/step - loss: 0.6325 - accuracy: 0.7761 - val_loss: 0.5293 - val_accuracy: 0.7766\n",
      "Epoch 2/50\n",
      "5150/5150 [==============================] - 3s 524us/step - loss: 0.4827 - accuracy: 0.7893 - val_loss: 0.4492 - val_accuracy: 0.7916\n",
      "Epoch 3/50\n",
      "5150/5150 [==============================] - 3s 520us/step - loss: 0.4510 - accuracy: 0.7991 - val_loss: 0.4451 - val_accuracy: 0.8029\n",
      "Epoch 4/50\n",
      "5150/5150 [==============================] - 3s 516us/step - loss: 0.4479 - accuracy: 0.8016 - val_loss: 0.4447 - val_accuracy: 0.7979\n",
      "Epoch 5/50\n",
      "5150/5150 [==============================] - 3s 527us/step - loss: 0.4441 - accuracy: 0.8019 - val_loss: 0.4405 - val_accuracy: 0.8029\n",
      "Epoch 6/50\n",
      "5150/5150 [==============================] - 3s 526us/step - loss: 0.4420 - accuracy: 0.8053 - val_loss: 0.4373 - val_accuracy: 0.8038\n",
      "Epoch 7/50\n",
      "5150/5150 [==============================] - 3s 519us/step - loss: 0.4399 - accuracy: 0.8061 - val_loss: 0.4394 - val_accuracy: 0.8060\n",
      "Epoch 8/50\n",
      "5150/5150 [==============================] - 3s 510us/step - loss: 0.4383 - accuracy: 0.8079 - val_loss: 0.4359 - val_accuracy: 0.8066\n",
      "Epoch 9/50\n",
      "5150/5150 [==============================] - 3s 520us/step - loss: 0.4380 - accuracy: 0.8079 - val_loss: 0.4351 - val_accuracy: 0.8066\n",
      "Epoch 10/50\n",
      "5150/5150 [==============================] - 3s 509us/step - loss: 0.4366 - accuracy: 0.8084 - val_loss: 0.4345 - val_accuracy: 0.8064\n",
      "Epoch 11/50\n",
      "5150/5150 [==============================] - 3s 512us/step - loss: 0.4351 - accuracy: 0.8092 - val_loss: 0.4373 - val_accuracy: 0.8027\n",
      "Epoch 12/50\n",
      "5150/5150 [==============================] - 3s 523us/step - loss: 0.4346 - accuracy: 0.8093 - val_loss: 0.4339 - val_accuracy: 0.8053\n",
      "Epoch 13/50\n",
      "5150/5150 [==============================] - 3s 524us/step - loss: 0.4344 - accuracy: 0.8096 - val_loss: 0.4387 - val_accuracy: 0.8039\n",
      "Epoch 14/50\n",
      "5150/5150 [==============================] - 3s 540us/step - loss: 0.4335 - accuracy: 0.8110 - val_loss: 0.4324 - val_accuracy: 0.8067\n",
      "Epoch 15/50\n",
      "5150/5150 [==============================] - 3s 519us/step - loss: 0.4328 - accuracy: 0.8117 - val_loss: 0.4372 - val_accuracy: 0.8029\n",
      "Epoch 16/50\n",
      "5150/5150 [==============================] - 3s 537us/step - loss: 0.4322 - accuracy: 0.8112 - val_loss: 0.4349 - val_accuracy: 0.8084\n",
      "Epoch 17/50\n",
      "5150/5150 [==============================] - 3s 532us/step - loss: 0.4326 - accuracy: 0.8123 - val_loss: 0.4351 - val_accuracy: 0.8050\n",
      "Epoch 18/50\n",
      "5150/5150 [==============================] - 3s 543us/step - loss: 0.4316 - accuracy: 0.8122 - val_loss: 0.4332 - val_accuracy: 0.8065\n",
      "Epoch 19/50\n",
      "5150/5150 [==============================] - 3s 526us/step - loss: 0.4308 - accuracy: 0.8133 - val_loss: 0.4337 - val_accuracy: 0.8063\n"
     ]
    }
   ],
   "source": [
    "early_stop_callback = tf.keras.callbacks.EarlyStopping(monitor='val_loss', patience=5, restore_best_weights=True)\n",
    "\n",
    "history = simple_model.fit(X_train, Y_train, \n",
    "                           validation_data=(X_val, Y_val), \n",
    "                           epochs=50, \n",
    "                           batch_size=8,\n",
    "                           shuffle=True,\n",
    "                           callbacks=[early_stop_callback])\n"
   ]
  },
  {
   "cell_type": "code",
   "execution_count": 14,
   "id": "eb9ac7c1",
   "metadata": {
    "ExecuteTime": {
     "end_time": "2022-09-04T14:27:01.633622Z",
     "start_time": "2022-09-04T14:26:58.304941Z"
    }
   },
   "outputs": [
    {
     "name": "stdout",
     "output_type": "stream",
     "text": [
      "1590/1590 [==============================] - 0s 308us/step - loss: 0.3753 - accuracy: 0.8447\n"
     ]
    },
    {
     "data": {
      "text/plain": [
       "[0.3752657175064087, 0.8446645736694336]"
      ]
     },
     "execution_count": 14,
     "metadata": {},
     "output_type": "execute_result"
    }
   ],
   "source": [
    "simple_model.evaluate(x=X_test, y=Y_test)"
   ]
  },
  {
   "cell_type": "code",
   "execution_count": 15,
   "id": "144cd113",
   "metadata": {},
   "outputs": [
    {
     "name": "stdout",
     "output_type": "stream",
     "text": [
      "1590/1590 [==============================] - 0s 283us/step\n"
     ]
    },
    {
     "data": {
      "text/plain": [
       "array([[0.0684753 ],\n",
       "       [0.04976798],\n",
       "       [0.08227299],\n",
       "       ...,\n",
       "       [0.09465394],\n",
       "       [0.02481614],\n",
       "       [0.12108617]], dtype=float32)"
      ]
     },
     "execution_count": 15,
     "metadata": {},
     "output_type": "execute_result"
    }
   ],
   "source": [
    "simple_model_predictions = simple_model.predict(x=X_test)\n",
    "simple_model_predictions"
   ]
  },
  {
   "cell_type": "code",
   "execution_count": 16,
   "id": "bd0103ea",
   "metadata": {},
   "outputs": [
    {
     "data": {
      "text/html": [
       "<div>\n",
       "<style scoped>\n",
       "    .dataframe tbody tr th:only-of-type {\n",
       "        vertical-align: middle;\n",
       "    }\n",
       "\n",
       "    .dataframe tbody tr th {\n",
       "        vertical-align: top;\n",
       "    }\n",
       "\n",
       "    .dataframe thead th {\n",
       "        text-align: right;\n",
       "    }\n",
       "</style>\n",
       "<table border=\"1\" class=\"dataframe\">\n",
       "  <thead>\n",
       "    <tr style=\"text-align: right;\">\n",
       "      <th></th>\n",
       "      <th>pid</th>\n",
       "      <th>time</th>\n",
       "      <th>sleep_phase</th>\n",
       "      <th>sleep</th>\n",
       "      <th>yhat</th>\n",
       "    </tr>\n",
       "  </thead>\n",
       "  <tbody>\n",
       "    <tr>\n",
       "      <th>51982</th>\n",
       "      <td>50</td>\n",
       "      <td>5099</td>\n",
       "      <td>0.0</td>\n",
       "      <td>0</td>\n",
       "      <td>0.0</td>\n",
       "    </tr>\n",
       "    <tr>\n",
       "      <th>51983</th>\n",
       "      <td>50</td>\n",
       "      <td>5129</td>\n",
       "      <td>0.0</td>\n",
       "      <td>0</td>\n",
       "      <td>0.0</td>\n",
       "    </tr>\n",
       "    <tr>\n",
       "      <th>51984</th>\n",
       "      <td>50</td>\n",
       "      <td>5159</td>\n",
       "      <td>0.0</td>\n",
       "      <td>0</td>\n",
       "      <td>0.0</td>\n",
       "    </tr>\n",
       "    <tr>\n",
       "      <th>51985</th>\n",
       "      <td>50</td>\n",
       "      <td>5189</td>\n",
       "      <td>0.0</td>\n",
       "      <td>0</td>\n",
       "      <td>0.0</td>\n",
       "    </tr>\n",
       "    <tr>\n",
       "      <th>51986</th>\n",
       "      <td>50</td>\n",
       "      <td>5219</td>\n",
       "      <td>0.0</td>\n",
       "      <td>0</td>\n",
       "      <td>0.0</td>\n",
       "    </tr>\n",
       "    <tr>\n",
       "      <th>...</th>\n",
       "      <td>...</td>\n",
       "      <td>...</td>\n",
       "      <td>...</td>\n",
       "      <td>...</td>\n",
       "      <td>...</td>\n",
       "    </tr>\n",
       "    <tr>\n",
       "      <th>102854</th>\n",
       "      <td>99</td>\n",
       "      <td>27569</td>\n",
       "      <td>0.0</td>\n",
       "      <td>0</td>\n",
       "      <td>0.0</td>\n",
       "    </tr>\n",
       "    <tr>\n",
       "      <th>102855</th>\n",
       "      <td>99</td>\n",
       "      <td>27599</td>\n",
       "      <td>0.0</td>\n",
       "      <td>0</td>\n",
       "      <td>0.0</td>\n",
       "    </tr>\n",
       "    <tr>\n",
       "      <th>102856</th>\n",
       "      <td>99</td>\n",
       "      <td>27629</td>\n",
       "      <td>0.0</td>\n",
       "      <td>0</td>\n",
       "      <td>0.0</td>\n",
       "    </tr>\n",
       "    <tr>\n",
       "      <th>102857</th>\n",
       "      <td>99</td>\n",
       "      <td>27659</td>\n",
       "      <td>0.0</td>\n",
       "      <td>0</td>\n",
       "      <td>0.0</td>\n",
       "    </tr>\n",
       "    <tr>\n",
       "      <th>102858</th>\n",
       "      <td>99</td>\n",
       "      <td>27689</td>\n",
       "      <td>0.0</td>\n",
       "      <td>0</td>\n",
       "      <td>0.0</td>\n",
       "    </tr>\n",
       "  </tbody>\n",
       "</table>\n",
       "<p>50877 rows × 5 columns</p>\n",
       "</div>"
      ],
      "text/plain": [
       "        pid   time  sleep_phase  sleep  yhat\n",
       "51982    50   5099          0.0      0   0.0\n",
       "51983    50   5129          0.0      0   0.0\n",
       "51984    50   5159          0.0      0   0.0\n",
       "51985    50   5189          0.0      0   0.0\n",
       "51986    50   5219          0.0      0   0.0\n",
       "...     ...    ...          ...    ...   ...\n",
       "102854   99  27569          0.0      0   0.0\n",
       "102855   99  27599          0.0      0   0.0\n",
       "102856   99  27629          0.0      0   0.0\n",
       "102857   99  27659          0.0      0   0.0\n",
       "102858   99  27689          0.0      0   0.0\n",
       "\n",
       "[50877 rows x 5 columns]"
      ]
     },
     "execution_count": 16,
     "metadata": {},
     "output_type": "execute_result"
    }
   ],
   "source": [
    "df_held_out_test = df[df[\"pid\"].isin(range(50, 100))][[\"pid\", \"time\", \"sleep_phase\", \"sleep\"]].copy()\n",
    "df_held_out_test[\"yhat\"] = simple_model_predictions.round()\n",
    "df_held_out_test.to_csv(\"results/simple_nn_raw.csv.tar.gz\", index=False)\n",
    "df_held_out_test"
   ]
  },
  {
   "cell_type": "code",
   "execution_count": 17,
   "id": "c4a96d65",
   "metadata": {},
   "outputs": [
    {
     "data": {
      "text/html": [
       "<div>\n",
       "<style scoped>\n",
       "    .dataframe tbody tr th:only-of-type {\n",
       "        vertical-align: middle;\n",
       "    }\n",
       "\n",
       "    .dataframe tbody tr th {\n",
       "        vertical-align: top;\n",
       "    }\n",
       "\n",
       "    .dataframe thead th {\n",
       "        text-align: right;\n",
       "    }\n",
       "</style>\n",
       "<table border=\"1\" class=\"dataframe\">\n",
       "  <thead>\n",
       "    <tr style=\"text-align: right;\">\n",
       "      <th></th>\n",
       "      <th>Accuracy</th>\n",
       "      <th>MCC</th>\n",
       "      <th>F1_weighted</th>\n",
       "    </tr>\n",
       "  </thead>\n",
       "  <tbody>\n",
       "    <tr>\n",
       "      <th>mean</th>\n",
       "      <td>0.846</td>\n",
       "      <td>0.607</td>\n",
       "      <td>0.838</td>\n",
       "    </tr>\n",
       "    <tr>\n",
       "      <th>std</th>\n",
       "      <td>0.063</td>\n",
       "      <td>0.132</td>\n",
       "      <td>0.067</td>\n",
       "    </tr>\n",
       "  </tbody>\n",
       "</table>\n",
       "</div>"
      ],
      "text/plain": [
       "      Accuracy    MCC  F1_weighted\n",
       "mean     0.846  0.607        0.838\n",
       "std      0.063  0.132        0.067"
      ]
     },
     "execution_count": 17,
     "metadata": {},
     "output_type": "execute_result"
    }
   ],
   "source": [
    "# Check the classification results when grouping by participant id\n",
    "final_results = df_held_out_test.groupby([\"pid\"])[[\"sleep\", \"yhat\"]].apply(lambda x:\n",
    "                                                                          classification_results(x[\"sleep\"].values, \n",
    "                                                                                                 x[\"yhat\"].values))\n",
    "\n",
    "final_results = final_results.apply(pd.Series).rename(columns={0: \"Accuracy\", 1: \"MCC\", 2: \"F1_weighted\"})\n",
    "\n",
    "final_results.agg([\"mean\", \"std\"]).round(3)\n"
   ]
  },
  {
   "cell_type": "code",
   "execution_count": 18,
   "id": "7ed47290",
   "metadata": {},
   "outputs": [],
   "source": [
    "# Combine previous two cells into a small function:\n",
    "\n",
    "def evaluate_per_pid(df, test_range, nnmodel, x_test, name):\n",
    "    \n",
    "    df_held_out_test = df[df[\"pid\"].isin(test_range)][[\"pid\", \"time\", \"sleep_phase\", \"sleep\"]].copy()\n",
    "    df_held_out_test[\"yhat\"] = nnmodel.predict(x_test).round()\n",
    "    df_held_out_test.to_csv(f\"results/{name}.csv.tar.gz\", index=False)\n",
    "        \n",
    "    final_results = df_held_out_test.groupby([\"pid\"])[[\"sleep\", \"yhat\"]].apply(lambda x:\n",
    "                                                                          classification_results(x[\"sleep\"].values, \n",
    "                                                                                                 x[\"yhat\"].values))\n",
    "\n",
    "    final_results = final_results.apply(pd.Series).rename(columns={0: \"Accuracy\", 1: \"MCC\", 2: \"F1_weighted\"})\n",
    "\n",
    "    return final_results.agg([\"mean\", \"std\"]).round(3)\n",
    "\n"
   ]
  },
  {
   "cell_type": "code",
   "execution_count": 19,
   "id": "07a842df",
   "metadata": {},
   "outputs": [
    {
     "name": "stdout",
     "output_type": "stream",
     "text": [
      "1590/1590 [==============================] - 0s 280us/step\n"
     ]
    },
    {
     "data": {
      "text/html": [
       "<div>\n",
       "<style scoped>\n",
       "    .dataframe tbody tr th:only-of-type {\n",
       "        vertical-align: middle;\n",
       "    }\n",
       "\n",
       "    .dataframe tbody tr th {\n",
       "        vertical-align: top;\n",
       "    }\n",
       "\n",
       "    .dataframe thead th {\n",
       "        text-align: right;\n",
       "    }\n",
       "</style>\n",
       "<table border=\"1\" class=\"dataframe\">\n",
       "  <thead>\n",
       "    <tr style=\"text-align: right;\">\n",
       "      <th></th>\n",
       "      <th>Accuracy</th>\n",
       "      <th>MCC</th>\n",
       "      <th>F1_weighted</th>\n",
       "    </tr>\n",
       "  </thead>\n",
       "  <tbody>\n",
       "    <tr>\n",
       "      <th>mean</th>\n",
       "      <td>0.846</td>\n",
       "      <td>0.607</td>\n",
       "      <td>0.838</td>\n",
       "    </tr>\n",
       "    <tr>\n",
       "      <th>std</th>\n",
       "      <td>0.063</td>\n",
       "      <td>0.132</td>\n",
       "      <td>0.067</td>\n",
       "    </tr>\n",
       "  </tbody>\n",
       "</table>\n",
       "</div>"
      ],
      "text/plain": [
       "      Accuracy    MCC  F1_weighted\n",
       "mean     0.846  0.607        0.838\n",
       "std      0.063  0.132        0.067"
      ]
     },
     "execution_count": 19,
     "metadata": {},
     "output_type": "execute_result"
    }
   ],
   "source": [
    "evaluate_per_pid(df, range(50, 100), simple_model, X_test, name=\"simple_nn_raw\")"
   ]
  },
  {
   "cell_type": "code",
   "execution_count": 20,
   "id": "8c4810c7",
   "metadata": {
    "ExecuteTime": {
     "end_time": "2022-09-04T12:17:33.369358Z",
     "start_time": "2022-09-04T12:17:33.348483Z"
    }
   },
   "outputs": [],
   "source": [
    "def cnn_lstm_model(cnn_d = 32, lstm_d = 16):\n",
    "    model = tf.keras.models.Sequential()\n",
    "    model.add(tf.keras.layers.Conv1D(cnn_d, kernel_size=(3,), padding='same'))\n",
    "    model.add(tf.keras.layers.BatchNormalization(epsilon=1e-06, axis=-1, momentum=0.9))\n",
    "    model.add(tf.keras.layers.Activation(tf.nn.relu))\n",
    "    \n",
    "    model.add(tf.keras.layers.Dropout(0.05))\n",
    "    model.add(tf.keras.layers.LSTM(lstm_d, return_sequences=False))\n",
    "    model.add(tf.keras.layers.Dense(1, activation=\"sigmoid\", name='output'))\n",
    "    \n",
    "    model.compile(loss='binary_crossentropy', optimizer='adam', metrics=['accuracy'])\n",
    "    return model\n",
    "\n",
    "cnnlstm_model = cnn_lstm_model()"
   ]
  },
  {
   "cell_type": "code",
   "execution_count": 21,
   "id": "e3050a13",
   "metadata": {
    "ExecuteTime": {
     "end_time": "2022-09-04T12:27:50.853120Z",
     "start_time": "2022-09-04T12:17:33.706069Z"
    },
    "scrolled": true
   },
   "outputs": [
    {
     "name": "stdout",
     "output_type": "stream",
     "text": [
      "Epoch 1/50\n",
      "5150/5150 [==============================] - 7s 1ms/step - loss: 0.4661 - accuracy: 0.7976 - val_loss: 0.4431 - val_accuracy: 0.8058\n",
      "Epoch 2/50\n",
      "5150/5150 [==============================] - 5s 999us/step - loss: 0.4498 - accuracy: 0.8064 - val_loss: 0.4418 - val_accuracy: 0.8080\n",
      "Epoch 3/50\n",
      "5150/5150 [==============================] - 5s 987us/step - loss: 0.4457 - accuracy: 0.8083 - val_loss: 0.4475 - val_accuracy: 0.8006\n",
      "Epoch 4/50\n",
      "5150/5150 [==============================] - 5s 986us/step - loss: 0.4435 - accuracy: 0.8097 - val_loss: 0.4433 - val_accuracy: 0.8074\n",
      "Epoch 5/50\n",
      "5150/5150 [==============================] - 5s 985us/step - loss: 0.4422 - accuracy: 0.8100 - val_loss: 0.4438 - val_accuracy: 0.8077\n",
      "Epoch 6/50\n",
      "5150/5150 [==============================] - 5s 986us/step - loss: 0.4403 - accuracy: 0.8115 - val_loss: 0.4352 - val_accuracy: 0.8118\n",
      "Epoch 7/50\n",
      "5150/5150 [==============================] - 5s 995us/step - loss: 0.4384 - accuracy: 0.8108 - val_loss: 0.4409 - val_accuracy: 0.8029\n",
      "Epoch 8/50\n",
      "5150/5150 [==============================] - 5s 972us/step - loss: 0.4391 - accuracy: 0.8111 - val_loss: 0.4366 - val_accuracy: 0.8082\n",
      "Epoch 9/50\n",
      "5150/5150 [==============================] - 5s 980us/step - loss: 0.4374 - accuracy: 0.8120 - val_loss: 0.4371 - val_accuracy: 0.8123\n",
      "Epoch 10/50\n",
      "5150/5150 [==============================] - 5s 985us/step - loss: 0.4352 - accuracy: 0.8125 - val_loss: 0.4479 - val_accuracy: 0.8067\n",
      "Epoch 11/50\n",
      "5150/5150 [==============================] - 5s 971us/step - loss: 0.4359 - accuracy: 0.8133 - val_loss: 0.4521 - val_accuracy: 0.7933\n"
     ]
    }
   ],
   "source": [
    "early_stop_callback = tf.keras.callbacks.EarlyStopping(monitor='val_loss', patience=5, restore_best_weights=True)\n",
    "history = cnnlstm_model.fit(X_train, Y_train, \n",
    "                           validation_data=(X_val, Y_val), \n",
    "                           epochs=50, \n",
    "                           batch_size=8,\n",
    "                           callbacks=[early_stop_callback])"
   ]
  },
  {
   "cell_type": "code",
   "execution_count": 22,
   "id": "d9ac117e",
   "metadata": {
    "ExecuteTime": {
     "end_time": "2022-09-04T12:34:05.103116Z",
     "start_time": "2022-09-04T12:34:01.835432Z"
    }
   },
   "outputs": [
    {
     "name": "stdout",
     "output_type": "stream",
     "text": [
      "1590/1590 [==============================] - 1s 436us/step - loss: 0.3803 - accuracy: 0.8458\n"
     ]
    },
    {
     "data": {
      "text/plain": [
       "[0.38033977150917053, 0.8457849025726318]"
      ]
     },
     "execution_count": 22,
     "metadata": {},
     "output_type": "execute_result"
    }
   ],
   "source": [
    "cnnlstm_model.evaluate(x=X_test, y=Y_test)"
   ]
  },
  {
   "cell_type": "code",
   "execution_count": 23,
   "id": "11a9d1fb",
   "metadata": {},
   "outputs": [
    {
     "name": "stdout",
     "output_type": "stream",
     "text": [
      "1590/1590 [==============================] - 1s 374us/step\n"
     ]
    },
    {
     "data": {
      "text/html": [
       "<div>\n",
       "<style scoped>\n",
       "    .dataframe tbody tr th:only-of-type {\n",
       "        vertical-align: middle;\n",
       "    }\n",
       "\n",
       "    .dataframe tbody tr th {\n",
       "        vertical-align: top;\n",
       "    }\n",
       "\n",
       "    .dataframe thead th {\n",
       "        text-align: right;\n",
       "    }\n",
       "</style>\n",
       "<table border=\"1\" class=\"dataframe\">\n",
       "  <thead>\n",
       "    <tr style=\"text-align: right;\">\n",
       "      <th></th>\n",
       "      <th>Accuracy</th>\n",
       "      <th>MCC</th>\n",
       "      <th>F1_weighted</th>\n",
       "    </tr>\n",
       "  </thead>\n",
       "  <tbody>\n",
       "    <tr>\n",
       "      <th>mean</th>\n",
       "      <td>0.847</td>\n",
       "      <td>0.610</td>\n",
       "      <td>0.840</td>\n",
       "    </tr>\n",
       "    <tr>\n",
       "      <th>std</th>\n",
       "      <td>0.062</td>\n",
       "      <td>0.131</td>\n",
       "      <td>0.067</td>\n",
       "    </tr>\n",
       "  </tbody>\n",
       "</table>\n",
       "</div>"
      ],
      "text/plain": [
       "      Accuracy    MCC  F1_weighted\n",
       "mean     0.847  0.610        0.840\n",
       "std      0.062  0.131        0.067"
      ]
     },
     "execution_count": 23,
     "metadata": {},
     "output_type": "execute_result"
    }
   ],
   "source": [
    "evaluate_per_pid(df, range(50, 100), cnnlstm_model, X_test, name=\"cnnlstm_nn_raw\")"
   ]
  },
  {
   "cell_type": "code",
   "execution_count": null,
   "id": "c9d325f3",
   "metadata": {},
   "outputs": [],
   "source": []
  }
 ],
 "metadata": {
  "kernelspec": {
   "display_name": "Python 3 (ipykernel)",
   "language": "python",
   "name": "python3"
  },
  "language_info": {
   "codemirror_mode": {
    "name": "ipython",
    "version": 3
   },
   "file_extension": ".py",
   "mimetype": "text/x-python",
   "name": "python",
   "nbconvert_exporter": "python",
   "pygments_lexer": "ipython3",
   "version": "3.8.13"
  }
 },
 "nbformat": 4,
 "nbformat_minor": 5
}
