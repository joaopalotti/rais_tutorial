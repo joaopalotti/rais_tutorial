{
 "cells": [
  {
   "cell_type": "markdown",
   "id": "965230af",
   "metadata": {},
   "source": [
    "# Alternative 2 - On a given feature set"
   ]
  },
  {
   "cell_type": "code",
   "execution_count": 1,
   "id": "47c78f53",
   "metadata": {
    "ExecuteTime": {
     "end_time": "2022-09-04T12:39:33.512598Z",
     "start_time": "2022-09-04T12:39:32.222728Z"
    }
   },
   "outputs": [],
   "source": [
    "import pandas as pd\n",
    "import numpy as np\n",
    "import keras\n",
    "import tensorflow as tf"
   ]
  },
  {
   "cell_type": "code",
   "execution_count": 2,
   "id": "ecc00a62",
   "metadata": {
    "ExecuteTime": {
     "end_time": "2022-09-04T12:40:07.351252Z",
     "start_time": "2022-09-04T12:39:34.495599Z"
    }
   },
   "outputs": [
    {
     "data": {
      "text/html": [
       "<div>\n",
       "<style scoped>\n",
       "    .dataframe tbody tr th:only-of-type {\n",
       "        vertical-align: middle;\n",
       "    }\n",
       "\n",
       "    .dataframe tbody tr th {\n",
       "        vertical-align: top;\n",
       "    }\n",
       "\n",
       "    .dataframe thead th {\n",
       "        text-align: right;\n",
       "    }\n",
       "</style>\n",
       "<table border=\"1\" class=\"dataframe\">\n",
       "  <thead>\n",
       "    <tr style=\"text-align: right;\">\n",
       "      <th></th>\n",
       "      <th>time</th>\n",
       "      <th>act</th>\n",
       "      <th>sleep_phase</th>\n",
       "      <th>hr</th>\n",
       "      <th>pid</th>\n",
       "      <th>act__variance_larger_than_standard_deviation</th>\n",
       "      <th>act__has_duplicate_max</th>\n",
       "      <th>act__has_duplicate_min</th>\n",
       "      <th>act__has_duplicate</th>\n",
       "      <th>act__sum_values</th>\n",
       "      <th>...</th>\n",
       "      <th>hr__permutation_entropy__dimension_6__tau_1</th>\n",
       "      <th>hr__permutation_entropy__dimension_7__tau_1</th>\n",
       "      <th>hr__query_similarity_count__query_None__threshold_0.0</th>\n",
       "      <th>hr__matrix_profile__feature_\"min\"__threshold_0.98</th>\n",
       "      <th>hr__matrix_profile__feature_\"max\"__threshold_0.98</th>\n",
       "      <th>hr__matrix_profile__feature_\"mean\"__threshold_0.98</th>\n",
       "      <th>hr__matrix_profile__feature_\"median\"__threshold_0.98</th>\n",
       "      <th>hr__matrix_profile__feature_\"25\"__threshold_0.98</th>\n",
       "      <th>hr__matrix_profile__feature_\"75\"__threshold_0.98</th>\n",
       "      <th>hr__mean_n_absolute_max__number_of_maxima_7</th>\n",
       "    </tr>\n",
       "  </thead>\n",
       "  <tbody>\n",
       "    <tr>\n",
       "      <th>0</th>\n",
       "      <td>1</td>\n",
       "      <td>0.0</td>\n",
       "      <td>0.0</td>\n",
       "      <td>73.0</td>\n",
       "      <td>1</td>\n",
       "      <td>0.0</td>\n",
       "      <td>1.0</td>\n",
       "      <td>1.0</td>\n",
       "      <td>1.0</td>\n",
       "      <td>0.0</td>\n",
       "      <td>...</td>\n",
       "      <td>NaN</td>\n",
       "      <td>NaN</td>\n",
       "      <td>NaN</td>\n",
       "      <td>NaN</td>\n",
       "      <td>NaN</td>\n",
       "      <td>NaN</td>\n",
       "      <td>NaN</td>\n",
       "      <td>NaN</td>\n",
       "      <td>NaN</td>\n",
       "      <td>NaN</td>\n",
       "    </tr>\n",
       "    <tr>\n",
       "      <th>1</th>\n",
       "      <td>2</td>\n",
       "      <td>0.0</td>\n",
       "      <td>0.0</td>\n",
       "      <td>75.0</td>\n",
       "      <td>1</td>\n",
       "      <td>0.0</td>\n",
       "      <td>1.0</td>\n",
       "      <td>1.0</td>\n",
       "      <td>1.0</td>\n",
       "      <td>0.0</td>\n",
       "      <td>...</td>\n",
       "      <td>NaN</td>\n",
       "      <td>NaN</td>\n",
       "      <td>NaN</td>\n",
       "      <td>NaN</td>\n",
       "      <td>NaN</td>\n",
       "      <td>NaN</td>\n",
       "      <td>NaN</td>\n",
       "      <td>NaN</td>\n",
       "      <td>NaN</td>\n",
       "      <td>NaN</td>\n",
       "    </tr>\n",
       "    <tr>\n",
       "      <th>2</th>\n",
       "      <td>3</td>\n",
       "      <td>0.0</td>\n",
       "      <td>0.0</td>\n",
       "      <td>76.0</td>\n",
       "      <td>1</td>\n",
       "      <td>0.0</td>\n",
       "      <td>1.0</td>\n",
       "      <td>1.0</td>\n",
       "      <td>1.0</td>\n",
       "      <td>0.0</td>\n",
       "      <td>...</td>\n",
       "      <td>NaN</td>\n",
       "      <td>NaN</td>\n",
       "      <td>NaN</td>\n",
       "      <td>NaN</td>\n",
       "      <td>NaN</td>\n",
       "      <td>NaN</td>\n",
       "      <td>NaN</td>\n",
       "      <td>NaN</td>\n",
       "      <td>NaN</td>\n",
       "      <td>NaN</td>\n",
       "    </tr>\n",
       "    <tr>\n",
       "      <th>3</th>\n",
       "      <td>4</td>\n",
       "      <td>0.0</td>\n",
       "      <td>0.0</td>\n",
       "      <td>75.0</td>\n",
       "      <td>1</td>\n",
       "      <td>1.0</td>\n",
       "      <td>0.0</td>\n",
       "      <td>1.0</td>\n",
       "      <td>1.0</td>\n",
       "      <td>85.0</td>\n",
       "      <td>...</td>\n",
       "      <td>NaN</td>\n",
       "      <td>NaN</td>\n",
       "      <td>NaN</td>\n",
       "      <td>NaN</td>\n",
       "      <td>NaN</td>\n",
       "      <td>NaN</td>\n",
       "      <td>NaN</td>\n",
       "      <td>NaN</td>\n",
       "      <td>NaN</td>\n",
       "      <td>NaN</td>\n",
       "    </tr>\n",
       "    <tr>\n",
       "      <th>4</th>\n",
       "      <td>5</td>\n",
       "      <td>85.0</td>\n",
       "      <td>0.0</td>\n",
       "      <td>80.0</td>\n",
       "      <td>1</td>\n",
       "      <td>1.0</td>\n",
       "      <td>0.0</td>\n",
       "      <td>1.0</td>\n",
       "      <td>1.0</td>\n",
       "      <td>85.0</td>\n",
       "      <td>...</td>\n",
       "      <td>-0.0</td>\n",
       "      <td>NaN</td>\n",
       "      <td>NaN</td>\n",
       "      <td>NaN</td>\n",
       "      <td>NaN</td>\n",
       "      <td>NaN</td>\n",
       "      <td>NaN</td>\n",
       "      <td>NaN</td>\n",
       "      <td>NaN</td>\n",
       "      <td>NaN</td>\n",
       "    </tr>\n",
       "  </tbody>\n",
       "</table>\n",
       "<p>5 rows × 1561 columns</p>\n",
       "</div>"
      ],
      "text/plain": [
       "   time   act  sleep_phase    hr  pid  \\\n",
       "0     1   0.0          0.0  73.0    1   \n",
       "1     2   0.0          0.0  75.0    1   \n",
       "2     3   0.0          0.0  76.0    1   \n",
       "3     4   0.0          0.0  75.0    1   \n",
       "4     5  85.0          0.0  80.0    1   \n",
       "\n",
       "   act__variance_larger_than_standard_deviation  act__has_duplicate_max  \\\n",
       "0                                           0.0                     1.0   \n",
       "1                                           0.0                     1.0   \n",
       "2                                           0.0                     1.0   \n",
       "3                                           1.0                     0.0   \n",
       "4                                           1.0                     0.0   \n",
       "\n",
       "   act__has_duplicate_min  act__has_duplicate  act__sum_values  ...  \\\n",
       "0                     1.0                 1.0              0.0  ...   \n",
       "1                     1.0                 1.0              0.0  ...   \n",
       "2                     1.0                 1.0              0.0  ...   \n",
       "3                     1.0                 1.0             85.0  ...   \n",
       "4                     1.0                 1.0             85.0  ...   \n",
       "\n",
       "   hr__permutation_entropy__dimension_6__tau_1  \\\n",
       "0                                          NaN   \n",
       "1                                          NaN   \n",
       "2                                          NaN   \n",
       "3                                          NaN   \n",
       "4                                         -0.0   \n",
       "\n",
       "   hr__permutation_entropy__dimension_7__tau_1  \\\n",
       "0                                          NaN   \n",
       "1                                          NaN   \n",
       "2                                          NaN   \n",
       "3                                          NaN   \n",
       "4                                          NaN   \n",
       "\n",
       "   hr__query_similarity_count__query_None__threshold_0.0  \\\n",
       "0                                                NaN       \n",
       "1                                                NaN       \n",
       "2                                                NaN       \n",
       "3                                                NaN       \n",
       "4                                                NaN       \n",
       "\n",
       "   hr__matrix_profile__feature_\"min\"__threshold_0.98  \\\n",
       "0                                                NaN   \n",
       "1                                                NaN   \n",
       "2                                                NaN   \n",
       "3                                                NaN   \n",
       "4                                                NaN   \n",
       "\n",
       "   hr__matrix_profile__feature_\"max\"__threshold_0.98  \\\n",
       "0                                                NaN   \n",
       "1                                                NaN   \n",
       "2                                                NaN   \n",
       "3                                                NaN   \n",
       "4                                                NaN   \n",
       "\n",
       "   hr__matrix_profile__feature_\"mean\"__threshold_0.98  \\\n",
       "0                                                NaN    \n",
       "1                                                NaN    \n",
       "2                                                NaN    \n",
       "3                                                NaN    \n",
       "4                                                NaN    \n",
       "\n",
       "   hr__matrix_profile__feature_\"median\"__threshold_0.98  \\\n",
       "0                                                NaN      \n",
       "1                                                NaN      \n",
       "2                                                NaN      \n",
       "3                                                NaN      \n",
       "4                                                NaN      \n",
       "\n",
       "   hr__matrix_profile__feature_\"25\"__threshold_0.98  \\\n",
       "0                                               NaN   \n",
       "1                                               NaN   \n",
       "2                                               NaN   \n",
       "3                                               NaN   \n",
       "4                                               NaN   \n",
       "\n",
       "   hr__matrix_profile__feature_\"75\"__threshold_0.98  \\\n",
       "0                                               NaN   \n",
       "1                                               NaN   \n",
       "2                                               NaN   \n",
       "3                                               NaN   \n",
       "4                                               NaN   \n",
       "\n",
       "   hr__mean_n_absolute_max__number_of_maxima_7  \n",
       "0                                          NaN  \n",
       "1                                          NaN  \n",
       "2                                          NaN  \n",
       "3                                          NaN  \n",
       "4                                          NaN  \n",
       "\n",
       "[5 rows x 1561 columns]"
      ]
     },
     "execution_count": 2,
     "metadata": {},
     "output_type": "execute_result"
    }
   ],
   "source": [
    "df = pd.read_csv(\"./datasets/df_tsfresh_features.tar.gz\")\n",
    "df.head()"
   ]
  },
  {
   "cell_type": "code",
   "execution_count": 3,
   "id": "c86c492f",
   "metadata": {
    "ExecuteTime": {
     "end_time": "2022-09-04T12:40:19.144698Z",
     "start_time": "2022-09-04T12:40:19.125111Z"
    }
   },
   "outputs": [
    {
     "data": {
      "text/plain": [
       "array([0., 1., 2., 5., 3., 4.])"
      ]
     },
     "execution_count": 3,
     "metadata": {},
     "output_type": "execute_result"
    }
   ],
   "source": [
    "df[\"sleep_phase\"].unique()\n",
    "# 0 -> Wake\n",
    "# 1 -> phase 1 (light sleep)\n",
    "# 2 -> phase 2 (deep sleep N1)\n",
    "# 3 -> phase 3 (deep sleep N2)\n",
    "# 4 -> NREM    ()\n",
    "# 5 -> REM"
   ]
  },
  {
   "cell_type": "code",
   "execution_count": 4,
   "id": "b26211ac",
   "metadata": {
    "ExecuteTime": {
     "end_time": "2022-09-04T12:40:20.175070Z",
     "start_time": "2022-09-04T12:40:20.171801Z"
    }
   },
   "outputs": [],
   "source": [
    "df[\"bin_sleep_phase\"] = df[\"sleep_phase\"] > 0"
   ]
  },
  {
   "cell_type": "code",
   "execution_count": null,
   "id": "9cbca4d6",
   "metadata": {},
   "outputs": [],
   "source": [
    "\"\"\"\n",
    "- Model input (2, S, 13): [\n",
    "                          [hr_0, hr_1, hr_2   ....hr_N]\n",
    "                          [act_0, act_1, act_2....act_N]\n",
    "                       ]\n",
    "- Model output:\n",
    "    - (S, 1) (bin sleep phase)\n",
    "    - (S, X) (sleep_)\n",
    "\n",
    "\"\"\""
   ]
  },
  {
   "cell_type": "markdown",
   "id": "da8d890a",
   "metadata": {},
   "source": [
    "### Get XY from dataframe"
   ]
  },
  {
   "cell_type": "code",
   "execution_count": 85,
   "id": "5f84c507",
   "metadata": {
    "ExecuteTime": {
     "end_time": "2022-09-04T13:04:48.251864Z",
     "start_time": "2022-09-04T13:04:48.231811Z"
    }
   },
   "outputs": [],
   "source": [
    "def generate_XY(df, ycol=\"bin_sleep_phase\", allign_cols=True):\n",
    "\n",
    "    # This could be used in several different ways\n",
    "    # e.g., removing nan cols, inputing averages, etc\n",
    "    df = df.fillna(0.0)\n",
    "    df = df.replace([np.inf, -np.inf], 0)\n",
    "    \n",
    "    hr_cols = [k for k in df.keys() if k.startswith(\"hr_\")]\n",
    "    act_cols = [k for k in df.keys() if k.startswith(\"act_\")]\n",
    "\n",
    "    hr_cols = sorted(hr_cols)\n",
    "    act_cols = sorted(act_cols)\n",
    "\n",
    "    if allign_cols:\n",
    "        hr = df[hr_cols].values\n",
    "        act = df[act_cols].values\n",
    "        X = np.stack((act,hr))\n",
    "        X = X.transpose(1,0,2)\n",
    "    else:\n",
    "        X = df[hr_cols + act_cols].values\n",
    "\n",
    "    Y  = df[ycol].values.reshape(-1, 1)\n",
    "        \n",
    "    return X, Y \n"
   ]
  },
  {
   "cell_type": "code",
   "execution_count": 86,
   "id": "4fa90631",
   "metadata": {
    "ExecuteTime": {
     "end_time": "2022-09-04T13:04:48.683307Z",
     "start_time": "2022-09-04T13:04:48.676477Z"
    }
   },
   "outputs": [],
   "source": [
    "# generate_XY(df, allign_cols=True)   #  X.shape is (205161, 2, 778)\n",
    "# generate_XY(df, allign_cols=False)  #  X.shape is (205161, 1556)"
   ]
  },
  {
   "cell_type": "code",
   "execution_count": 98,
   "id": "41435ea1",
   "metadata": {
    "ExecuteTime": {
     "end_time": "2022-09-04T13:15:30.615893Z",
     "start_time": "2022-09-04T13:15:18.639969Z"
    }
   },
   "outputs": [
    {
     "data": {
      "text/plain": [
       "pid\n",
       "1     ([[[ 0.   0.   0.   0.   0.   0.   0.   0.   0...\n",
       "16    ([[[ 0.   0.   0.   0.   0.   0.   0.   0.   0...\n",
       "21    ([[[ 8.50000000e+02  2.70000000e+01  1.6000000...\n",
       "28    ([[[ 0.   0.   0.   0.   0.   0.   0.   0.   0...\n",
       "33    ([[[ 0.   0.   0.   0.   0.   0.   0.   0.   0...\n",
       "dtype: object"
      ]
     },
     "execution_count": 98,
     "metadata": {},
     "output_type": "execute_result"
    }
   ],
   "source": [
    "allign_cols = True\n",
    "df_XY = df.groupby(\"pid\").apply(lambda x: generate_XY(x, allign_cols=allign_cols))\n",
    "df_XY.head()"
   ]
  },
  {
   "cell_type": "code",
   "execution_count": 99,
   "id": "62aa0eae",
   "metadata": {
    "ExecuteTime": {
     "end_time": "2022-09-04T13:15:32.432247Z",
     "start_time": "2022-09-04T13:15:32.428207Z"
    }
   },
   "outputs": [
    {
     "data": {
      "text/plain": [
       "((625, 2, 778), (625, 1))"
      ]
     },
     "execution_count": 99,
     "metadata": {},
     "output_type": "execute_result"
    }
   ],
   "source": [
    "idx = 3\n",
    "df_XY.iloc[idx][0].shape, df_XY.iloc[idx][1].shape"
   ]
  },
  {
   "cell_type": "code",
   "execution_count": 100,
   "id": "d1566f84",
   "metadata": {
    "ExecuteTime": {
     "end_time": "2022-09-04T13:15:36.413119Z",
     "start_time": "2022-09-04T13:15:36.410125Z"
    }
   },
   "outputs": [],
   "source": [
    "xs, ys = [], []\n",
    "for row_id, (x, y) in df_XY.items():\n",
    "    xs.append(x)\n",
    "    ys.append(y)\n",
    "    \n",
    "xs = np.array(xs, dtype=object)\n",
    "ys = np.array(ys, dtype=object)\n"
   ]
  },
  {
   "cell_type": "code",
   "execution_count": 101,
   "id": "5dfc73da",
   "metadata": {
    "ExecuteTime": {
     "end_time": "2022-09-04T13:15:39.186529Z",
     "start_time": "2022-09-04T13:15:39.169294Z"
    }
   },
   "outputs": [
    {
     "data": {
      "text/plain": [
       "((3500, 2, 778), (3500, 1))"
      ]
     },
     "execution_count": 101,
     "metadata": {},
     "output_type": "execute_result"
    }
   ],
   "source": [
    "# Now we can create a simple trainset from the dataset making sure that\n",
    "# data from one subject is NOT at the same time in the training and in the test sets\n",
    "subjects_train_idx = [1, 2, 3, 4]    \n",
    "np.vstack(xs[subjects_train_idx]).shape, np.vstack(ys[subjects_train_idx]).shape"
   ]
  },
  {
   "cell_type": "code",
   "execution_count": 185,
   "id": "19030466",
   "metadata": {
    "ExecuteTime": {
     "end_time": "2022-09-04T15:15:50.792023Z",
     "start_time": "2022-09-04T15:15:35.996401Z"
    }
   },
   "outputs": [],
   "source": [
    "subjects_train_idx = range(100)\n",
    "X_train = np.vstack(xs[subjects_train_idx])\n",
    "Y_train = np.vstack(ys[subjects_train_idx])\n",
    "\n",
    "subjects_test_idx = range(100, 150)\n",
    "X_val = np.vstack(xs[subjects_test_idx])\n",
    "Y_val = np.vstack(ys[subjects_test_idx])\n",
    "\n",
    "subjects_test_idx = range(150, 200)\n",
    "X_test = np.vstack(xs[subjects_test_idx])\n",
    "Y_test = np.vstack(ys[subjects_test_idx])\n"
   ]
  },
  {
   "cell_type": "markdown",
   "id": "5d1f9bb3",
   "metadata": {
    "ExecuteTime": {
     "end_time": "2022-09-04T12:35:56.999748Z",
     "start_time": "2022-09-04T12:35:56.993110Z"
    }
   },
   "source": [
    "### Evaluate a few models"
   ]
  },
  {
   "cell_type": "code",
   "execution_count": 103,
   "id": "fbed22e6",
   "metadata": {
    "ExecuteTime": {
     "end_time": "2022-09-04T13:16:13.118618Z",
     "start_time": "2022-09-04T13:16:13.040035Z"
    }
   },
   "outputs": [],
   "source": [
    "def simple_dense_model(allign_cols=True):\n",
    "    \n",
    "    model = tf.keras.models.Sequential()\n",
    "    if allign_cols:\n",
    "        model.add(tf.keras.layers.Dense(12, input_shape=(2, 778), activation='relu'))\n",
    "    else:\n",
    "        model.add(tf.keras.layers.Dense(12, input_shape=(1556,), activation='relu'))\n",
    "    \n",
    "    model.add(tf.keras.layers.Dense(8, activation='relu'))\n",
    "    model.add(tf.keras.layers.Dense(1, activation='sigmoid'))\n",
    "\n",
    "    model.compile(loss='binary_crossentropy', optimizer='adam', metrics=['accuracy'])\n",
    "    return model\n",
    "\n",
    "simple_model = simple_dense_model()\n",
    "  "
   ]
  },
  {
   "cell_type": "code",
   "execution_count": 93,
   "id": "90d7f190",
   "metadata": {
    "ExecuteTime": {
     "end_time": "2022-09-04T13:11:35.056439Z",
     "start_time": "2022-09-04T13:04:56.499498Z"
    }
   },
   "outputs": [
    {
     "name": "stdout",
     "output_type": "stream",
     "text": [
      "Epoch 1/50\n",
      "12845/12845 [==============================] - 29s 2ms/step - loss: 12196955291648.0000 - accuracy: 0.7271 - val_loss: 75337016.0000 - val_accuracy: 0.7503\n",
      "Epoch 2/50\n",
      "12845/12845 [==============================] - 30s 2ms/step - loss: 376864288.0000 - accuracy: 0.7057 - val_loss: 11290121.0000 - val_accuracy: 0.7346\n",
      "Epoch 3/50\n",
      "12845/12845 [==============================] - 31s 2ms/step - loss: 108209072.0000 - accuracy: 0.6966 - val_loss: 0.7373 - val_accuracy: 0.7324\n",
      "Epoch 4/50\n",
      "12845/12845 [==============================] - 30s 2ms/step - loss: 3668268.5000 - accuracy: 0.6962 - val_loss: 2209.4536 - val_accuracy: 0.7346\n",
      "Epoch 5/50\n",
      "12845/12845 [==============================] - 31s 2ms/step - loss: 1030985.4375 - accuracy: 0.6968 - val_loss: 0.6539 - val_accuracy: 0.7325\n",
      "Epoch 6/50\n",
      "12845/12845 [==============================] - 31s 2ms/step - loss: 0.9273 - accuracy: 0.6959 - val_loss: 0.5835 - val_accuracy: 0.7326\n",
      "Epoch 7/50\n",
      "12845/12845 [==============================] - 31s 2ms/step - loss: 0.6143 - accuracy: 0.6959 - val_loss: 0.5834 - val_accuracy: 0.7326\n",
      "Epoch 8/50\n",
      "12845/12845 [==============================] - 29s 2ms/step - loss: 0.6143 - accuracy: 0.6959 - val_loss: 0.5832 - val_accuracy: 0.7326\n",
      "Epoch 9/50\n",
      "12845/12845 [==============================] - 30s 2ms/step - loss: 0.6143 - accuracy: 0.6959 - val_loss: 0.5841 - val_accuracy: 0.7326\n",
      "Epoch 10/50\n",
      "12845/12845 [==============================] - 31s 2ms/step - loss: 0.6143 - accuracy: 0.6959 - val_loss: 0.5827 - val_accuracy: 0.7326\n",
      "Epoch 11/50\n",
      "12845/12845 [==============================] - 30s 2ms/step - loss: 0.6143 - accuracy: 0.6959 - val_loss: 0.5849 - val_accuracy: 0.7326\n",
      "Epoch 12/50\n",
      "12845/12845 [==============================] - 35s 3ms/step - loss: 0.6143 - accuracy: 0.6959 - val_loss: 0.5828 - val_accuracy: 0.7326\n",
      "Epoch 13/50\n",
      "12845/12845 [==============================] - 29s 2ms/step - loss: 0.6143 - accuracy: 0.6959 - val_loss: 0.5847 - val_accuracy: 0.7326\n"
     ]
    }
   ],
   "source": [
    "# Allign_cols = False\n",
    "with tf.device('/cpu:0'):\n",
    "    early_stop_callback = tf.keras.callbacks.EarlyStopping(monitor='val_loss', patience=3)\n",
    "    history = simple_model.fit(X_train, Y_train,\n",
    "                               validation_data=(X_val, Y_val), \n",
    "                               epochs=50, \n",
    "                               batch_size=8,\n",
    "                               callbacks=[early_stop_callback])\n"
   ]
  },
  {
   "cell_type": "code",
   "execution_count": 95,
   "id": "796a965d",
   "metadata": {
    "ExecuteTime": {
     "end_time": "2022-09-04T13:14:02.773864Z",
     "start_time": "2022-09-04T13:14:00.219518Z"
    }
   },
   "outputs": [
    {
     "name": "stdout",
     "output_type": "stream",
     "text": [
      "1601/1601 [==============================] - 2s 1ms/step - loss: 0.6150 - accuracy: 0.6947\n"
     ]
    }
   ],
   "source": [
    "with tf.device('/cpu:0'):\n",
    "    simple_model.evaluate(x=X_test, y=Y_test)"
   ]
  },
  {
   "cell_type": "code",
   "execution_count": 104,
   "id": "dace0af7",
   "metadata": {
    "ExecuteTime": {
     "end_time": "2022-09-04T13:19:52.963633Z",
     "start_time": "2022-09-04T13:16:32.422258Z"
    }
   },
   "outputs": [
    {
     "name": "stdout",
     "output_type": "stream",
     "text": [
      "Epoch 1/50\n",
      "12845/12845 [==============================] - 30s 2ms/step - loss: 5.7106 - accuracy: 0.5451 - val_loss: 5.8860 - val_accuracy: 0.5411\n",
      "Epoch 2/50\n",
      "12845/12845 [==============================] - 27s 2ms/step - loss: 2.1575 - accuracy: 0.6473 - val_loss: 0.5591 - val_accuracy: 0.7332\n",
      "Epoch 3/50\n",
      "12845/12845 [==============================] - 28s 2ms/step - loss: 0.6677 - accuracy: 0.6939 - val_loss: 0.5565 - val_accuracy: 0.7327\n",
      "Epoch 4/50\n",
      "12845/12845 [==============================] - 27s 2ms/step - loss: 0.6079 - accuracy: 0.6991 - val_loss: 0.5398 - val_accuracy: 0.7372\n",
      "Epoch 5/50\n",
      "12845/12845 [==============================] - 29s 2ms/step - loss: 0.6404 - accuracy: 0.7045 - val_loss: 0.5398 - val_accuracy: 0.7404\n",
      "Epoch 6/50\n",
      "12845/12845 [==============================] - 28s 2ms/step - loss: 0.5758 - accuracy: 0.7048 - val_loss: 0.5420 - val_accuracy: 0.7376\n",
      "Epoch 7/50\n",
      "12845/12845 [==============================] - 30s 2ms/step - loss: 0.5750 - accuracy: 0.7004 - val_loss: 0.5415 - val_accuracy: 0.7347\n"
     ]
    }
   ],
   "source": [
    "# Allign_cols = True\n",
    "with tf.device('/cpu:0'):\n",
    "    early_stop_callback = tf.keras.callbacks.EarlyStopping(monitor='val_loss', patience=3)\n",
    "    history = simple_model.fit(X_train, Y_train,\n",
    "                               validation_data=(X_val, Y_val), \n",
    "                               epochs=50, \n",
    "                               batch_size=8,\n",
    "                               callbacks=[early_stop_callback])\n"
   ]
  },
  {
   "cell_type": "code",
   "execution_count": 105,
   "id": "a9071d75",
   "metadata": {
    "ExecuteTime": {
     "end_time": "2022-09-04T13:29:32.809567Z",
     "start_time": "2022-09-04T13:29:29.812924Z"
    }
   },
   "outputs": [
    {
     "name": "stdout",
     "output_type": "stream",
     "text": [
      "1601/1601 [==============================] - 3s 2ms/step - loss: 0.5767 - accuracy: 0.6973\n"
     ]
    }
   ],
   "source": [
    "with tf.device('/cpu:0'):\n",
    "    simple_model.evaluate(x=X_test, y=Y_test)"
   ]
  },
  {
   "cell_type": "code",
   "execution_count": 116,
   "id": "9435f4f5",
   "metadata": {
    "ExecuteTime": {
     "end_time": "2022-09-04T13:41:31.232384Z",
     "start_time": "2022-09-04T13:41:31.208017Z"
    }
   },
   "outputs": [],
   "source": [
    "def cnn_lstm_model(cnn_d = 10, lstm_d = 4):\n",
    "    model = tf.keras.models.Sequential()\n",
    "    model.add(tf.keras.layers.Conv1D(cnn_d, kernel_size=(3,), padding='same'))\n",
    "    \n",
    "    # Batch Normalization was resulting into NAN due to vanishing coefficients\n",
    "    # model.add(tf.keras.layers.BatchNormalization(epsilon=1e-04, axis=-1, momentum=0.9))\n",
    "    model.add(tf.keras.layers.Activation(tf.nn.relu))\n",
    "    \n",
    "    model.add(tf.keras.layers.Dropout(0.1))\n",
    "    model.add(tf.keras.layers.LSTM(lstm_d, return_sequences=False))\n",
    "    model.add(tf.keras.layers.Dense(1, activation=\"sigmoid\", name='output'))\n",
    "    \n",
    "    model.compile(loss='binary_crossentropy', optimizer='adam', metrics=['accuracy'])\n",
    "    return model\n",
    "\n",
    "cnnlstm_model = cnn_lstm_model()"
   ]
  },
  {
   "cell_type": "code",
   "execution_count": 117,
   "id": "df698537",
   "metadata": {
    "ExecuteTime": {
     "end_time": "2022-09-04T13:45:54.059316Z",
     "start_time": "2022-09-04T13:41:31.661467Z"
    }
   },
   "outputs": [
    {
     "name": "stdout",
     "output_type": "stream",
     "text": [
      "Epoch 1/50\n",
      "12845/12845 [==============================] - 49s 4ms/step - loss: 0.6157 - accuracy: 0.6958 - val_loss: 0.5808 - val_accuracy: 0.7320\n",
      "Epoch 2/50\n",
      "12845/12845 [==============================] - 50s 4ms/step - loss: 0.6025 - accuracy: 0.7087 - val_loss: 0.5633 - val_accuracy: 0.7508\n",
      "Epoch 3/50\n",
      "12845/12845 [==============================] - 53s 4ms/step - loss: 0.6038 - accuracy: 0.6985 - val_loss: 0.5649 - val_accuracy: 0.7378\n",
      "Epoch 4/50\n",
      "12845/12845 [==============================] - 59s 5ms/step - loss: 0.6116 - accuracy: 0.6981 - val_loss: 0.5814 - val_accuracy: 0.7319\n",
      "Epoch 5/50\n",
      "12845/12845 [==============================] - 50s 4ms/step - loss: 0.6130 - accuracy: 0.6960 - val_loss: 0.5835 - val_accuracy: 0.7320\n"
     ]
    }
   ],
   "source": [
    "with tf.device('/cpu:0'):\n",
    "    early_stop_callback = tf.keras.callbacks.EarlyStopping(monitor='val_loss', patience=3)\n",
    "    history = cnnlstm_model.fit(X_train, Y_train, \n",
    "                               validation_data=(X_val, Y_val), \n",
    "                               epochs=50, \n",
    "                               batch_size=8,\n",
    "                               callbacks=[early_stop_callback])"
   ]
  },
  {
   "cell_type": "code",
   "execution_count": 118,
   "id": "4dfbc3fc",
   "metadata": {
    "ExecuteTime": {
     "end_time": "2022-09-04T14:26:40.279928Z",
     "start_time": "2022-09-04T14:26:37.392960Z"
    }
   },
   "outputs": [
    {
     "name": "stdout",
     "output_type": "stream",
     "text": [
      "1601/1601 [==============================] - 2s 2ms/step - loss: 0.6137 - accuracy: 0.6940\n"
     ]
    }
   ],
   "source": [
    "with tf.device('/cpu:0'):\n",
    "    cnnlstm_model.evaluate(x=X_test, y=Y_test)"
   ]
  },
  {
   "cell_type": "markdown",
   "id": "25ad1e58",
   "metadata": {
    "ExecuteTime": {
     "end_time": "2022-09-04T14:27:43.286122Z",
     "start_time": "2022-09-04T14:27:43.283581Z"
    }
   },
   "source": [
    "# What if we perform some feature normalization"
   ]
  },
  {
   "cell_type": "code",
   "execution_count": 186,
   "id": "6a0a94c8",
   "metadata": {
    "ExecuteTime": {
     "end_time": "2022-09-04T15:16:47.746866Z",
     "start_time": "2022-09-04T15:16:43.192336Z"
    }
   },
   "outputs": [
    {
     "name": "stdout",
     "output_type": "stream",
     "text": [
      "(102759, 2, 778)\n",
      "-5.388638848904246e+20 303367410523114.6\n",
      "(102759, 2, 778)\n",
      "-1.0 1.0\n",
      "-26.98382 25.24706\n",
      "-1.97458 5.48472\n"
     ]
    }
   ],
   "source": [
    "from sklearn.preprocessing import MinMaxScaler\n",
    "\n",
    "print(X_train.shape)\n",
    "print(X_train.min().round(5), X_train.max().round(5)) # -20, 100\n",
    "\n",
    "scaler = MinMaxScaler(feature_range=(-1,1))\n",
    "X_train_norm = scaler.fit_transform(X_train.reshape(X_train.shape[0], -1)).reshape(X_train.shape)\n",
    "X_val_norm = scaler.transform(X_val.reshape(X_val.shape[0], -1)).reshape(X_val.shape)\n",
    "X_test_norm = scaler.transform(X_test.reshape(X_test.shape[0], -1)).reshape(X_test.shape)\n",
    "\n",
    "print(X_train.shape)\n",
    "print(X_train_norm.min().round(5), X_train_norm.max().round(5)) # -1, 1\n",
    "print(X_val_norm.min().round(5), X_val_norm.max().round(5)) # -1, 1\n",
    "print(X_test_norm.min().round(5), X_test_norm.max().round(5)) # -1, 1c\n"
   ]
  },
  {
   "cell_type": "code",
   "execution_count": 187,
   "id": "6d2ddf8c",
   "metadata": {
    "ExecuteTime": {
     "end_time": "2022-09-04T15:22:38.549644Z",
     "start_time": "2022-09-04T15:16:52.866824Z"
    }
   },
   "outputs": [
    {
     "name": "stdout",
     "output_type": "stream",
     "text": [
      "Epoch 1/50\n",
      "12845/12845 [==============================] - 32s 3ms/step - loss: 4.6449 - accuracy: 0.6953 - val_loss: 4.0855 - val_accuracy: 0.7321\n",
      "Epoch 2/50\n",
      "12845/12845 [==============================] - 32s 2ms/step - loss: 4.0495 - accuracy: 0.7283 - val_loss: 2.6454 - val_accuracy: 0.7939\n",
      "Epoch 3/50\n",
      "12845/12845 [==============================] - 29s 2ms/step - loss: 0.8234 - accuracy: 0.7564 - val_loss: 0.4881 - val_accuracy: 0.7994\n",
      "Epoch 4/50\n",
      "12845/12845 [==============================] - 30s 2ms/step - loss: 0.4982 - accuracy: 0.7690 - val_loss: 0.4513 - val_accuracy: 0.8043\n",
      "Epoch 5/50\n",
      "12845/12845 [==============================] - 30s 2ms/step - loss: 0.4799 - accuracy: 0.7829 - val_loss: 0.4354 - val_accuracy: 0.8101\n",
      "Epoch 6/50\n",
      "12845/12845 [==============================] - 30s 2ms/step - loss: 0.4751 - accuracy: 0.7848 - val_loss: 0.4336 - val_accuracy: 0.8100\n",
      "Epoch 7/50\n",
      "12845/12845 [==============================] - 32s 2ms/step - loss: 0.4731 - accuracy: 0.7859 - val_loss: 0.4360 - val_accuracy: 0.8107\n",
      "Epoch 8/50\n",
      "12845/12845 [==============================] - 33s 3ms/step - loss: 0.4730 - accuracy: 0.7853 - val_loss: 0.4328 - val_accuracy: 0.8101\n",
      "Epoch 9/50\n",
      "12845/12845 [==============================] - 30s 2ms/step - loss: 0.4728 - accuracy: 0.7861 - val_loss: 0.4359 - val_accuracy: 0.8109\n",
      "Epoch 10/50\n",
      "12845/12845 [==============================] - 29s 2ms/step - loss: 0.4714 - accuracy: 0.7866 - val_loss: 0.4347 - val_accuracy: 0.8115\n",
      "Epoch 11/50\n",
      "12845/12845 [==============================] - 35s 3ms/step - loss: 0.4711 - accuracy: 0.7864 - val_loss: 0.4335 - val_accuracy: 0.8085\n"
     ]
    }
   ],
   "source": [
    "# Allign_cols = True\n",
    "with tf.device('/cpu:0'):\n",
    "    early_stop_callback = tf.keras.callbacks.EarlyStopping(monitor='val_loss', patience=3)\n",
    "    history = simple_model.fit(X_train_norm, Y_train,\n",
    "                               validation_data=(X_val_norm, Y_val), \n",
    "                               epochs=50, \n",
    "                               batch_size=8,\n",
    "                               callbacks=[early_stop_callback])\n"
   ]
  },
  {
   "cell_type": "code",
   "execution_count": 189,
   "id": "6ed6bb23",
   "metadata": {
    "ExecuteTime": {
     "end_time": "2022-09-04T15:28:58.877168Z",
     "start_time": "2022-09-04T15:28:56.120686Z"
    }
   },
   "outputs": [
    {
     "name": "stdout",
     "output_type": "stream",
     "text": [
      "1601/1601 [==============================] - 2s 1ms/step - loss: 0.4908 - accuracy: 0.7806\n"
     ]
    }
   ],
   "source": [
    "with tf.device('/cpu:0'):\n",
    "    simple_model.evaluate(x=X_test_norm, y=Y_test)"
   ]
  },
  {
   "cell_type": "code",
   "execution_count": 192,
   "id": "ea60a5c2",
   "metadata": {
    "ExecuteTime": {
     "end_time": "2022-09-04T15:29:33.450273Z",
     "start_time": "2022-09-04T15:29:30.882191Z"
    }
   },
   "outputs": [
    {
     "name": "stdout",
     "output_type": "stream",
     "text": [
      "1601/1601 [==============================] - 2s 1ms/step\n",
      "0.0024554483 0.93269855\n"
     ]
    }
   ],
   "source": [
    "with tf.device('/cpu:0'):\n",
    "    p = simple_model.predict(X_test_norm)\n",
    "    \n",
    "print(p.min(), p.max())"
   ]
  },
  {
   "cell_type": "code",
   "execution_count": 193,
   "id": "4494c595",
   "metadata": {
    "ExecuteTime": {
     "end_time": "2022-09-04T15:32:24.716177Z",
     "start_time": "2022-09-04T15:29:46.637813Z"
    }
   },
   "outputs": [
    {
     "name": "stdout",
     "output_type": "stream",
     "text": [
      "Epoch 1/50\n",
      "12845/12845 [==============================] - 41s 3ms/step - loss: 0.4460 - accuracy: 0.7971 - val_loss: 0.3648 - val_accuracy: 0.8521\n",
      "Epoch 2/50\n",
      "12845/12845 [==============================] - 37s 3ms/step - loss: 0.4105 - accuracy: 0.8182 - val_loss: 0.3713 - val_accuracy: 0.8466\n",
      "Epoch 3/50\n",
      "12845/12845 [==============================] - 39s 3ms/step - loss: 0.3998 - accuracy: 0.8293 - val_loss: 0.3744 - val_accuracy: 0.8419\n",
      "Epoch 4/50\n",
      "12845/12845 [==============================] - 39s 3ms/step - loss: 0.3954 - accuracy: 0.8317 - val_loss: 0.4474 - val_accuracy: 0.7715\n"
     ]
    }
   ],
   "source": [
    "# Allign_cols = True\n",
    "with tf.device('/cpu:0'):\n",
    "    early_stop_callback = tf.keras.callbacks.EarlyStopping(monitor='val_loss', patience=3)\n",
    "    history = cnnlstm_model.fit(X_train_norm, Y_train,\n",
    "                               validation_data=(X_val_norm, Y_val), \n",
    "                               epochs=50, \n",
    "                               batch_size=8,\n",
    "                               callbacks=[early_stop_callback])\n"
   ]
  },
  {
   "cell_type": "code",
   "execution_count": 194,
   "id": "dbc63534",
   "metadata": {
    "ExecuteTime": {
     "end_time": "2022-09-04T15:32:27.921787Z",
     "start_time": "2022-09-04T15:32:24.717734Z"
    }
   },
   "outputs": [
    {
     "name": "stdout",
     "output_type": "stream",
     "text": [
      "1601/1601 [==============================] - 2s 2ms/step - loss: 0.4736 - accuracy: 0.7586\n"
     ]
    }
   ],
   "source": [
    "with tf.device('/cpu:0'):\n",
    "    cnnlstm_model.evaluate(x=X_test_norm, y=Y_test)"
   ]
  },
  {
   "cell_type": "code",
   "execution_count": null,
   "id": "22be57dc",
   "metadata": {},
   "outputs": [],
   "source": [
    "with tf.device('/cpu:0'):\n",
    "    p = cnnlstm_model.predict(X_test_norm)\n",
    "    \n",
    "print(p.min(), p.max())"
   ]
  }
 ],
 "metadata": {
  "kernelspec": {
   "display_name": "Python 3 (ipykernel)",
   "language": "python",
   "name": "python3"
  },
  "language_info": {
   "codemirror_mode": {
    "name": "ipython",
    "version": 3
   },
   "file_extension": ".py",
   "mimetype": "text/x-python",
   "name": "python",
   "nbconvert_exporter": "python",
   "pygments_lexer": "ipython3",
   "version": "3.8.13"
  }
 },
 "nbformat": 4,
 "nbformat_minor": 5
}
