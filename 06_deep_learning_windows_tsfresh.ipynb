{
 "cells": [
  {
   "cell_type": "markdown",
   "id": "965230af",
   "metadata": {},
   "source": [
    "# Alternative 2 - On a given feature set"
   ]
  },
  {
   "cell_type": "code",
   "execution_count": 12,
   "id": "47c78f53",
   "metadata": {
    "ExecuteTime": {
     "end_time": "2022-09-04T12:39:33.512598Z",
     "start_time": "2022-09-04T12:39:32.222728Z"
    }
   },
   "outputs": [],
   "source": [
    "import pandas as pd\n",
    "import numpy as np\n",
    "import keras\n",
    "import tensorflow as tf\n",
    "from sklearn import metrics\n",
    "\n",
    "# NEW METHOD TO RESET SEED TO 0:\n",
    "def reset_seed():\n",
    "    tf.random.set_seed(0)\n",
    "    np.random.seed(0)\n",
    "    \n",
    "def classification_results(y, yhat):\n",
    "    acc = metrics.accuracy_score(y, yhat)\n",
    "    mcc = metrics.matthews_corrcoef(y, yhat)\n",
    "    f1_weighted = metrics.f1_score(y, yhat, average=\"weighted\")\n",
    "    return acc, mcc, f1_weighted\n",
    "\n",
    "def evaluate_per_pid(df, test_range, nnmodel, x_test, name):\n",
    "    \n",
    "    df_held_out_test = df[df[\"pid\"].isin(test_range)][[\"pid\", \"time\", \"sleep_phase\", \"sleep\"]].copy()\n",
    "    df_held_out_test[\"yhat\"] = nnmodel.predict(x_test).round()\n",
    "    df_held_out_test.to_csv(f\"results/{name}.csv.tar.gz\", index=False)\n",
    "        \n",
    "    final_results = df_held_out_test.groupby([\"pid\"])[[\"sleep\", \"yhat\"]].apply(lambda x:\n",
    "                                                                          classification_results(x[\"sleep\"].values, \n",
    "                                                                                                 x[\"yhat\"].values))\n",
    "\n",
    "    final_results = final_results.apply(pd.Series).rename(columns={0: \"Accuracy\", 1: \"MCC\", 2: \"F1_weighted\"})\n",
    "\n",
    "    return final_results.agg([\"mean\", \"std\"]).round(3)\n",
    "\n",
    "reset_seed()"
   ]
  },
  {
   "cell_type": "code",
   "execution_count": 13,
   "id": "ecc00a62",
   "metadata": {
    "ExecuteTime": {
     "end_time": "2022-09-04T12:40:07.351252Z",
     "start_time": "2022-09-04T12:39:34.495599Z"
    }
   },
   "outputs": [
    {
     "data": {
      "text/html": [
       "<div>\n",
       "<style scoped>\n",
       "    .dataframe tbody tr th:only-of-type {\n",
       "        vertical-align: middle;\n",
       "    }\n",
       "\n",
       "    .dataframe tbody tr th {\n",
       "        vertical-align: top;\n",
       "    }\n",
       "\n",
       "    .dataframe thead th {\n",
       "        text-align: right;\n",
       "    }\n",
       "</style>\n",
       "<table border=\"1\" class=\"dataframe\">\n",
       "  <thead>\n",
       "    <tr style=\"text-align: right;\">\n",
       "      <th></th>\n",
       "      <th>time</th>\n",
       "      <th>act</th>\n",
       "      <th>sleep_phase</th>\n",
       "      <th>hr</th>\n",
       "      <th>pid</th>\n",
       "      <th>act__variance_larger_than_standard_deviation</th>\n",
       "      <th>act__has_duplicate_max</th>\n",
       "      <th>act__has_duplicate_min</th>\n",
       "      <th>act__has_duplicate</th>\n",
       "      <th>act__sum_values</th>\n",
       "      <th>...</th>\n",
       "      <th>hr__fourier_entropy__bins_2</th>\n",
       "      <th>hr__fourier_entropy__bins_3</th>\n",
       "      <th>hr__fourier_entropy__bins_5</th>\n",
       "      <th>hr__fourier_entropy__bins_10</th>\n",
       "      <th>hr__fourier_entropy__bins_100</th>\n",
       "      <th>hr__permutation_entropy__dimension_3__tau_1</th>\n",
       "      <th>hr__permutation_entropy__dimension_4__tau_1</th>\n",
       "      <th>hr__permutation_entropy__dimension_5__tau_1</th>\n",
       "      <th>hr__permutation_entropy__dimension_6__tau_1</th>\n",
       "      <th>hr__permutation_entropy__dimension_7__tau_1</th>\n",
       "    </tr>\n",
       "  </thead>\n",
       "  <tbody>\n",
       "    <tr>\n",
       "      <th>0</th>\n",
       "      <td>1</td>\n",
       "      <td>2.0</td>\n",
       "      <td>0.0</td>\n",
       "      <td>71.0</td>\n",
       "      <td>0</td>\n",
       "      <td>0.0</td>\n",
       "      <td>0.0</td>\n",
       "      <td>0.0</td>\n",
       "      <td>0.0</td>\n",
       "      <td>2.0</td>\n",
       "      <td>...</td>\n",
       "      <td>-0.000000</td>\n",
       "      <td>-0.000000</td>\n",
       "      <td>-0.000000</td>\n",
       "      <td>-0.000000</td>\n",
       "      <td>-0.000000</td>\n",
       "      <td>NaN</td>\n",
       "      <td>NaN</td>\n",
       "      <td>NaN</td>\n",
       "      <td>NaN</td>\n",
       "      <td>NaN</td>\n",
       "    </tr>\n",
       "    <tr>\n",
       "      <th>1</th>\n",
       "      <td>2</td>\n",
       "      <td>0.0</td>\n",
       "      <td>0.0</td>\n",
       "      <td>76.0</td>\n",
       "      <td>0</td>\n",
       "      <td>0.0</td>\n",
       "      <td>0.0</td>\n",
       "      <td>0.0</td>\n",
       "      <td>0.0</td>\n",
       "      <td>3.0</td>\n",
       "      <td>...</td>\n",
       "      <td>0.693147</td>\n",
       "      <td>0.693147</td>\n",
       "      <td>0.693147</td>\n",
       "      <td>0.693147</td>\n",
       "      <td>0.693147</td>\n",
       "      <td>-0.000000</td>\n",
       "      <td>NaN</td>\n",
       "      <td>NaN</td>\n",
       "      <td>NaN</td>\n",
       "      <td>NaN</td>\n",
       "    </tr>\n",
       "    <tr>\n",
       "      <th>2</th>\n",
       "      <td>3</td>\n",
       "      <td>1.0</td>\n",
       "      <td>0.0</td>\n",
       "      <td>78.0</td>\n",
       "      <td>0</td>\n",
       "      <td>0.0</td>\n",
       "      <td>1.0</td>\n",
       "      <td>0.0</td>\n",
       "      <td>1.0</td>\n",
       "      <td>5.0</td>\n",
       "      <td>...</td>\n",
       "      <td>0.636514</td>\n",
       "      <td>0.636514</td>\n",
       "      <td>0.636514</td>\n",
       "      <td>0.636514</td>\n",
       "      <td>0.636514</td>\n",
       "      <td>0.693147</td>\n",
       "      <td>-0.000000</td>\n",
       "      <td>NaN</td>\n",
       "      <td>NaN</td>\n",
       "      <td>NaN</td>\n",
       "    </tr>\n",
       "    <tr>\n",
       "      <th>3</th>\n",
       "      <td>4</td>\n",
       "      <td>2.0</td>\n",
       "      <td>0.0</td>\n",
       "      <td>73.0</td>\n",
       "      <td>0</td>\n",
       "      <td>1.0</td>\n",
       "      <td>0.0</td>\n",
       "      <td>0.0</td>\n",
       "      <td>1.0</td>\n",
       "      <td>92.0</td>\n",
       "      <td>...</td>\n",
       "      <td>0.636514</td>\n",
       "      <td>0.636514</td>\n",
       "      <td>0.636514</td>\n",
       "      <td>0.636514</td>\n",
       "      <td>1.098612</td>\n",
       "      <td>1.098612</td>\n",
       "      <td>0.693147</td>\n",
       "      <td>-0.000000</td>\n",
       "      <td>NaN</td>\n",
       "      <td>NaN</td>\n",
       "    </tr>\n",
       "    <tr>\n",
       "      <th>4</th>\n",
       "      <td>5</td>\n",
       "      <td>87.0</td>\n",
       "      <td>0.0</td>\n",
       "      <td>80.0</td>\n",
       "      <td>0</td>\n",
       "      <td>1.0</td>\n",
       "      <td>0.0</td>\n",
       "      <td>1.0</td>\n",
       "      <td>1.0</td>\n",
       "      <td>92.0</td>\n",
       "      <td>...</td>\n",
       "      <td>0.693147</td>\n",
       "      <td>0.693147</td>\n",
       "      <td>0.693147</td>\n",
       "      <td>0.693147</td>\n",
       "      <td>1.386294</td>\n",
       "      <td>1.386294</td>\n",
       "      <td>1.098612</td>\n",
       "      <td>0.693147</td>\n",
       "      <td>-0.0</td>\n",
       "      <td>NaN</td>\n",
       "    </tr>\n",
       "  </tbody>\n",
       "</table>\n",
       "<p>5 rows × 1541 columns</p>\n",
       "</div>"
      ],
      "text/plain": [
       "   time   act  sleep_phase    hr  pid  \\\n",
       "0     1   2.0          0.0  71.0    0   \n",
       "1     2   0.0          0.0  76.0    0   \n",
       "2     3   1.0          0.0  78.0    0   \n",
       "3     4   2.0          0.0  73.0    0   \n",
       "4     5  87.0          0.0  80.0    0   \n",
       "\n",
       "   act__variance_larger_than_standard_deviation  act__has_duplicate_max  \\\n",
       "0                                           0.0                     0.0   \n",
       "1                                           0.0                     0.0   \n",
       "2                                           0.0                     1.0   \n",
       "3                                           1.0                     0.0   \n",
       "4                                           1.0                     0.0   \n",
       "\n",
       "   act__has_duplicate_min  act__has_duplicate  act__sum_values  ...  \\\n",
       "0                     0.0                 0.0              2.0  ...   \n",
       "1                     0.0                 0.0              3.0  ...   \n",
       "2                     0.0                 1.0              5.0  ...   \n",
       "3                     0.0                 1.0             92.0  ...   \n",
       "4                     1.0                 1.0             92.0  ...   \n",
       "\n",
       "   hr__fourier_entropy__bins_2  hr__fourier_entropy__bins_3  \\\n",
       "0                    -0.000000                    -0.000000   \n",
       "1                     0.693147                     0.693147   \n",
       "2                     0.636514                     0.636514   \n",
       "3                     0.636514                     0.636514   \n",
       "4                     0.693147                     0.693147   \n",
       "\n",
       "   hr__fourier_entropy__bins_5  hr__fourier_entropy__bins_10  \\\n",
       "0                    -0.000000                     -0.000000   \n",
       "1                     0.693147                      0.693147   \n",
       "2                     0.636514                      0.636514   \n",
       "3                     0.636514                      0.636514   \n",
       "4                     0.693147                      0.693147   \n",
       "\n",
       "   hr__fourier_entropy__bins_100  hr__permutation_entropy__dimension_3__tau_1  \\\n",
       "0                      -0.000000                                          NaN   \n",
       "1                       0.693147                                    -0.000000   \n",
       "2                       0.636514                                     0.693147   \n",
       "3                       1.098612                                     1.098612   \n",
       "4                       1.386294                                     1.386294   \n",
       "\n",
       "   hr__permutation_entropy__dimension_4__tau_1  \\\n",
       "0                                          NaN   \n",
       "1                                          NaN   \n",
       "2                                    -0.000000   \n",
       "3                                     0.693147   \n",
       "4                                     1.098612   \n",
       "\n",
       "   hr__permutation_entropy__dimension_5__tau_1  \\\n",
       "0                                          NaN   \n",
       "1                                          NaN   \n",
       "2                                          NaN   \n",
       "3                                    -0.000000   \n",
       "4                                     0.693147   \n",
       "\n",
       "   hr__permutation_entropy__dimension_6__tau_1  \\\n",
       "0                                          NaN   \n",
       "1                                          NaN   \n",
       "2                                          NaN   \n",
       "3                                          NaN   \n",
       "4                                         -0.0   \n",
       "\n",
       "   hr__permutation_entropy__dimension_7__tau_1  \n",
       "0                                          NaN  \n",
       "1                                          NaN  \n",
       "2                                          NaN  \n",
       "3                                          NaN  \n",
       "4                                          NaN  \n",
       "\n",
       "[5 rows x 1541 columns]"
      ]
     },
     "execution_count": 13,
     "metadata": {},
     "output_type": "execute_result"
    }
   ],
   "source": [
    "df = pd.read_csv(\"./datasets/df_tsfresh_features.tar.gz\")\n",
    "df.head()"
   ]
  },
  {
   "cell_type": "code",
   "execution_count": 14,
   "id": "c86c492f",
   "metadata": {
    "ExecuteTime": {
     "end_time": "2022-09-04T12:40:19.144698Z",
     "start_time": "2022-09-04T12:40:19.125111Z"
    }
   },
   "outputs": [
    {
     "data": {
      "text/plain": [
       "array([0., 1., 2., 5., 3., 4.])"
      ]
     },
     "execution_count": 14,
     "metadata": {},
     "output_type": "execute_result"
    }
   ],
   "source": [
    "df[\"sleep_phase\"].unique()\n",
    "# 0 -> Wake\n",
    "# 1 -> phase 1 (light sleep)\n",
    "# 2 -> phase 2 (deep sleep N1)\n",
    "# 3 -> phase 3 (deep sleep N2)\n",
    "# 4 -> NREM    ()\n",
    "# 5 -> REM"
   ]
  },
  {
   "cell_type": "code",
   "execution_count": 15,
   "id": "b26211ac",
   "metadata": {
    "ExecuteTime": {
     "end_time": "2022-09-04T12:40:20.175070Z",
     "start_time": "2022-09-04T12:40:20.171801Z"
    }
   },
   "outputs": [],
   "source": [
    "df[\"sleep\"] = df[\"sleep_phase\"] > 0"
   ]
  },
  {
   "cell_type": "markdown",
   "id": "b7f37cce",
   "metadata": {},
   "source": [
    "### Model high-level details:\n",
    "\n",
    "- Model input (2, S, 11): \n",
    "    - Option 1: With data allignment:\n",
    "                       [\n",
    "                          [hr_0, hr_1, hr_2   ....hr_N]\n",
    "                          [act_0, act_1, act_2....act_N]\n",
    "                       ]\n",
    "\n",
    "    - Option 2: Without data allignment:\n",
    "                       [\n",
    "                           [hr_0, hr_1, hr_2   ....hr_N, act_0, act_1, act_2....act_N]\n",
    "                       ]\n",
    "                       \n",
    "\n",
    "- Model output:\n",
    "    - (S, 1) (bin sleep phase)\n",
    "   \n"
   ]
  },
  {
   "cell_type": "markdown",
   "id": "da8d890a",
   "metadata": {},
   "source": [
    "### Get XY from dataframe"
   ]
  },
  {
   "cell_type": "code",
   "execution_count": 22,
   "id": "5f84c507",
   "metadata": {
    "ExecuteTime": {
     "end_time": "2022-09-04T13:04:48.251864Z",
     "start_time": "2022-09-04T13:04:48.231811Z"
    }
   },
   "outputs": [],
   "source": [
    "def generate_XY(df, ycol=\"sleep\", align_cols=True):\n",
    "\n",
    "    # This could be used in several different ways\n",
    "    # e.g., removing nan cols, inputing averages, etc\n",
    "    df = df.fillna(0.0)\n",
    "    df = df.replace([np.inf, -np.inf], 0)\n",
    "    \n",
    "    hr_cols = [k for k in df.keys() if k.startswith(\"hr_\")]\n",
    "    act_cols = [k for k in df.keys() if k.startswith(\"act_\")]\n",
    "\n",
    "    hr_cols = sorted(hr_cols)\n",
    "    act_cols = sorted(act_cols)\n",
    "\n",
    "    if align_cols:\n",
    "        hr = df[hr_cols].values\n",
    "        act = df[act_cols].values\n",
    "        X = np.stack((act,hr))\n",
    "        X = X.transpose(1,0,2)\n",
    "    else:\n",
    "        X = df[hr_cols + act_cols].values\n",
    "\n",
    "    Y  = df[ycol].values.reshape(-1, 1)\n",
    "        \n",
    "    return X, Y\n"
   ]
  },
  {
   "cell_type": "code",
   "execution_count": 23,
   "id": "4fa90631",
   "metadata": {
    "ExecuteTime": {
     "end_time": "2022-09-04T13:04:48.683307Z",
     "start_time": "2022-09-04T13:04:48.676477Z"
    }
   },
   "outputs": [],
   "source": [
    "# generate_XY(df, align_cols=True)   #  X.shape is (102759, 2, 768)\n",
    "# generate_XY(df, align_cols=False).shape  #  X.shape is (102759, 1536)"
   ]
  },
  {
   "cell_type": "code",
   "execution_count": 46,
   "id": "41435ea1",
   "metadata": {
    "ExecuteTime": {
     "end_time": "2022-09-04T13:15:30.615893Z",
     "start_time": "2022-09-04T13:15:18.639969Z"
    }
   },
   "outputs": [
    {
     "data": {
      "text/plain": [
       "pid\n",
       "0    ([[[ 4.          2.         -1.         -1.   ...\n",
       "1    ([[[ 1.          1.         -1.         -1.   ...\n",
       "2    ([[[ 8.73000000e+02  1.50000000e+01 -1.0000000...\n",
       "3    ([[[ 1.          1.         -1.         -1.   ...\n",
       "4    ([[[ 1.00000000e+00  1.00000000e+00 -1.0000000...\n",
       "dtype: object"
      ]
     },
     "execution_count": 46,
     "metadata": {},
     "output_type": "execute_result"
    }
   ],
   "source": [
    "align_cols = True\n",
    "df_XY = df.groupby(\"pid\").apply(lambda x: generate_XY(x, align_cols=align_cols))\n",
    "df_XY.head()"
   ]
  },
  {
   "cell_type": "code",
   "execution_count": 47,
   "id": "62aa0eae",
   "metadata": {
    "ExecuteTime": {
     "end_time": "2022-09-04T13:15:32.432247Z",
     "start_time": "2022-09-04T13:15:32.428207Z"
    }
   },
   "outputs": [
    {
     "data": {
      "text/plain": [
       "((625, 2, 768), (625, 1))"
      ]
     },
     "execution_count": 47,
     "metadata": {},
     "output_type": "execute_result"
    }
   ],
   "source": [
    "idx = 3\n",
    "df_XY.iloc[idx][0].shape, df_XY.iloc[idx][1].shape"
   ]
  },
  {
   "cell_type": "code",
   "execution_count": 48,
   "id": "d1566f84",
   "metadata": {
    "ExecuteTime": {
     "end_time": "2022-09-04T13:15:36.413119Z",
     "start_time": "2022-09-04T13:15:36.410125Z"
    }
   },
   "outputs": [],
   "source": [
    "xs, ys = [], []\n",
    "for row_id, (x, y) in df_XY.items():\n",
    "    xs.append(x)\n",
    "    ys.append(y)\n",
    "    \n",
    "xs = np.array(xs, dtype=object)\n",
    "ys = np.array(ys, dtype=object)\n"
   ]
  },
  {
   "cell_type": "code",
   "execution_count": 49,
   "id": "5dfc73da",
   "metadata": {
    "ExecuteTime": {
     "end_time": "2022-09-04T13:15:39.186529Z",
     "start_time": "2022-09-04T13:15:39.169294Z"
    }
   },
   "outputs": [
    {
     "data": {
      "text/plain": [
       "((4778, 2, 768), (4778, 1))"
      ]
     },
     "execution_count": 49,
     "metadata": {},
     "output_type": "execute_result"
    }
   ],
   "source": [
    "# Now we can create a simple trainset from the dataset making sure that\n",
    "# data from one subject is NOT at the same time in the training and in the test sets\n",
    "subjects_train_idx = [0, 1, 2, 3, 4]    \n",
    "np.vstack(xs[subjects_train_idx]).shape, np.vstack(ys[subjects_train_idx]).shape"
   ]
  },
  {
   "cell_type": "code",
   "execution_count": 50,
   "id": "19030466",
   "metadata": {
    "ExecuteTime": {
     "end_time": "2022-09-04T15:15:50.792023Z",
     "start_time": "2022-09-04T15:15:35.996401Z"
    }
   },
   "outputs": [],
   "source": [
    "subjects_train_idx = range(0, 40)\n",
    "X_train = np.vstack(xs[subjects_train_idx])\n",
    "Y_train = np.vstack(ys[subjects_train_idx])\n",
    "\n",
    "subjects_val_idx = range(40, 50)\n",
    "X_val = np.vstack(xs[subjects_val_idx])\n",
    "Y_val = np.vstack(ys[subjects_val_idx])\n",
    "\n",
    "subjects_test_idx = range(50, 100)\n",
    "X_test = np.vstack(xs[subjects_test_idx])\n",
    "Y_test = np.vstack(ys[subjects_test_idx])\n"
   ]
  },
  {
   "cell_type": "markdown",
   "id": "5d1f9bb3",
   "metadata": {
    "ExecuteTime": {
     "end_time": "2022-09-04T12:35:56.999748Z",
     "start_time": "2022-09-04T12:35:56.993110Z"
    }
   },
   "source": [
    "### Evaluate a few models"
   ]
  },
  {
   "cell_type": "markdown",
   "id": "34c60f18",
   "metadata": {},
   "source": [
    "#### Simple Model"
   ]
  },
  {
   "cell_type": "code",
   "execution_count": 51,
   "id": "fbed22e6",
   "metadata": {
    "ExecuteTime": {
     "end_time": "2022-09-04T13:16:13.118618Z",
     "start_time": "2022-09-04T13:16:13.040035Z"
    }
   },
   "outputs": [],
   "source": [
    "def simple_dense_model(num_features, align_cols):\n",
    "    \n",
    "    model = tf.keras.models.Sequential()\n",
    "    if align_cols:\n",
    "        model.add(tf.keras.layers.Dense(32, input_shape=(2, num_features), activation='relu'))\n",
    "    else:\n",
    "        model.add(tf.keras.layers.Dense(32, input_shape=(num_features, ), activation='relu'))\n",
    "    \n",
    "    model.add(tf.keras.layers.Dense(8, activation='relu'))\n",
    "    model.add(tf.keras.layers.Flatten())\n",
    "    model.add(tf.keras.layers.Dense(1, activation='sigmoid'))\n",
    "\n",
    "    model.compile(loss='binary_crossentropy', optimizer='adam', metrics=['accuracy'])\n",
    "    return model\n",
    "\n",
    "simple_model = simple_dense_model(num_features = X_train.shape[-1], align_cols=align_cols)\n",
    "  "
   ]
  },
  {
   "cell_type": "code",
   "execution_count": 55,
   "id": "90d7f190",
   "metadata": {
    "ExecuteTime": {
     "end_time": "2022-09-04T13:11:35.056439Z",
     "start_time": "2022-09-04T13:04:56.499498Z"
    }
   },
   "outputs": [
    {
     "name": "stdout",
     "output_type": "stream",
     "text": [
      "Epoch 1/50\n",
      "5145/5145 [==============================] - 3s 601us/step - loss: 0.4893 - accuracy: 0.7864 - val_loss: 0.4792 - val_accuracy: 0.7818\n",
      "Epoch 2/50\n",
      "5145/5145 [==============================] - 3s 579us/step - loss: 551595.5000 - accuracy: 0.7883 - val_loss: 0.4812 - val_accuracy: 0.7824\n",
      "Epoch 3/50\n",
      "5145/5145 [==============================] - 3s 587us/step - loss: 0.4769 - accuracy: 0.7893 - val_loss: 0.4803 - val_accuracy: 0.7827\n",
      "Epoch 4/50\n",
      "5145/5145 [==============================] - 3s 597us/step - loss: 321857248.0000 - accuracy: 0.7897 - val_loss: 0.4790 - val_accuracy: 0.7824\n",
      "Epoch 5/50\n",
      "5145/5145 [==============================] - 3s 595us/step - loss: 0.5024 - accuracy: 0.7884 - val_loss: 0.4798 - val_accuracy: 0.7864\n",
      "Epoch 6/50\n",
      "5145/5145 [==============================] - 3s 596us/step - loss: 0.4710 - accuracy: 0.7892 - val_loss: 0.4786 - val_accuracy: 0.7851\n",
      "Epoch 7/50\n",
      "5145/5145 [==============================] - 3s 589us/step - loss: 0.4698 - accuracy: 0.7908 - val_loss: 0.4849 - val_accuracy: 0.7803\n",
      "Epoch 8/50\n",
      "5145/5145 [==============================] - 3s 587us/step - loss: 0.4786 - accuracy: 0.7915 - val_loss: 0.4752 - val_accuracy: 0.7887\n",
      "Epoch 9/50\n",
      "5145/5145 [==============================] - 3s 590us/step - loss: 0.4987 - accuracy: 0.7930 - val_loss: 0.4751 - val_accuracy: 0.7852\n",
      "Epoch 10/50\n",
      "5145/5145 [==============================] - 3s 595us/step - loss: 0.4989 - accuracy: 0.7912 - val_loss: 0.4750 - val_accuracy: 0.7855\n",
      "Epoch 11/50\n",
      "5145/5145 [==============================] - 3s 593us/step - loss: 0.5729 - accuracy: 0.7914 - val_loss: 0.4747 - val_accuracy: 0.7862\n",
      "Epoch 12/50\n",
      "5145/5145 [==============================] - 3s 617us/step - loss: 0.4682 - accuracy: 0.7929 - val_loss: 0.4851 - val_accuracy: 0.7824\n",
      "Epoch 13/50\n",
      "5145/5145 [==============================] - 3s 591us/step - loss: 0.4693 - accuracy: 0.7938 - val_loss: 0.4898 - val_accuracy: 0.7909\n",
      "Epoch 14/50\n",
      "5145/5145 [==============================] - 3s 599us/step - loss: 0.4702 - accuracy: 0.7925 - val_loss: 0.4731 - val_accuracy: 0.7850\n",
      "Epoch 15/50\n",
      "5145/5145 [==============================] - 3s 586us/step - loss: 130681.9531 - accuracy: 0.7926 - val_loss: 0.5201 - val_accuracy: 0.7839\n",
      "Epoch 16/50\n",
      "5145/5145 [==============================] - 3s 588us/step - loss: 5060158.0000 - accuracy: 0.7916 - val_loss: 0.5497 - val_accuracy: 0.7874\n",
      "Epoch 17/50\n",
      "5145/5145 [==============================] - 3s 586us/step - loss: 0.4690 - accuracy: 0.7914 - val_loss: 0.5818 - val_accuracy: 0.7899\n",
      "Epoch 18/50\n",
      "5145/5145 [==============================] - 3s 589us/step - loss: 0.6646 - accuracy: 0.7906 - val_loss: 0.4762 - val_accuracy: 0.7874\n",
      "Epoch 19/50\n",
      "5145/5145 [==============================] - 3s 610us/step - loss: 0.4686 - accuracy: 0.7921 - val_loss: 0.4754 - val_accuracy: 0.7856\n"
     ]
    }
   ],
   "source": [
    "reset_seed()\n",
    "\n",
    "# Check what happens when toggling align_cols above\n",
    "with tf.device('/cpu:0'):\n",
    "    early_stop_callback = tf.keras.callbacks.EarlyStopping(monitor='val_loss', patience=5, restore_best_weights=True)\n",
    "    history = simple_model.fit(X_train, Y_train,\n",
    "                               validation_data=(X_val, Y_val), \n",
    "                               epochs=50, \n",
    "                               batch_size=8,\n",
    "                               callbacks=[early_stop_callback])\n"
   ]
  },
  {
   "cell_type": "code",
   "execution_count": 56,
   "id": "796a965d",
   "metadata": {
    "ExecuteTime": {
     "end_time": "2022-09-04T13:14:02.773864Z",
     "start_time": "2022-09-04T13:14:00.219518Z"
    }
   },
   "outputs": [
    {
     "name": "stdout",
     "output_type": "stream",
     "text": [
      "1589/1589 [==============================] - 1s 391us/step - loss: 0.4279 - accuracy: 0.8149\n"
     ]
    }
   ],
   "source": [
    "with tf.device('/cpu:0'):\n",
    "    simple_model.evaluate(x=X_test, y=Y_test)"
   ]
  },
  {
   "cell_type": "code",
   "execution_count": 57,
   "id": "64ad8369",
   "metadata": {},
   "outputs": [
    {
     "name": "stdout",
     "output_type": "stream",
     "text": [
      "1589/1589 [==============================] - 1s 360us/step\n"
     ]
    },
    {
     "data": {
      "text/html": [
       "<div>\n",
       "<style scoped>\n",
       "    .dataframe tbody tr th:only-of-type {\n",
       "        vertical-align: middle;\n",
       "    }\n",
       "\n",
       "    .dataframe tbody tr th {\n",
       "        vertical-align: top;\n",
       "    }\n",
       "\n",
       "    .dataframe thead th {\n",
       "        text-align: right;\n",
       "    }\n",
       "</style>\n",
       "<table border=\"1\" class=\"dataframe\">\n",
       "  <thead>\n",
       "    <tr style=\"text-align: right;\">\n",
       "      <th></th>\n",
       "      <th>Accuracy</th>\n",
       "      <th>MCC</th>\n",
       "      <th>F1_weighted</th>\n",
       "    </tr>\n",
       "  </thead>\n",
       "  <tbody>\n",
       "    <tr>\n",
       "      <th>mean</th>\n",
       "      <td>0.815</td>\n",
       "      <td>0.553</td>\n",
       "      <td>0.815</td>\n",
       "    </tr>\n",
       "    <tr>\n",
       "      <th>std</th>\n",
       "      <td>0.067</td>\n",
       "      <td>0.136</td>\n",
       "      <td>0.068</td>\n",
       "    </tr>\n",
       "  </tbody>\n",
       "</table>\n",
       "</div>"
      ],
      "text/plain": [
       "      Accuracy    MCC  F1_weighted\n",
       "mean     0.815  0.553        0.815\n",
       "std      0.067  0.136        0.068"
      ]
     },
     "execution_count": 57,
     "metadata": {},
     "output_type": "execute_result"
    }
   ],
   "source": [
    "evaluate_per_pid(df, range(50, 100), simple_model, X_test, name=\"simple_nn_tsfresh\")"
   ]
  },
  {
   "cell_type": "markdown",
   "id": "02a793b5",
   "metadata": {},
   "source": [
    "#### CNN + LSTM Model"
   ]
  },
  {
   "cell_type": "code",
   "execution_count": 58,
   "id": "9435f4f5",
   "metadata": {
    "ExecuteTime": {
     "end_time": "2022-09-04T13:41:31.232384Z",
     "start_time": "2022-09-04T13:41:31.208017Z"
    }
   },
   "outputs": [],
   "source": [
    "def cnn_lstm_model(cnn_d = 32, lstm_d = 16):\n",
    "    model = tf.keras.models.Sequential()\n",
    "    model.add(tf.keras.layers.Conv1D(cnn_d, kernel_size=(5,), padding='same'))\n",
    "    \n",
    "    # Batch Normalization was resulting into NAN due to vanishing coefficients\n",
    "    # model.add(tf.keras.layers.BatchNormalization(epsilon=1e-04, axis=-1, momentum=0.9))\n",
    "    model.add(tf.keras.layers.Activation(tf.nn.relu))\n",
    "    \n",
    "    model.add(tf.keras.layers.Dropout(0.1))\n",
    "    model.add(tf.keras.layers.LSTM(lstm_d, return_sequences=False))\n",
    "    model.add(tf.keras.layers.Dense(1, activation=\"sigmoid\", name='output'))\n",
    "    \n",
    "    model.compile(loss='binary_crossentropy', optimizer='adam', metrics=['accuracy'])\n",
    "    return model\n",
    "\n",
    "cnnlstm_model = cnn_lstm_model()"
   ]
  },
  {
   "cell_type": "code",
   "execution_count": 59,
   "id": "df698537",
   "metadata": {
    "ExecuteTime": {
     "end_time": "2022-09-04T13:45:54.059316Z",
     "start_time": "2022-09-04T13:41:31.661467Z"
    }
   },
   "outputs": [
    {
     "name": "stdout",
     "output_type": "stream",
     "text": [
      "Epoch 1/50\n",
      "5145/5145 [==============================] - 8s 1ms/step - loss: 0.5776 - accuracy: 0.7295 - val_loss: 0.5563 - val_accuracy: 0.7471\n",
      "Epoch 2/50\n",
      "5145/5145 [==============================] - 7s 1ms/step - loss: 0.5571 - accuracy: 0.7475 - val_loss: 0.5494 - val_accuracy: 0.7517\n",
      "Epoch 3/50\n",
      "5145/5145 [==============================] - 7s 1ms/step - loss: 0.5559 - accuracy: 0.7509 - val_loss: 0.5469 - val_accuracy: 0.7526\n",
      "Epoch 4/50\n",
      "5145/5145 [==============================] - 7s 1ms/step - loss: 0.5512 - accuracy: 0.7541 - val_loss: 0.5438 - val_accuracy: 0.7595\n",
      "Epoch 5/50\n",
      "5145/5145 [==============================] - 7s 1ms/step - loss: 0.5490 - accuracy: 0.7569 - val_loss: 0.5445 - val_accuracy: 0.7569\n",
      "Epoch 6/50\n",
      "5145/5145 [==============================] - 7s 1ms/step - loss: 0.5441 - accuracy: 0.7501 - val_loss: 0.5307 - val_accuracy: 0.7543\n",
      "Epoch 7/50\n",
      "5145/5145 [==============================] - 7s 1ms/step - loss: 0.5352 - accuracy: 0.7586 - val_loss: 0.5219 - val_accuracy: 0.7759\n",
      "Epoch 8/50\n",
      "5145/5145 [==============================] - 7s 1ms/step - loss: 0.5360 - accuracy: 0.7551 - val_loss: 0.5185 - val_accuracy: 0.7806\n",
      "Epoch 9/50\n",
      "5145/5145 [==============================] - 7s 1ms/step - loss: 0.5286 - accuracy: 0.7626 - val_loss: 0.5230 - val_accuracy: 0.7735\n",
      "Epoch 10/50\n",
      "5145/5145 [==============================] - 7s 1ms/step - loss: 0.5340 - accuracy: 0.7624 - val_loss: 0.5292 - val_accuracy: 0.7671\n",
      "Epoch 11/50\n",
      "5145/5145 [==============================] - 7s 1ms/step - loss: 0.5352 - accuracy: 0.7666 - val_loss: 0.5266 - val_accuracy: 0.7684\n"
     ]
    }
   ],
   "source": [
    "reset_seed()\n",
    "\n",
    "# Align col has to be set to True to run this model\n",
    "with tf.device('/cpu:0'):\n",
    "    early_stop_callback = tf.keras.callbacks.EarlyStopping(monitor='val_loss', patience=3, restore_best_weights=True)\n",
    "    history = cnnlstm_model.fit(X_train, Y_train, \n",
    "                               validation_data=(X_val, Y_val), \n",
    "                               epochs=50, \n",
    "                               shuffle=True,\n",
    "                               batch_size=8,\n",
    "                               callbacks=[early_stop_callback])"
   ]
  },
  {
   "cell_type": "code",
   "execution_count": 62,
   "id": "4dfbc3fc",
   "metadata": {
    "ExecuteTime": {
     "end_time": "2022-09-04T14:26:40.279928Z",
     "start_time": "2022-09-04T14:26:37.392960Z"
    }
   },
   "outputs": [
    {
     "name": "stdout",
     "output_type": "stream",
     "text": [
      "1589/1589 [==============================] - 1s 521us/step - loss: 0.4771 - accuracy: 0.8166\n"
     ]
    }
   ],
   "source": [
    "with tf.device('/cpu:0'):\n",
    "    cnnlstm_model.evaluate(x=X_test, y=Y_test)"
   ]
  },
  {
   "cell_type": "code",
   "execution_count": 63,
   "id": "3c166ee4",
   "metadata": {},
   "outputs": [
    {
     "name": "stdout",
     "output_type": "stream",
     "text": [
      "1589/1589 [==============================] - 1s 479us/step\n"
     ]
    },
    {
     "data": {
      "text/html": [
       "<div>\n",
       "<style scoped>\n",
       "    .dataframe tbody tr th:only-of-type {\n",
       "        vertical-align: middle;\n",
       "    }\n",
       "\n",
       "    .dataframe tbody tr th {\n",
       "        vertical-align: top;\n",
       "    }\n",
       "\n",
       "    .dataframe thead th {\n",
       "        text-align: right;\n",
       "    }\n",
       "</style>\n",
       "<table border=\"1\" class=\"dataframe\">\n",
       "  <thead>\n",
       "    <tr style=\"text-align: right;\">\n",
       "      <th></th>\n",
       "      <th>Accuracy</th>\n",
       "      <th>MCC</th>\n",
       "      <th>F1_weighted</th>\n",
       "    </tr>\n",
       "  </thead>\n",
       "  <tbody>\n",
       "    <tr>\n",
       "      <th>mean</th>\n",
       "      <td>0.819</td>\n",
       "      <td>0.525</td>\n",
       "      <td>0.802</td>\n",
       "    </tr>\n",
       "    <tr>\n",
       "      <th>std</th>\n",
       "      <td>0.067</td>\n",
       "      <td>0.127</td>\n",
       "      <td>0.074</td>\n",
       "    </tr>\n",
       "  </tbody>\n",
       "</table>\n",
       "</div>"
      ],
      "text/plain": [
       "      Accuracy    MCC  F1_weighted\n",
       "mean     0.819  0.525        0.802\n",
       "std      0.067  0.127        0.074"
      ]
     },
     "execution_count": 63,
     "metadata": {},
     "output_type": "execute_result"
    }
   ],
   "source": [
    "evaluate_per_pid(df, range(50, 100), cnnlstm_model, X_test, name=\"cnnlstm_model_tsfresh\")"
   ]
  },
  {
   "cell_type": "markdown",
   "id": "25ad1e58",
   "metadata": {
    "ExecuteTime": {
     "end_time": "2022-09-04T14:27:43.286122Z",
     "start_time": "2022-09-04T14:27:43.283581Z"
    }
   },
   "source": [
    "# What if we perform some feature normalization"
   ]
  },
  {
   "cell_type": "code",
   "execution_count": 64,
   "id": "6a0a94c8",
   "metadata": {
    "ExecuteTime": {
     "end_time": "2022-09-04T15:16:47.746866Z",
     "start_time": "2022-09-04T15:16:43.192336Z"
    }
   },
   "outputs": [
    {
     "name": "stdout",
     "output_type": "stream",
     "text": [
      "(41153, 2, 768)\n",
      "-2.2203420156016817e+20 419917189998739.2\n",
      "(41153, 2, 768)\n",
      "-1.0 1.0\n",
      "-3.70245 7.7438\n",
      "-107.42857 7.9027\n"
     ]
    }
   ],
   "source": [
    "from sklearn.preprocessing import MinMaxScaler\n",
    "\n",
    "print(X_train.shape)\n",
    "print(X_train.min().round(5), X_train.max().round(5)) # -20, 100\n",
    "\n",
    "scaler = MinMaxScaler(feature_range=(-1,1))\n",
    "X_train_norm = scaler.fit_transform(X_train.reshape(X_train.shape[0], -1)).reshape(X_train.shape)\n",
    "X_val_norm = scaler.transform(X_val.reshape(X_val.shape[0], -1)).reshape(X_val.shape)\n",
    "X_test_norm = scaler.transform(X_test.reshape(X_test.shape[0], -1)).reshape(X_test.shape)\n",
    "\n",
    "print(X_train.shape)\n",
    "print(X_train_norm.min().round(5), X_train_norm.max().round(5)) # -1, 1\n",
    "print(X_val_norm.min().round(5), X_val_norm.max().round(5)) # -1, 1\n",
    "print(X_test_norm.min().round(5), X_test_norm.max().round(5)) # -1, 1c\n"
   ]
  },
  {
   "cell_type": "code",
   "execution_count": 65,
   "id": "6d2ddf8c",
   "metadata": {
    "ExecuteTime": {
     "end_time": "2022-09-04T15:22:38.549644Z",
     "start_time": "2022-09-04T15:16:52.866824Z"
    }
   },
   "outputs": [
    {
     "name": "stdout",
     "output_type": "stream",
     "text": [
      "Epoch 1/50\n",
      "5145/5145 [==============================] - 3s 618us/step - loss: 0.4601 - accuracy: 0.8026 - val_loss: 0.4385 - val_accuracy: 0.8158\n",
      "Epoch 2/50\n",
      "5145/5145 [==============================] - 3s 593us/step - loss: 0.4392 - accuracy: 0.8126 - val_loss: 0.4501 - val_accuracy: 0.8119\n",
      "Epoch 3/50\n",
      "5145/5145 [==============================] - 3s 585us/step - loss: 0.4361 - accuracy: 0.8142 - val_loss: 0.4295 - val_accuracy: 0.8167\n",
      "Epoch 4/50\n",
      "5145/5145 [==============================] - 3s 595us/step - loss: 0.4337 - accuracy: 0.8153 - val_loss: 0.4259 - val_accuracy: 0.8193\n",
      "Epoch 5/50\n",
      "5145/5145 [==============================] - 3s 594us/step - loss: 0.4304 - accuracy: 0.8166 - val_loss: 0.4262 - val_accuracy: 0.8184\n",
      "Epoch 6/50\n",
      "5145/5145 [==============================] - 3s 602us/step - loss: 0.4303 - accuracy: 0.8156 - val_loss: 0.4302 - val_accuracy: 0.8138\n",
      "Epoch 7/50\n",
      "5145/5145 [==============================] - 3s 588us/step - loss: 0.4290 - accuracy: 0.8163 - val_loss: 0.4252 - val_accuracy: 0.8152\n",
      "Epoch 8/50\n",
      "5145/5145 [==============================] - 3s 593us/step - loss: 0.4289 - accuracy: 0.8156 - val_loss: 0.4401 - val_accuracy: 0.8037\n",
      "Epoch 9/50\n",
      "5145/5145 [==============================] - 3s 596us/step - loss: 0.4266 - accuracy: 0.8172 - val_loss: 0.4337 - val_accuracy: 0.8113\n",
      "Epoch 10/50\n",
      "5145/5145 [==============================] - 3s 601us/step - loss: 0.4253 - accuracy: 0.8179 - val_loss: 0.4305 - val_accuracy: 0.8123\n"
     ]
    }
   ],
   "source": [
    "reset_seed()\n",
    "\n",
    "# Align_cols = True\n",
    "with tf.device('/cpu:0'):\n",
    "    early_stop_callback = tf.keras.callbacks.EarlyStopping(monitor='val_loss', patience=3, restore_best_weights=True)\n",
    "    history = simple_model.fit(X_train_norm, Y_train,\n",
    "                               validation_data=(X_val_norm, Y_val), \n",
    "                               epochs=50, \n",
    "                               batch_size=8,\n",
    "                               shuffle=True,\n",
    "                               callbacks=[early_stop_callback])\n"
   ]
  },
  {
   "cell_type": "code",
   "execution_count": 66,
   "id": "6ed6bb23",
   "metadata": {
    "ExecuteTime": {
     "end_time": "2022-09-04T15:28:58.877168Z",
     "start_time": "2022-09-04T15:28:56.120686Z"
    }
   },
   "outputs": [
    {
     "name": "stdout",
     "output_type": "stream",
     "text": [
      "1589/1589 [==============================] - 1s 394us/step - loss: 0.3749 - accuracy: 0.8481\n"
     ]
    }
   ],
   "source": [
    "with tf.device('/cpu:0'):\n",
    "    simple_model.evaluate(x=X_test_norm, y=Y_test)"
   ]
  },
  {
   "cell_type": "code",
   "execution_count": 67,
   "id": "ea60a5c2",
   "metadata": {
    "ExecuteTime": {
     "end_time": "2022-09-04T15:29:33.450273Z",
     "start_time": "2022-09-04T15:29:30.882191Z"
    }
   },
   "outputs": [
    {
     "name": "stdout",
     "output_type": "stream",
     "text": [
      "1589/1589 [==============================] - 1s 352us/step\n",
      "1.774295e-21 0.9966631\n"
     ]
    }
   ],
   "source": [
    "with tf.device('/cpu:0'):\n",
    "    p = simple_model.predict(X_test_norm)\n",
    "    \n",
    "print(p.min(), p.max())"
   ]
  },
  {
   "cell_type": "code",
   "execution_count": 68,
   "id": "2a2d9225",
   "metadata": {},
   "outputs": [
    {
     "name": "stdout",
     "output_type": "stream",
     "text": [
      "1589/1589 [==============================] - 1s 355us/step\n"
     ]
    },
    {
     "data": {
      "text/html": [
       "<div>\n",
       "<style scoped>\n",
       "    .dataframe tbody tr th:only-of-type {\n",
       "        vertical-align: middle;\n",
       "    }\n",
       "\n",
       "    .dataframe tbody tr th {\n",
       "        vertical-align: top;\n",
       "    }\n",
       "\n",
       "    .dataframe thead th {\n",
       "        text-align: right;\n",
       "    }\n",
       "</style>\n",
       "<table border=\"1\" class=\"dataframe\">\n",
       "  <thead>\n",
       "    <tr style=\"text-align: right;\">\n",
       "      <th></th>\n",
       "      <th>Accuracy</th>\n",
       "      <th>MCC</th>\n",
       "      <th>F1_weighted</th>\n",
       "    </tr>\n",
       "  </thead>\n",
       "  <tbody>\n",
       "    <tr>\n",
       "      <th>mean</th>\n",
       "      <td>0.849</td>\n",
       "      <td>0.614</td>\n",
       "      <td>0.841</td>\n",
       "    </tr>\n",
       "    <tr>\n",
       "      <th>std</th>\n",
       "      <td>0.066</td>\n",
       "      <td>0.141</td>\n",
       "      <td>0.070</td>\n",
       "    </tr>\n",
       "  </tbody>\n",
       "</table>\n",
       "</div>"
      ],
      "text/plain": [
       "      Accuracy    MCC  F1_weighted\n",
       "mean     0.849  0.614        0.841\n",
       "std      0.066  0.141        0.070"
      ]
     },
     "execution_count": 68,
     "metadata": {},
     "output_type": "execute_result"
    }
   ],
   "source": [
    "evaluate_per_pid(df, range(50, 100), simple_model, X_test_norm, name=\"simple_nn_tsfresh_norm\")"
   ]
  },
  {
   "cell_type": "code",
   "execution_count": 69,
   "id": "4494c595",
   "metadata": {
    "ExecuteTime": {
     "end_time": "2022-09-04T15:32:24.716177Z",
     "start_time": "2022-09-04T15:29:46.637813Z"
    }
   },
   "outputs": [
    {
     "name": "stdout",
     "output_type": "stream",
     "text": [
      "Epoch 1/50\n",
      "5145/5145 [==============================] - 7s 1ms/step - loss: 0.5476 - accuracy: 0.7426 - val_loss: 0.4602 - val_accuracy: 0.7800\n",
      "Epoch 2/50\n",
      "5145/5145 [==============================] - 7s 1ms/step - loss: 0.4725 - accuracy: 0.7912 - val_loss: 0.4398 - val_accuracy: 0.8182\n",
      "Epoch 3/50\n",
      "5145/5145 [==============================] - 7s 1ms/step - loss: 0.4511 - accuracy: 0.8060 - val_loss: 0.4412 - val_accuracy: 0.8147\n",
      "Epoch 4/50\n",
      "5145/5145 [==============================] - 7s 1ms/step - loss: 0.4428 - accuracy: 0.8088 - val_loss: 0.4193 - val_accuracy: 0.8202\n",
      "Epoch 5/50\n",
      "5145/5145 [==============================] - 7s 1ms/step - loss: 0.4392 - accuracy: 0.8100 - val_loss: 0.4185 - val_accuracy: 0.8203\n",
      "Epoch 6/50\n",
      "5145/5145 [==============================] - 7s 1ms/step - loss: 0.4377 - accuracy: 0.8106 - val_loss: 0.4328 - val_accuracy: 0.8143\n",
      "Epoch 7/50\n",
      "5145/5145 [==============================] - 7s 1ms/step - loss: 0.4372 - accuracy: 0.8118 - val_loss: 0.4245 - val_accuracy: 0.8201\n",
      "Epoch 8/50\n",
      "5145/5145 [==============================] - 7s 1ms/step - loss: 0.4354 - accuracy: 0.8128 - val_loss: 0.4176 - val_accuracy: 0.8215\n",
      "Epoch 9/50\n",
      "5145/5145 [==============================] - 7s 1ms/step - loss: 0.4329 - accuracy: 0.8118 - val_loss: 0.4204 - val_accuracy: 0.8114\n",
      "Epoch 10/50\n",
      "5145/5145 [==============================] - 7s 1ms/step - loss: 0.4339 - accuracy: 0.8138 - val_loss: 0.4300 - val_accuracy: 0.8058\n",
      "Epoch 11/50\n",
      "5145/5145 [==============================] - 7s 1ms/step - loss: 0.4310 - accuracy: 0.8133 - val_loss: 0.4418 - val_accuracy: 0.8107\n"
     ]
    }
   ],
   "source": [
    "reset_seed()\n",
    "# Align_cols = True\n",
    "with tf.device('/cpu:0'):\n",
    "    early_stop_callback = tf.keras.callbacks.EarlyStopping(monitor='val_loss', patience=3, restore_best_weights=True)\n",
    "    history = cnnlstm_model.fit(X_train_norm, Y_train,\n",
    "                               validation_data=(X_val_norm, Y_val), \n",
    "                               epochs=50, \n",
    "                               batch_size=8,\n",
    "                               shuffle=True,\n",
    "                               callbacks=[early_stop_callback])\n"
   ]
  },
  {
   "cell_type": "code",
   "execution_count": 70,
   "id": "dbc63534",
   "metadata": {
    "ExecuteTime": {
     "end_time": "2022-09-04T15:32:27.921787Z",
     "start_time": "2022-09-04T15:32:24.717734Z"
    }
   },
   "outputs": [
    {
     "name": "stdout",
     "output_type": "stream",
     "text": [
      "1589/1589 [==============================] - 1s 514us/step - loss: 0.3763 - accuracy: 0.8481\n"
     ]
    }
   ],
   "source": [
    "with tf.device('/cpu:0'):\n",
    "    cnnlstm_model.evaluate(x=X_test_norm, y=Y_test)"
   ]
  },
  {
   "cell_type": "code",
   "execution_count": 71,
   "id": "22be57dc",
   "metadata": {},
   "outputs": [
    {
     "name": "stdout",
     "output_type": "stream",
     "text": [
      "1589/1589 [==============================] - 1s 525us/step\n",
      "0.030230632 0.89968103\n"
     ]
    }
   ],
   "source": [
    "with tf.device('/cpu:0'):\n",
    "    p = cnnlstm_model.predict(X_test_norm)\n",
    "    \n",
    "print(p.min(), p.max())"
   ]
  },
  {
   "cell_type": "code",
   "execution_count": 72,
   "id": "8f981b84",
   "metadata": {},
   "outputs": [
    {
     "name": "stdout",
     "output_type": "stream",
     "text": [
      "1589/1589 [==============================] - 1s 488us/step\n"
     ]
    },
    {
     "data": {
      "text/html": [
       "<div>\n",
       "<style scoped>\n",
       "    .dataframe tbody tr th:only-of-type {\n",
       "        vertical-align: middle;\n",
       "    }\n",
       "\n",
       "    .dataframe tbody tr th {\n",
       "        vertical-align: top;\n",
       "    }\n",
       "\n",
       "    .dataframe thead th {\n",
       "        text-align: right;\n",
       "    }\n",
       "</style>\n",
       "<table border=\"1\" class=\"dataframe\">\n",
       "  <thead>\n",
       "    <tr style=\"text-align: right;\">\n",
       "      <th></th>\n",
       "      <th>Accuracy</th>\n",
       "      <th>MCC</th>\n",
       "      <th>F1_weighted</th>\n",
       "    </tr>\n",
       "  </thead>\n",
       "  <tbody>\n",
       "    <tr>\n",
       "      <th>mean</th>\n",
       "      <td>0.849</td>\n",
       "      <td>0.615</td>\n",
       "      <td>0.842</td>\n",
       "    </tr>\n",
       "    <tr>\n",
       "      <th>std</th>\n",
       "      <td>0.066</td>\n",
       "      <td>0.143</td>\n",
       "      <td>0.070</td>\n",
       "    </tr>\n",
       "  </tbody>\n",
       "</table>\n",
       "</div>"
      ],
      "text/plain": [
       "      Accuracy    MCC  F1_weighted\n",
       "mean     0.849  0.615        0.842\n",
       "std      0.066  0.143        0.070"
      ]
     },
     "execution_count": 72,
     "metadata": {},
     "output_type": "execute_result"
    }
   ],
   "source": [
    "evaluate_per_pid(df, range(50, 100), cnnlstm_model, X_test_norm, name=\"cnnlstm_model_tsfresh_norm\")"
   ]
  },
  {
   "cell_type": "code",
   "execution_count": null,
   "id": "29de5aa6",
   "metadata": {},
   "outputs": [],
   "source": []
  }
 ],
 "metadata": {
  "kernelspec": {
   "display_name": "Python 3 (ipykernel)",
   "language": "python",
   "name": "python3"
  },
  "language_info": {
   "codemirror_mode": {
    "name": "ipython",
    "version": 3
   },
   "file_extension": ".py",
   "mimetype": "text/x-python",
   "name": "python",
   "nbconvert_exporter": "python",
   "pygments_lexer": "ipython3",
   "version": "3.8.13"
  }
 },
 "nbformat": 4,
 "nbformat_minor": 5
}
