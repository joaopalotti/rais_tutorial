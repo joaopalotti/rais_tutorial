{
 "cells": [
  {
   "cell_type": "markdown",
   "id": "965230af",
   "metadata": {},
   "source": [
    "# Alternative 2 - Deep Learning on a given feature set\n",
    "\n",
    "<img src=\"images/feature_set_summary.jpg\" width=\"1000\" height=\"1000\">\n",
    "\n",
    "Get the pre-computed dataset from: https://www.dropbox.com/scl/fo/5llpuwwtcuo22p9jnfxuo/h?dl=0&rlkey=nm0kqrfbk3z9s8qns8hjh4437"
   ]
  },
  {
   "cell_type": "code",
   "execution_count": 1,
   "id": "47c78f53",
   "metadata": {
    "ExecuteTime": {
     "end_time": "2022-09-04T12:39:33.512598Z",
     "start_time": "2022-09-04T12:39:32.222728Z"
    }
   },
   "outputs": [],
   "source": [
    "import pandas as pd\n",
    "import numpy as np\n",
    "import keras\n",
    "import tensorflow as tf\n",
    "from sklearn import metrics\n",
    "\n",
    "# NEW METHOD TO RESET SEED TO 0:\n",
    "def reset_seed():\n",
    "    tf.random.set_seed(0)\n",
    "    np.random.seed(0)\n",
    "    \n",
    "def classification_results(y, yhat):\n",
    "    acc = metrics.accuracy_score(y, yhat)\n",
    "    mcc = metrics.matthews_corrcoef(y, yhat)\n",
    "    f1_weighted = metrics.f1_score(y, yhat, average=\"weighted\")\n",
    "    return acc, mcc, f1_weighted\n",
    "\n",
    "def evaluate_per_pid(df, test_range, nnmodel, x_test, name):\n",
    "    \n",
    "    df_held_out_test = df[df[\"pid\"].isin(test_range)][[\"pid\", \"time\", \"sleep_phase\", \"sleep\"]].copy()\n",
    "    df_held_out_test[\"yhat\"] = nnmodel.predict(x_test).round()\n",
    "    df_held_out_test.to_csv(f\"results/{name}.csv.tar.gz\", index=False)\n",
    "        \n",
    "    final_results = df_held_out_test.groupby([\"pid\"])[[\"sleep\", \"yhat\"]].apply(lambda x:\n",
    "                                                                          classification_results(x[\"sleep\"].values, \n",
    "                                                                                                 x[\"yhat\"].values))\n",
    "\n",
    "    final_results = final_results.apply(pd.Series).rename(columns={0: \"Accuracy\", 1: \"MCC\", 2: \"F1_weighted\"})\n",
    "\n",
    "    return final_results.agg([\"mean\", \"std\"]).round(3)\n",
    "\n",
    "reset_seed()"
   ]
  },
  {
   "cell_type": "code",
   "execution_count": 2,
   "id": "ecc00a62",
   "metadata": {
    "ExecuteTime": {
     "end_time": "2022-09-04T12:40:07.351252Z",
     "start_time": "2022-09-04T12:39:34.495599Z"
    }
   },
   "outputs": [
    {
     "data": {
      "text/html": [
       "<div>\n",
       "<style scoped>\n",
       "    .dataframe tbody tr th:only-of-type {\n",
       "        vertical-align: middle;\n",
       "    }\n",
       "\n",
       "    .dataframe tbody tr th {\n",
       "        vertical-align: top;\n",
       "    }\n",
       "\n",
       "    .dataframe thead th {\n",
       "        text-align: right;\n",
       "    }\n",
       "</style>\n",
       "<table border=\"1\" class=\"dataframe\">\n",
       "  <thead>\n",
       "    <tr style=\"text-align: right;\">\n",
       "      <th></th>\n",
       "      <th>time</th>\n",
       "      <th>act</th>\n",
       "      <th>sleep_phase</th>\n",
       "      <th>hr</th>\n",
       "      <th>pid</th>\n",
       "      <th>act__variance_larger_than_standard_deviation</th>\n",
       "      <th>act__has_duplicate_max</th>\n",
       "      <th>act__has_duplicate_min</th>\n",
       "      <th>act__has_duplicate</th>\n",
       "      <th>act__sum_values</th>\n",
       "      <th>...</th>\n",
       "      <th>hr__fourier_entropy__bins_2</th>\n",
       "      <th>hr__fourier_entropy__bins_3</th>\n",
       "      <th>hr__fourier_entropy__bins_5</th>\n",
       "      <th>hr__fourier_entropy__bins_10</th>\n",
       "      <th>hr__fourier_entropy__bins_100</th>\n",
       "      <th>hr__permutation_entropy__dimension_3__tau_1</th>\n",
       "      <th>hr__permutation_entropy__dimension_4__tau_1</th>\n",
       "      <th>hr__permutation_entropy__dimension_5__tau_1</th>\n",
       "      <th>hr__permutation_entropy__dimension_6__tau_1</th>\n",
       "      <th>hr__permutation_entropy__dimension_7__tau_1</th>\n",
       "    </tr>\n",
       "  </thead>\n",
       "  <tbody>\n",
       "    <tr>\n",
       "      <th>0</th>\n",
       "      <td>1</td>\n",
       "      <td>2.0</td>\n",
       "      <td>0.0</td>\n",
       "      <td>71.0</td>\n",
       "      <td>0</td>\n",
       "      <td>0.0</td>\n",
       "      <td>0.0</td>\n",
       "      <td>0.0</td>\n",
       "      <td>0.0</td>\n",
       "      <td>2.0</td>\n",
       "      <td>...</td>\n",
       "      <td>-0.000000</td>\n",
       "      <td>-0.000000</td>\n",
       "      <td>-0.000000</td>\n",
       "      <td>-0.000000</td>\n",
       "      <td>-0.000000</td>\n",
       "      <td>NaN</td>\n",
       "      <td>NaN</td>\n",
       "      <td>NaN</td>\n",
       "      <td>NaN</td>\n",
       "      <td>NaN</td>\n",
       "    </tr>\n",
       "    <tr>\n",
       "      <th>1</th>\n",
       "      <td>2</td>\n",
       "      <td>0.0</td>\n",
       "      <td>0.0</td>\n",
       "      <td>76.0</td>\n",
       "      <td>0</td>\n",
       "      <td>0.0</td>\n",
       "      <td>0.0</td>\n",
       "      <td>0.0</td>\n",
       "      <td>0.0</td>\n",
       "      <td>3.0</td>\n",
       "      <td>...</td>\n",
       "      <td>0.693147</td>\n",
       "      <td>0.693147</td>\n",
       "      <td>0.693147</td>\n",
       "      <td>0.693147</td>\n",
       "      <td>0.693147</td>\n",
       "      <td>-0.000000</td>\n",
       "      <td>NaN</td>\n",
       "      <td>NaN</td>\n",
       "      <td>NaN</td>\n",
       "      <td>NaN</td>\n",
       "    </tr>\n",
       "    <tr>\n",
       "      <th>2</th>\n",
       "      <td>3</td>\n",
       "      <td>1.0</td>\n",
       "      <td>0.0</td>\n",
       "      <td>78.0</td>\n",
       "      <td>0</td>\n",
       "      <td>0.0</td>\n",
       "      <td>1.0</td>\n",
       "      <td>0.0</td>\n",
       "      <td>1.0</td>\n",
       "      <td>5.0</td>\n",
       "      <td>...</td>\n",
       "      <td>0.636514</td>\n",
       "      <td>0.636514</td>\n",
       "      <td>0.636514</td>\n",
       "      <td>0.636514</td>\n",
       "      <td>0.636514</td>\n",
       "      <td>0.693147</td>\n",
       "      <td>-0.000000</td>\n",
       "      <td>NaN</td>\n",
       "      <td>NaN</td>\n",
       "      <td>NaN</td>\n",
       "    </tr>\n",
       "    <tr>\n",
       "      <th>3</th>\n",
       "      <td>4</td>\n",
       "      <td>2.0</td>\n",
       "      <td>0.0</td>\n",
       "      <td>73.0</td>\n",
       "      <td>0</td>\n",
       "      <td>1.0</td>\n",
       "      <td>0.0</td>\n",
       "      <td>0.0</td>\n",
       "      <td>1.0</td>\n",
       "      <td>92.0</td>\n",
       "      <td>...</td>\n",
       "      <td>0.636514</td>\n",
       "      <td>0.636514</td>\n",
       "      <td>0.636514</td>\n",
       "      <td>0.636514</td>\n",
       "      <td>1.098612</td>\n",
       "      <td>1.098612</td>\n",
       "      <td>0.693147</td>\n",
       "      <td>-0.000000</td>\n",
       "      <td>NaN</td>\n",
       "      <td>NaN</td>\n",
       "    </tr>\n",
       "    <tr>\n",
       "      <th>4</th>\n",
       "      <td>5</td>\n",
       "      <td>87.0</td>\n",
       "      <td>0.0</td>\n",
       "      <td>80.0</td>\n",
       "      <td>0</td>\n",
       "      <td>1.0</td>\n",
       "      <td>0.0</td>\n",
       "      <td>1.0</td>\n",
       "      <td>1.0</td>\n",
       "      <td>92.0</td>\n",
       "      <td>...</td>\n",
       "      <td>0.693147</td>\n",
       "      <td>0.693147</td>\n",
       "      <td>0.693147</td>\n",
       "      <td>0.693147</td>\n",
       "      <td>1.386294</td>\n",
       "      <td>1.386294</td>\n",
       "      <td>1.098612</td>\n",
       "      <td>0.693147</td>\n",
       "      <td>-0.0</td>\n",
       "      <td>NaN</td>\n",
       "    </tr>\n",
       "  </tbody>\n",
       "</table>\n",
       "<p>5 rows × 1541 columns</p>\n",
       "</div>"
      ],
      "text/plain": [
       "   time   act  sleep_phase    hr  pid  \\\n",
       "0     1   2.0          0.0  71.0    0   \n",
       "1     2   0.0          0.0  76.0    0   \n",
       "2     3   1.0          0.0  78.0    0   \n",
       "3     4   2.0          0.0  73.0    0   \n",
       "4     5  87.0          0.0  80.0    0   \n",
       "\n",
       "   act__variance_larger_than_standard_deviation  act__has_duplicate_max  \\\n",
       "0                                           0.0                     0.0   \n",
       "1                                           0.0                     0.0   \n",
       "2                                           0.0                     1.0   \n",
       "3                                           1.0                     0.0   \n",
       "4                                           1.0                     0.0   \n",
       "\n",
       "   act__has_duplicate_min  act__has_duplicate  act__sum_values  ...  \\\n",
       "0                     0.0                 0.0              2.0  ...   \n",
       "1                     0.0                 0.0              3.0  ...   \n",
       "2                     0.0                 1.0              5.0  ...   \n",
       "3                     0.0                 1.0             92.0  ...   \n",
       "4                     1.0                 1.0             92.0  ...   \n",
       "\n",
       "   hr__fourier_entropy__bins_2  hr__fourier_entropy__bins_3  \\\n",
       "0                    -0.000000                    -0.000000   \n",
       "1                     0.693147                     0.693147   \n",
       "2                     0.636514                     0.636514   \n",
       "3                     0.636514                     0.636514   \n",
       "4                     0.693147                     0.693147   \n",
       "\n",
       "   hr__fourier_entropy__bins_5  hr__fourier_entropy__bins_10  \\\n",
       "0                    -0.000000                     -0.000000   \n",
       "1                     0.693147                      0.693147   \n",
       "2                     0.636514                      0.636514   \n",
       "3                     0.636514                      0.636514   \n",
       "4                     0.693147                      0.693147   \n",
       "\n",
       "   hr__fourier_entropy__bins_100  hr__permutation_entropy__dimension_3__tau_1  \\\n",
       "0                      -0.000000                                          NaN   \n",
       "1                       0.693147                                    -0.000000   \n",
       "2                       0.636514                                     0.693147   \n",
       "3                       1.098612                                     1.098612   \n",
       "4                       1.386294                                     1.386294   \n",
       "\n",
       "   hr__permutation_entropy__dimension_4__tau_1  \\\n",
       "0                                          NaN   \n",
       "1                                          NaN   \n",
       "2                                    -0.000000   \n",
       "3                                     0.693147   \n",
       "4                                     1.098612   \n",
       "\n",
       "   hr__permutation_entropy__dimension_5__tau_1  \\\n",
       "0                                          NaN   \n",
       "1                                          NaN   \n",
       "2                                          NaN   \n",
       "3                                    -0.000000   \n",
       "4                                     0.693147   \n",
       "\n",
       "   hr__permutation_entropy__dimension_6__tau_1  \\\n",
       "0                                          NaN   \n",
       "1                                          NaN   \n",
       "2                                          NaN   \n",
       "3                                          NaN   \n",
       "4                                         -0.0   \n",
       "\n",
       "   hr__permutation_entropy__dimension_7__tau_1  \n",
       "0                                          NaN  \n",
       "1                                          NaN  \n",
       "2                                          NaN  \n",
       "3                                          NaN  \n",
       "4                                          NaN  \n",
       "\n",
       "[5 rows x 1541 columns]"
      ]
     },
     "execution_count": 2,
     "metadata": {},
     "output_type": "execute_result"
    }
   ],
   "source": [
    "df = pd.read_csv(\"./datasets/df_tsfresh_features.tar.gz\")\n",
    "df.head()"
   ]
  },
  {
   "cell_type": "code",
   "execution_count": 3,
   "id": "c86c492f",
   "metadata": {
    "ExecuteTime": {
     "end_time": "2022-09-04T12:40:19.144698Z",
     "start_time": "2022-09-04T12:40:19.125111Z"
    }
   },
   "outputs": [
    {
     "data": {
      "text/plain": [
       "array([0., 1., 2., 5., 3., 4.])"
      ]
     },
     "execution_count": 3,
     "metadata": {},
     "output_type": "execute_result"
    }
   ],
   "source": [
    "df[\"sleep_phase\"].unique()\n",
    "\n",
    "# Type of sleep statging problems:\n",
    "# -------------------------------\n",
    "#\n",
    "#      5-class | 4-class | 3-class | 2-Class\n",
    "# 0 -> Wake    | Wake    | Wake    | Wake\n",
    "# 1 -> N1      | Light   | NREM    | Sleep\n",
    "# 2 -> N2      | Light   | NREM    | Sleep\n",
    "# 3 -> N3      | Deep    | NREM    | Sleep\n",
    "# 4 -> N4      | Deep    | NREM    | Sleep\n",
    "# 5 -> REM     | REM     | REM     | Sleep\n",
    "#\n",
    "#\n"
   ]
  },
  {
   "cell_type": "code",
   "execution_count": 4,
   "id": "b26211ac",
   "metadata": {
    "ExecuteTime": {
     "end_time": "2022-09-04T12:40:20.175070Z",
     "start_time": "2022-09-04T12:40:20.171801Z"
    }
   },
   "outputs": [],
   "source": [
    "df[\"sleep\"] = df[\"sleep_phase\"] > 0"
   ]
  },
  {
   "cell_type": "markdown",
   "id": "ef7b79a1",
   "metadata": {},
   "source": [
    "### Model high-level details:\n",
    "\n",
    "- Model input (2, S, 11): \n",
    "    - Option 1: With data allignment:\n",
    "                       [\n",
    "                          [hr_0, hr_1, hr_2   ....hr_N]\n",
    "                          [act_0, act_1, act_2....act_N]\n",
    "                       ]\n",
    "\n",
    "    - Option 2: Without data allignment:\n",
    "                       [\n",
    "                           [hr_0, hr_1, hr_2   ....hr_N, act_0, act_1, act_2....act_N]\n",
    "                       ]\n",
    "                       \n",
    "\n",
    "- Model output:\n",
    "    - (S, 1) (bin sleep phase)\n",
    "   \n"
   ]
  },
  {
   "cell_type": "markdown",
   "id": "da8d890a",
   "metadata": {},
   "source": [
    "### Get XY from dataframe"
   ]
  },
  {
   "cell_type": "code",
   "execution_count": 5,
   "id": "5f84c507",
   "metadata": {
    "ExecuteTime": {
     "end_time": "2022-09-04T13:04:48.251864Z",
     "start_time": "2022-09-04T13:04:48.231811Z"
    }
   },
   "outputs": [],
   "source": [
    "def generate_XY(df, ycol=\"sleep\", align_cols=True):\n",
    "\n",
    "    # This could be used in several different ways\n",
    "    # e.g., removing nan cols, inputing averages, etc\n",
    "    df = df.fillna(0.0)\n",
    "    df = df.replace([np.inf, -np.inf], 0)\n",
    "    \n",
    "    hr_cols = [k for k in df.keys() if k.startswith(\"hr_\")]\n",
    "    act_cols = [k for k in df.keys() if k.startswith(\"act_\")]\n",
    "\n",
    "    hr_cols = sorted(hr_cols)\n",
    "    act_cols = sorted(act_cols)\n",
    "\n",
    "    if align_cols:\n",
    "        hr = df[hr_cols].values\n",
    "        act = df[act_cols].values\n",
    "        X = np.stack((act,hr))\n",
    "        X = X.transpose(1,0,2)\n",
    "    else:\n",
    "        X = df[hr_cols + act_cols].values\n",
    "\n",
    "    Y  = df[ycol].values.reshape(-1, 1)\n",
    "        \n",
    "    return X, Y\n"
   ]
  },
  {
   "cell_type": "code",
   "execution_count": 6,
   "id": "4fa90631",
   "metadata": {
    "ExecuteTime": {
     "end_time": "2022-09-04T13:04:48.683307Z",
     "start_time": "2022-09-04T13:04:48.676477Z"
    }
   },
   "outputs": [],
   "source": [
    "# generate_XY(df, align_cols=True)   #  X.shape is (102759, 2, 768)\n",
    "# generate_XY(df, align_cols=False).shape  #  X.shape is (102759, 1536)"
   ]
  },
  {
   "cell_type": "code",
   "execution_count": 7,
   "id": "41435ea1",
   "metadata": {
    "ExecuteTime": {
     "end_time": "2022-09-04T13:15:30.615893Z",
     "start_time": "2022-09-04T13:15:18.639969Z"
    }
   },
   "outputs": [
    {
     "data": {
      "text/plain": [
       "pid\n",
       "0    ([[[ 4.          2.         -1.         -1.   ...\n",
       "1    ([[[ 1.          1.         -1.         -1.   ...\n",
       "2    ([[[ 8.73000000e+02  1.50000000e+01 -1.0000000...\n",
       "3    ([[[ 1.          1.         -1.         -1.   ...\n",
       "4    ([[[ 1.00000000e+00  1.00000000e+00 -1.0000000...\n",
       "dtype: object"
      ]
     },
     "execution_count": 7,
     "metadata": {},
     "output_type": "execute_result"
    }
   ],
   "source": [
    "align_cols = True\n",
    "df_XY = df.groupby(\"pid\").apply(lambda x: generate_XY(x, align_cols=align_cols))\n",
    "df_XY.head()"
   ]
  },
  {
   "cell_type": "code",
   "execution_count": 8,
   "id": "62aa0eae",
   "metadata": {
    "ExecuteTime": {
     "end_time": "2022-09-04T13:15:32.432247Z",
     "start_time": "2022-09-04T13:15:32.428207Z"
    }
   },
   "outputs": [
    {
     "data": {
      "text/plain": [
       "((625, 2, 768), (625, 1))"
      ]
     },
     "execution_count": 8,
     "metadata": {},
     "output_type": "execute_result"
    }
   ],
   "source": [
    "idx = 3\n",
    "df_XY.iloc[idx][0].shape, df_XY.iloc[idx][1].shape"
   ]
  },
  {
   "cell_type": "code",
   "execution_count": 9,
   "id": "d1566f84",
   "metadata": {
    "ExecuteTime": {
     "end_time": "2022-09-04T13:15:36.413119Z",
     "start_time": "2022-09-04T13:15:36.410125Z"
    }
   },
   "outputs": [],
   "source": [
    "xs, ys = [], []\n",
    "for row_id, (x, y) in df_XY.items():\n",
    "    xs.append(x)\n",
    "    ys.append(y)\n",
    "    \n",
    "xs = np.array(xs, dtype=object)\n",
    "ys = np.array(ys, dtype=object)\n"
   ]
  },
  {
   "cell_type": "code",
   "execution_count": 10,
   "id": "5dfc73da",
   "metadata": {
    "ExecuteTime": {
     "end_time": "2022-09-04T13:15:39.186529Z",
     "start_time": "2022-09-04T13:15:39.169294Z"
    }
   },
   "outputs": [
    {
     "data": {
      "text/plain": [
       "((4778, 2, 768), (4778, 1))"
      ]
     },
     "execution_count": 10,
     "metadata": {},
     "output_type": "execute_result"
    }
   ],
   "source": [
    "# Now we can create a simple trainset from the dataset making sure that\n",
    "# data from one subject is NOT at the same time in the training and in the test sets\n",
    "subjects_train_idx = [0, 1, 2, 3, 4]    \n",
    "np.vstack(xs[subjects_train_idx]).shape, np.vstack(ys[subjects_train_idx]).shape"
   ]
  },
  {
   "cell_type": "code",
   "execution_count": 11,
   "id": "19030466",
   "metadata": {
    "ExecuteTime": {
     "end_time": "2022-09-04T15:15:50.792023Z",
     "start_time": "2022-09-04T15:15:35.996401Z"
    }
   },
   "outputs": [],
   "source": [
    "subjects_train_idx = range(0, 40)\n",
    "X_train = np.vstack(xs[subjects_train_idx])\n",
    "Y_train = np.vstack(ys[subjects_train_idx])\n",
    "\n",
    "subjects_val_idx = range(40, 50)\n",
    "X_val = np.vstack(xs[subjects_val_idx])\n",
    "Y_val = np.vstack(ys[subjects_val_idx])\n",
    "\n",
    "subjects_test_idx = range(50, 100)\n",
    "X_test = np.vstack(xs[subjects_test_idx])\n",
    "Y_test = np.vstack(ys[subjects_test_idx])\n"
   ]
  },
  {
   "cell_type": "markdown",
   "id": "5d1f9bb3",
   "metadata": {
    "ExecuteTime": {
     "end_time": "2022-09-04T12:35:56.999748Z",
     "start_time": "2022-09-04T12:35:56.993110Z"
    }
   },
   "source": [
    "### Evaluate a few models"
   ]
  },
  {
   "cell_type": "markdown",
   "id": "e26a4989",
   "metadata": {},
   "source": [
    "#### Simple Model"
   ]
  },
  {
   "cell_type": "code",
   "execution_count": 12,
   "id": "fbed22e6",
   "metadata": {
    "ExecuteTime": {
     "end_time": "2022-09-04T13:16:13.118618Z",
     "start_time": "2022-09-04T13:16:13.040035Z"
    }
   },
   "outputs": [],
   "source": [
    "def simple_dense_model(num_features, align_cols):\n",
    "    \n",
    "    model = tf.keras.models.Sequential()\n",
    "    if align_cols:\n",
    "        model.add(tf.keras.layers.Dense(32, input_shape=(2, num_features), activation='relu'))\n",
    "    else:\n",
    "        model.add(tf.keras.layers.Dense(32, input_shape=(num_features, ), activation='relu'))\n",
    "    \n",
    "    model.add(tf.keras.layers.Dense(8, activation='relu'))\n",
    "    model.add(tf.keras.layers.Flatten())\n",
    "    model.add(tf.keras.layers.Dense(1, activation='sigmoid'))\n",
    "\n",
    "    model.compile(loss='binary_crossentropy', optimizer='adam', metrics=['accuracy'])\n",
    "    return model\n",
    "\n",
    "simple_model = simple_dense_model(num_features = X_train.shape[-1], align_cols=align_cols)\n",
    "  "
   ]
  },
  {
   "cell_type": "code",
   "execution_count": 13,
   "id": "90d7f190",
   "metadata": {
    "ExecuteTime": {
     "end_time": "2022-09-04T13:11:35.056439Z",
     "start_time": "2022-09-04T13:04:56.499498Z"
    }
   },
   "outputs": [
    {
     "name": "stdout",
     "output_type": "stream",
     "text": [
      "Epoch 1/50\n"
     ]
    },
    {
     "name": "stderr",
     "output_type": "stream",
     "text": [
      "2022-09-15 00:53:54.191244: W tensorflow/core/platform/profile_utils/cpu_utils.cc:128] Failed to get CPU frequency: 0 Hz\n"
     ]
    },
    {
     "name": "stdout",
     "output_type": "stream",
     "text": [
      "5145/5145 [==============================] - 4s 725us/step - loss: 1408502144.0000 - accuracy: 0.6850 - val_loss: 0.9491 - val_accuracy: 0.6687\n",
      "Epoch 2/50\n",
      "5145/5145 [==============================] - 4s 699us/step - loss: 171097632.0000 - accuracy: 0.6895 - val_loss: 0.8269 - val_accuracy: 0.6823\n",
      "Epoch 3/50\n",
      "5145/5145 [==============================] - 4s 702us/step - loss: 0.5583 - accuracy: 0.7022 - val_loss: 0.7548 - val_accuracy: 0.6766\n",
      "Epoch 4/50\n",
      "5145/5145 [==============================] - 4s 688us/step - loss: 0.5408 - accuracy: 0.7062 - val_loss: 0.5464 - val_accuracy: 0.6811\n",
      "Epoch 5/50\n",
      "5145/5145 [==============================] - 3s 673us/step - loss: 0.5356 - accuracy: 0.7116 - val_loss: 0.5406 - val_accuracy: 0.6814\n",
      "Epoch 6/50\n",
      "5145/5145 [==============================] - 3s 656us/step - loss: 0.6051 - accuracy: 0.7134 - val_loss: 0.5402 - val_accuracy: 0.6956\n",
      "Epoch 7/50\n",
      "5145/5145 [==============================] - 3s 671us/step - loss: 0.5728 - accuracy: 0.7137 - val_loss: 0.5412 - val_accuracy: 0.6961\n",
      "Epoch 8/50\n",
      "5145/5145 [==============================] - 3s 652us/step - loss: 0.5260 - accuracy: 0.7159 - val_loss: 0.5351 - val_accuracy: 0.6990\n",
      "Epoch 9/50\n",
      "5145/5145 [==============================] - 3s 624us/step - loss: 0.5710 - accuracy: 0.7182 - val_loss: 0.5306 - val_accuracy: 0.6991\n",
      "Epoch 10/50\n",
      "5145/5145 [==============================] - 3s 635us/step - loss: 0.7051 - accuracy: 0.7180 - val_loss: 0.5281 - val_accuracy: 0.6926\n",
      "Epoch 11/50\n",
      "5145/5145 [==============================] - 3s 656us/step - loss: 1710022.7500 - accuracy: 0.7184 - val_loss: 0.5214 - val_accuracy: 0.6940\n",
      "Epoch 12/50\n",
      "5145/5145 [==============================] - 3s 622us/step - loss: 0.7037 - accuracy: 0.7211 - val_loss: 0.5199 - val_accuracy: 0.6983\n",
      "Epoch 13/50\n",
      "5145/5145 [==============================] - 3s 637us/step - loss: 21432816.0000 - accuracy: 0.7254 - val_loss: 3.6335 - val_accuracy: 0.7062\n",
      "Epoch 14/50\n",
      "5145/5145 [==============================] - 3s 635us/step - loss: 0.6655 - accuracy: 0.7272 - val_loss: 0.5148 - val_accuracy: 0.7107\n",
      "Epoch 15/50\n",
      "5145/5145 [==============================] - 3s 602us/step - loss: 4095984.0000 - accuracy: 0.7292 - val_loss: 0.5153 - val_accuracy: 0.7115\n",
      "Epoch 16/50\n",
      "5145/5145 [==============================] - 3s 645us/step - loss: 0.6020 - accuracy: 0.7289 - val_loss: 0.5142 - val_accuracy: 0.7068\n",
      "Epoch 17/50\n",
      "5145/5145 [==============================] - 3s 619us/step - loss: 0.5779 - accuracy: 0.7316 - val_loss: 0.5155 - val_accuracy: 0.7128\n",
      "Epoch 18/50\n",
      "5145/5145 [==============================] - 3s 617us/step - loss: 0.5014 - accuracy: 0.7340 - val_loss: 0.5131 - val_accuracy: 0.7161\n",
      "Epoch 19/50\n",
      "5145/5145 [==============================] - 3s 623us/step - loss: 113125408.0000 - accuracy: 0.7401 - val_loss: 0.5130 - val_accuracy: 0.7225\n",
      "Epoch 20/50\n",
      "5145/5145 [==============================] - 3s 616us/step - loss: 0.5191 - accuracy: 0.7464 - val_loss: 0.5131 - val_accuracy: 0.7255\n",
      "Epoch 21/50\n",
      "5145/5145 [==============================] - 3s 632us/step - loss: 2.1935 - accuracy: 0.7446 - val_loss: 0.5134 - val_accuracy: 0.7240\n",
      "Epoch 22/50\n",
      "5145/5145 [==============================] - 3s 604us/step - loss: 0.4947 - accuracy: 0.7502 - val_loss: 0.5102 - val_accuracy: 0.7351\n",
      "Epoch 23/50\n",
      "5145/5145 [==============================] - 3s 621us/step - loss: 0.4945 - accuracy: 0.7509 - val_loss: 0.5099 - val_accuracy: 0.7392\n",
      "Epoch 24/50\n",
      "5145/5145 [==============================] - 3s 630us/step - loss: 0.4934 - accuracy: 0.7540 - val_loss: 0.5090 - val_accuracy: 0.7342\n",
      "Epoch 25/50\n",
      "5145/5145 [==============================] - 4s 691us/step - loss: 0.5116 - accuracy: 0.7538 - val_loss: 0.5064 - val_accuracy: 0.7358\n",
      "Epoch 26/50\n",
      "5145/5145 [==============================] - 3s 644us/step - loss: 0.5118 - accuracy: 0.7532 - val_loss: 0.5077 - val_accuracy: 0.7336\n",
      "Epoch 27/50\n",
      "5145/5145 [==============================] - 3s 601us/step - loss: 20816.5547 - accuracy: 0.7586 - val_loss: 0.5022 - val_accuracy: 0.7521\n",
      "Epoch 28/50\n",
      "5145/5145 [==============================] - 3s 598us/step - loss: 0.4909 - accuracy: 0.7709 - val_loss: 0.4889 - val_accuracy: 0.7695\n",
      "Epoch 29/50\n",
      "5145/5145 [==============================] - 3s 595us/step - loss: 155687920.0000 - accuracy: 0.7776 - val_loss: 0.4927 - val_accuracy: 0.7738\n",
      "Epoch 30/50\n",
      "5145/5145 [==============================] - 3s 612us/step - loss: 0.7316 - accuracy: 0.7766 - val_loss: 0.4874 - val_accuracy: 0.7689\n",
      "Epoch 31/50\n",
      "5145/5145 [==============================] - 3s 640us/step - loss: 0.4789 - accuracy: 0.7777 - val_loss: 0.4877 - val_accuracy: 0.7698\n",
      "Epoch 32/50\n",
      "5145/5145 [==============================] - 3s 603us/step - loss: 0.4877 - accuracy: 0.7815 - val_loss: 0.4837 - val_accuracy: 0.7778\n",
      "Epoch 33/50\n",
      "5145/5145 [==============================] - 3s 601us/step - loss: 0.4753 - accuracy: 0.7859 - val_loss: 0.4797 - val_accuracy: 0.7824\n",
      "Epoch 34/50\n",
      "5145/5145 [==============================] - 3s 587us/step - loss: 0.5503 - accuracy: 0.7872 - val_loss: 0.4806 - val_accuracy: 0.7829\n",
      "Epoch 35/50\n",
      "5145/5145 [==============================] - 3s 589us/step - loss: 0.4745 - accuracy: 0.7883 - val_loss: 0.4867 - val_accuracy: 0.7861\n",
      "Epoch 36/50\n",
      "5145/5145 [==============================] - 3s 591us/step - loss: 0.4922 - accuracy: 0.7888 - val_loss: 0.4814 - val_accuracy: 0.7811\n",
      "Epoch 37/50\n",
      "5145/5145 [==============================] - 3s 592us/step - loss: 0.4711 - accuracy: 0.7893 - val_loss: 0.4803 - val_accuracy: 0.7817\n",
      "Epoch 38/50\n",
      "5145/5145 [==============================] - 3s 594us/step - loss: 0.4746 - accuracy: 0.7896 - val_loss: 0.4801 - val_accuracy: 0.7847\n"
     ]
    }
   ],
   "source": [
    "reset_seed()\n",
    "\n",
    "# Check what happens when toggling align_cols above\n",
    "with tf.device('/cpu:0'):\n",
    "    early_stop_callback = tf.keras.callbacks.EarlyStopping(monitor='val_loss', patience=5, restore_best_weights=True)\n",
    "    history = simple_model.fit(X_train, Y_train,\n",
    "                               validation_data=(X_val, Y_val), \n",
    "                               epochs=50, \n",
    "                               batch_size=8,\n",
    "                               callbacks=[early_stop_callback])\n"
   ]
  },
  {
   "cell_type": "code",
   "execution_count": 14,
   "id": "796a965d",
   "metadata": {
    "ExecuteTime": {
     "end_time": "2022-09-04T13:14:02.773864Z",
     "start_time": "2022-09-04T13:14:00.219518Z"
    }
   },
   "outputs": [
    {
     "name": "stdout",
     "output_type": "stream",
     "text": [
      "1589/1589 [==============================] - 1s 384us/step - loss: 0.5048 - accuracy: 0.8109\n"
     ]
    }
   ],
   "source": [
    "with tf.device('/cpu:0'):\n",
    "    simple_model.evaluate(x=X_test, y=Y_test)"
   ]
  },
  {
   "cell_type": "code",
   "execution_count": 15,
   "id": "097a8276",
   "metadata": {},
   "outputs": [
    {
     "name": "stdout",
     "output_type": "stream",
     "text": [
      "1589/1589 [==============================] - 1s 348us/step\n"
     ]
    },
    {
     "data": {
      "text/html": [
       "<div>\n",
       "<style scoped>\n",
       "    .dataframe tbody tr th:only-of-type {\n",
       "        vertical-align: middle;\n",
       "    }\n",
       "\n",
       "    .dataframe tbody tr th {\n",
       "        vertical-align: top;\n",
       "    }\n",
       "\n",
       "    .dataframe thead th {\n",
       "        text-align: right;\n",
       "    }\n",
       "</style>\n",
       "<table border=\"1\" class=\"dataframe\">\n",
       "  <thead>\n",
       "    <tr style=\"text-align: right;\">\n",
       "      <th></th>\n",
       "      <th>Accuracy</th>\n",
       "      <th>MCC</th>\n",
       "      <th>F1_weighted</th>\n",
       "    </tr>\n",
       "  </thead>\n",
       "  <tbody>\n",
       "    <tr>\n",
       "      <th>mean</th>\n",
       "      <td>0.811</td>\n",
       "      <td>0.546</td>\n",
       "      <td>0.812</td>\n",
       "    </tr>\n",
       "    <tr>\n",
       "      <th>std</th>\n",
       "      <td>0.066</td>\n",
       "      <td>0.134</td>\n",
       "      <td>0.067</td>\n",
       "    </tr>\n",
       "  </tbody>\n",
       "</table>\n",
       "</div>"
      ],
      "text/plain": [
       "      Accuracy    MCC  F1_weighted\n",
       "mean     0.811  0.546        0.812\n",
       "std      0.066  0.134        0.067"
      ]
     },
     "execution_count": 15,
     "metadata": {},
     "output_type": "execute_result"
    }
   ],
   "source": [
    "evaluate_per_pid(df, range(50, 100), simple_model, X_test, name=\"simple_nn_tsfresh\")"
   ]
  },
  {
   "cell_type": "markdown",
   "id": "fe6b2079",
   "metadata": {},
   "source": [
    "#### CNN + LSTM Model"
   ]
  },
  {
   "cell_type": "code",
   "execution_count": 16,
   "id": "9435f4f5",
   "metadata": {
    "ExecuteTime": {
     "end_time": "2022-09-04T13:41:31.232384Z",
     "start_time": "2022-09-04T13:41:31.208017Z"
    }
   },
   "outputs": [],
   "source": [
    "def cnn_lstm_model(cnn_d = 32, lstm_d = 16):\n",
    "    model = tf.keras.models.Sequential()\n",
    "    model.add(tf.keras.layers.Conv1D(cnn_d, kernel_size=(5,), padding='same'))\n",
    "    \n",
    "    # Batch Normalization was resulting into NAN due to vanishing coefficients\n",
    "    # model.add(tf.keras.layers.BatchNormalization(epsilon=1e-04, axis=-1, momentum=0.9))\n",
    "    model.add(tf.keras.layers.Activation(tf.nn.relu))\n",
    "    \n",
    "    model.add(tf.keras.layers.Dropout(0.1))\n",
    "    model.add(tf.keras.layers.LSTM(lstm_d, return_sequences=False))\n",
    "    model.add(tf.keras.layers.Dense(1, activation=\"sigmoid\", name='output'))\n",
    "    \n",
    "    model.compile(loss='binary_crossentropy', optimizer='adam', metrics=['accuracy'])\n",
    "    return model\n",
    "\n",
    "cnnlstm_model = cnn_lstm_model()"
   ]
  },
  {
   "cell_type": "code",
   "execution_count": 17,
   "id": "df698537",
   "metadata": {
    "ExecuteTime": {
     "end_time": "2022-09-04T13:45:54.059316Z",
     "start_time": "2022-09-04T13:41:31.661467Z"
    }
   },
   "outputs": [
    {
     "name": "stdout",
     "output_type": "stream",
     "text": [
      "Epoch 1/50\n",
      "5145/5145 [==============================] - 9s 2ms/step - loss: 0.5776 - accuracy: 0.7295 - val_loss: 0.5563 - val_accuracy: 0.7471\n",
      "Epoch 2/50\n",
      "5145/5145 [==============================] - 8s 1ms/step - loss: 0.5571 - accuracy: 0.7475 - val_loss: 0.5494 - val_accuracy: 0.7517\n",
      "Epoch 3/50\n",
      "5145/5145 [==============================] - 8s 2ms/step - loss: 0.5559 - accuracy: 0.7509 - val_loss: 0.5469 - val_accuracy: 0.7526\n",
      "Epoch 4/50\n",
      "5145/5145 [==============================] - 9s 2ms/step - loss: 0.5512 - accuracy: 0.7541 - val_loss: 0.5438 - val_accuracy: 0.7595\n",
      "Epoch 5/50\n",
      "5145/5145 [==============================] - 9s 2ms/step - loss: 0.5490 - accuracy: 0.7569 - val_loss: 0.5445 - val_accuracy: 0.7569\n",
      "Epoch 6/50\n",
      "5145/5145 [==============================] - 8s 2ms/step - loss: 0.5441 - accuracy: 0.7501 - val_loss: 0.5307 - val_accuracy: 0.7543\n",
      "Epoch 7/50\n",
      "5145/5145 [==============================] - 8s 2ms/step - loss: 0.5352 - accuracy: 0.7586 - val_loss: 0.5219 - val_accuracy: 0.7759\n",
      "Epoch 8/50\n",
      "5145/5145 [==============================] - 8s 2ms/step - loss: 0.5360 - accuracy: 0.7551 - val_loss: 0.5185 - val_accuracy: 0.7806\n",
      "Epoch 9/50\n",
      "5145/5145 [==============================] - 7s 1ms/step - loss: 0.5286 - accuracy: 0.7626 - val_loss: 0.5230 - val_accuracy: 0.7735\n",
      "Epoch 10/50\n",
      "5145/5145 [==============================] - 8s 2ms/step - loss: 0.5340 - accuracy: 0.7624 - val_loss: 0.5292 - val_accuracy: 0.7671\n",
      "Epoch 11/50\n",
      "5145/5145 [==============================] - 8s 1ms/step - loss: 0.5352 - accuracy: 0.7666 - val_loss: 0.5266 - val_accuracy: 0.7684\n"
     ]
    }
   ],
   "source": [
    "reset_seed()\n",
    "\n",
    "# Align col has to be set to True to run this model\n",
    "with tf.device('/cpu:0'):\n",
    "    early_stop_callback = tf.keras.callbacks.EarlyStopping(monitor='val_loss', patience=3, restore_best_weights=True)\n",
    "    history = cnnlstm_model.fit(X_train, Y_train, \n",
    "                               validation_data=(X_val, Y_val), \n",
    "                               epochs=50, \n",
    "                               shuffle=True,\n",
    "                               batch_size=8,\n",
    "                               callbacks=[early_stop_callback])"
   ]
  },
  {
   "cell_type": "code",
   "execution_count": 18,
   "id": "4dfbc3fc",
   "metadata": {
    "ExecuteTime": {
     "end_time": "2022-09-04T14:26:40.279928Z",
     "start_time": "2022-09-04T14:26:37.392960Z"
    }
   },
   "outputs": [
    {
     "name": "stdout",
     "output_type": "stream",
     "text": [
      "1589/1589 [==============================] - 1s 555us/step - loss: 0.4771 - accuracy: 0.8166\n"
     ]
    }
   ],
   "source": [
    "with tf.device('/cpu:0'):\n",
    "    cnnlstm_model.evaluate(x=X_test, y=Y_test)"
   ]
  },
  {
   "cell_type": "code",
   "execution_count": 19,
   "id": "b78cc893",
   "metadata": {},
   "outputs": [
    {
     "name": "stdout",
     "output_type": "stream",
     "text": [
      "1589/1589 [==============================] - 1s 497us/step\n"
     ]
    },
    {
     "data": {
      "text/html": [
       "<div>\n",
       "<style scoped>\n",
       "    .dataframe tbody tr th:only-of-type {\n",
       "        vertical-align: middle;\n",
       "    }\n",
       "\n",
       "    .dataframe tbody tr th {\n",
       "        vertical-align: top;\n",
       "    }\n",
       "\n",
       "    .dataframe thead th {\n",
       "        text-align: right;\n",
       "    }\n",
       "</style>\n",
       "<table border=\"1\" class=\"dataframe\">\n",
       "  <thead>\n",
       "    <tr style=\"text-align: right;\">\n",
       "      <th></th>\n",
       "      <th>Accuracy</th>\n",
       "      <th>MCC</th>\n",
       "      <th>F1_weighted</th>\n",
       "    </tr>\n",
       "  </thead>\n",
       "  <tbody>\n",
       "    <tr>\n",
       "      <th>mean</th>\n",
       "      <td>0.819</td>\n",
       "      <td>0.525</td>\n",
       "      <td>0.802</td>\n",
       "    </tr>\n",
       "    <tr>\n",
       "      <th>std</th>\n",
       "      <td>0.067</td>\n",
       "      <td>0.127</td>\n",
       "      <td>0.074</td>\n",
       "    </tr>\n",
       "  </tbody>\n",
       "</table>\n",
       "</div>"
      ],
      "text/plain": [
       "      Accuracy    MCC  F1_weighted\n",
       "mean     0.819  0.525        0.802\n",
       "std      0.067  0.127        0.074"
      ]
     },
     "execution_count": 19,
     "metadata": {},
     "output_type": "execute_result"
    }
   ],
   "source": [
    "evaluate_per_pid(df, range(50, 100), cnnlstm_model, X_test, name=\"cnnlstm_model_tsfresh\")"
   ]
  },
  {
   "cell_type": "markdown",
   "id": "25ad1e58",
   "metadata": {
    "ExecuteTime": {
     "end_time": "2022-09-04T14:27:43.286122Z",
     "start_time": "2022-09-04T14:27:43.283581Z"
    }
   },
   "source": [
    "# What if we perform some feature normalization"
   ]
  },
  {
   "cell_type": "code",
   "execution_count": 20,
   "id": "6a0a94c8",
   "metadata": {
    "ExecuteTime": {
     "end_time": "2022-09-04T15:16:47.746866Z",
     "start_time": "2022-09-04T15:16:43.192336Z"
    }
   },
   "outputs": [
    {
     "name": "stdout",
     "output_type": "stream",
     "text": [
      "(41153, 2, 768)\n",
      "-2.2203420156016817e+20 419917189998739.2\n",
      "(41153, 2, 768)\n",
      "-1.0 1.0\n",
      "-3.70245 7.7438\n",
      "-107.42857 7.9027\n"
     ]
    }
   ],
   "source": [
    "from sklearn.preprocessing import MinMaxScaler\n",
    "\n",
    "print(X_train.shape)\n",
    "print(X_train.min().round(5), X_train.max().round(5)) # -20, 100\n",
    "\n",
    "scaler = MinMaxScaler(feature_range=(-1,1))\n",
    "X_train_norm = scaler.fit_transform(X_train.reshape(X_train.shape[0], -1)).reshape(X_train.shape)\n",
    "X_val_norm = scaler.transform(X_val.reshape(X_val.shape[0], -1)).reshape(X_val.shape)\n",
    "X_test_norm = scaler.transform(X_test.reshape(X_test.shape[0], -1)).reshape(X_test.shape)\n",
    "\n",
    "print(X_train.shape)\n",
    "print(X_train_norm.min().round(5), X_train_norm.max().round(5)) # -1, 1\n",
    "print(X_val_norm.min().round(5), X_val_norm.max().round(5)) # -1, 1\n",
    "print(X_test_norm.min().round(5), X_test_norm.max().round(5)) # -1, 1c\n"
   ]
  },
  {
   "cell_type": "code",
   "execution_count": 21,
   "id": "6d2ddf8c",
   "metadata": {
    "ExecuteTime": {
     "end_time": "2022-09-04T15:22:38.549644Z",
     "start_time": "2022-09-04T15:16:52.866824Z"
    }
   },
   "outputs": [
    {
     "name": "stdout",
     "output_type": "stream",
     "text": [
      "Epoch 1/50\n",
      "5145/5145 [==============================] - 3s 636us/step - loss: 0.4612 - accuracy: 0.8043 - val_loss: 0.4366 - val_accuracy: 0.8174\n",
      "Epoch 2/50\n",
      "5145/5145 [==============================] - 3s 659us/step - loss: 0.4477 - accuracy: 0.8093 - val_loss: 0.4343 - val_accuracy: 0.8184\n",
      "Epoch 3/50\n",
      "5145/5145 [==============================] - 3s 670us/step - loss: 0.4450 - accuracy: 0.8109 - val_loss: 0.4254 - val_accuracy: 0.8230\n",
      "Epoch 4/50\n",
      "5145/5145 [==============================] - 3s 662us/step - loss: 0.4424 - accuracy: 0.8113 - val_loss: 0.4226 - val_accuracy: 0.8231\n",
      "Epoch 5/50\n",
      "5145/5145 [==============================] - 3s 655us/step - loss: 0.4404 - accuracy: 0.8124 - val_loss: 0.4223 - val_accuracy: 0.8230\n",
      "Epoch 6/50\n",
      "5145/5145 [==============================] - 3s 643us/step - loss: 0.4400 - accuracy: 0.8100 - val_loss: 0.4237 - val_accuracy: 0.8197\n",
      "Epoch 7/50\n",
      "5145/5145 [==============================] - 3s 628us/step - loss: 0.4391 - accuracy: 0.8123 - val_loss: 0.4194 - val_accuracy: 0.8227\n",
      "Epoch 8/50\n",
      "5145/5145 [==============================] - 3s 603us/step - loss: 0.4386 - accuracy: 0.8119 - val_loss: 0.4322 - val_accuracy: 0.8115\n",
      "Epoch 9/50\n",
      "5145/5145 [==============================] - 3s 603us/step - loss: 0.4365 - accuracy: 0.8130 - val_loss: 0.4211 - val_accuracy: 0.8235\n",
      "Epoch 10/50\n",
      "5145/5145 [==============================] - 3s 583us/step - loss: 0.4357 - accuracy: 0.8133 - val_loss: 0.4173 - val_accuracy: 0.8180\n",
      "Epoch 11/50\n",
      "5145/5145 [==============================] - 3s 631us/step - loss: 0.4343 - accuracy: 0.8128 - val_loss: 0.4231 - val_accuracy: 0.8215\n",
      "Epoch 12/50\n",
      "5145/5145 [==============================] - 4s 682us/step - loss: 0.4345 - accuracy: 0.8137 - val_loss: 0.4255 - val_accuracy: 0.8107\n",
      "Epoch 13/50\n",
      "5145/5145 [==============================] - 3s 654us/step - loss: 0.4337 - accuracy: 0.8136 - val_loss: 0.4987 - val_accuracy: 0.7744\n"
     ]
    }
   ],
   "source": [
    "reset_seed()\n",
    "\n",
    "# Align_cols = True\n",
    "with tf.device('/cpu:0'):\n",
    "    early_stop_callback = tf.keras.callbacks.EarlyStopping(monitor='val_loss', patience=3, restore_best_weights=True)\n",
    "    history = simple_model.fit(X_train_norm, Y_train,\n",
    "                               validation_data=(X_val_norm, Y_val), \n",
    "                               epochs=50, \n",
    "                               batch_size=8,\n",
    "                               shuffle=True,\n",
    "                               callbacks=[early_stop_callback])\n"
   ]
  },
  {
   "cell_type": "code",
   "execution_count": 22,
   "id": "6ed6bb23",
   "metadata": {
    "ExecuteTime": {
     "end_time": "2022-09-04T15:28:58.877168Z",
     "start_time": "2022-09-04T15:28:56.120686Z"
    }
   },
   "outputs": [
    {
     "name": "stdout",
     "output_type": "stream",
     "text": [
      "1589/1589 [==============================] - 1s 406us/step - loss: 0.3721 - accuracy: 0.8480\n"
     ]
    }
   ],
   "source": [
    "with tf.device('/cpu:0'):\n",
    "    simple_model.evaluate(x=X_test_norm, y=Y_test)"
   ]
  },
  {
   "cell_type": "code",
   "execution_count": 23,
   "id": "ea60a5c2",
   "metadata": {
    "ExecuteTime": {
     "end_time": "2022-09-04T15:29:33.450273Z",
     "start_time": "2022-09-04T15:29:30.882191Z"
    }
   },
   "outputs": [
    {
     "name": "stdout",
     "output_type": "stream",
     "text": [
      "1589/1589 [==============================] - 1s 354us/step\n",
      "1.5880767e-09 0.98325866\n"
     ]
    }
   ],
   "source": [
    "with tf.device('/cpu:0'):\n",
    "    p = simple_model.predict(X_test_norm)\n",
    "    \n",
    "print(p.min(), p.max())"
   ]
  },
  {
   "cell_type": "code",
   "execution_count": 24,
   "id": "6b7f0d46",
   "metadata": {},
   "outputs": [
    {
     "name": "stdout",
     "output_type": "stream",
     "text": [
      "1589/1589 [==============================] - 1s 343us/step\n"
     ]
    },
    {
     "data": {
      "text/html": [
       "<div>\n",
       "<style scoped>\n",
       "    .dataframe tbody tr th:only-of-type {\n",
       "        vertical-align: middle;\n",
       "    }\n",
       "\n",
       "    .dataframe tbody tr th {\n",
       "        vertical-align: top;\n",
       "    }\n",
       "\n",
       "    .dataframe thead th {\n",
       "        text-align: right;\n",
       "    }\n",
       "</style>\n",
       "<table border=\"1\" class=\"dataframe\">\n",
       "  <thead>\n",
       "    <tr style=\"text-align: right;\">\n",
       "      <th></th>\n",
       "      <th>Accuracy</th>\n",
       "      <th>MCC</th>\n",
       "      <th>F1_weighted</th>\n",
       "    </tr>\n",
       "  </thead>\n",
       "  <tbody>\n",
       "    <tr>\n",
       "      <th>mean</th>\n",
       "      <td>0.849</td>\n",
       "      <td>0.614</td>\n",
       "      <td>0.841</td>\n",
       "    </tr>\n",
       "    <tr>\n",
       "      <th>std</th>\n",
       "      <td>0.067</td>\n",
       "      <td>0.146</td>\n",
       "      <td>0.071</td>\n",
       "    </tr>\n",
       "  </tbody>\n",
       "</table>\n",
       "</div>"
      ],
      "text/plain": [
       "      Accuracy    MCC  F1_weighted\n",
       "mean     0.849  0.614        0.841\n",
       "std      0.067  0.146        0.071"
      ]
     },
     "execution_count": 24,
     "metadata": {},
     "output_type": "execute_result"
    }
   ],
   "source": [
    "evaluate_per_pid(df, range(50, 100), simple_model, X_test_norm, name=\"simple_nn_tsfresh_norm\")"
   ]
  },
  {
   "cell_type": "code",
   "execution_count": 25,
   "id": "4494c595",
   "metadata": {
    "ExecuteTime": {
     "end_time": "2022-09-04T15:32:24.716177Z",
     "start_time": "2022-09-04T15:29:46.637813Z"
    }
   },
   "outputs": [
    {
     "name": "stdout",
     "output_type": "stream",
     "text": [
      "Epoch 1/50\n",
      "5145/5145 [==============================] - 8s 1ms/step - loss: 0.5476 - accuracy: 0.7426 - val_loss: 0.4602 - val_accuracy: 0.7800\n",
      "Epoch 2/50\n",
      "5145/5145 [==============================] - 7s 1ms/step - loss: 0.4725 - accuracy: 0.7912 - val_loss: 0.4398 - val_accuracy: 0.8182\n",
      "Epoch 3/50\n",
      "5145/5145 [==============================] - 7s 1ms/step - loss: 0.4511 - accuracy: 0.8060 - val_loss: 0.4412 - val_accuracy: 0.8147\n",
      "Epoch 4/50\n",
      "5145/5145 [==============================] - 7s 1ms/step - loss: 0.4428 - accuracy: 0.8088 - val_loss: 0.4193 - val_accuracy: 0.8202\n",
      "Epoch 5/50\n",
      "5145/5145 [==============================] - 8s 2ms/step - loss: 0.4392 - accuracy: 0.8100 - val_loss: 0.4185 - val_accuracy: 0.8203\n",
      "Epoch 6/50\n",
      "5145/5145 [==============================] - 8s 1ms/step - loss: 0.4377 - accuracy: 0.8106 - val_loss: 0.4328 - val_accuracy: 0.8143\n",
      "Epoch 7/50\n",
      "5145/5145 [==============================] - 8s 1ms/step - loss: 0.4372 - accuracy: 0.8118 - val_loss: 0.4245 - val_accuracy: 0.8201\n",
      "Epoch 8/50\n",
      "5145/5145 [==============================] - 8s 1ms/step - loss: 0.4354 - accuracy: 0.8128 - val_loss: 0.4176 - val_accuracy: 0.8215\n",
      "Epoch 9/50\n",
      "5145/5145 [==============================] - 7s 1ms/step - loss: 0.4329 - accuracy: 0.8118 - val_loss: 0.4204 - val_accuracy: 0.8114\n",
      "Epoch 10/50\n",
      "5145/5145 [==============================] - 7s 1ms/step - loss: 0.4339 - accuracy: 0.8138 - val_loss: 0.4300 - val_accuracy: 0.8058\n",
      "Epoch 11/50\n",
      "5145/5145 [==============================] - 7s 1ms/step - loss: 0.4310 - accuracy: 0.8133 - val_loss: 0.4418 - val_accuracy: 0.8107\n"
     ]
    }
   ],
   "source": [
    "reset_seed()\n",
    "# Align_cols = True\n",
    "with tf.device('/cpu:0'):\n",
    "    early_stop_callback = tf.keras.callbacks.EarlyStopping(monitor='val_loss', patience=3, restore_best_weights=True)\n",
    "    history = cnnlstm_model.fit(X_train_norm, Y_train,\n",
    "                               validation_data=(X_val_norm, Y_val), \n",
    "                               epochs=50, \n",
    "                               batch_size=8,\n",
    "                               shuffle=True,\n",
    "                               callbacks=[early_stop_callback])\n"
   ]
  },
  {
   "cell_type": "code",
   "execution_count": 26,
   "id": "dbc63534",
   "metadata": {
    "ExecuteTime": {
     "end_time": "2022-09-04T15:32:27.921787Z",
     "start_time": "2022-09-04T15:32:24.717734Z"
    }
   },
   "outputs": [
    {
     "name": "stdout",
     "output_type": "stream",
     "text": [
      "1589/1589 [==============================] - 1s 549us/step - loss: 0.3763 - accuracy: 0.8481\n"
     ]
    }
   ],
   "source": [
    "with tf.device('/cpu:0'):\n",
    "    cnnlstm_model.evaluate(x=X_test_norm, y=Y_test)"
   ]
  },
  {
   "cell_type": "code",
   "execution_count": 27,
   "id": "22be57dc",
   "metadata": {},
   "outputs": [
    {
     "name": "stdout",
     "output_type": "stream",
     "text": [
      "1589/1589 [==============================] - 1s 478us/step\n",
      "0.030230632 0.89968103\n"
     ]
    }
   ],
   "source": [
    "with tf.device('/cpu:0'):\n",
    "    p = cnnlstm_model.predict(X_test_norm)\n",
    "    \n",
    "print(p.min(), p.max())"
   ]
  },
  {
   "cell_type": "code",
   "execution_count": 28,
   "id": "9688f562",
   "metadata": {},
   "outputs": [
    {
     "name": "stdout",
     "output_type": "stream",
     "text": [
      "1589/1589 [==============================] - 1s 473us/step\n"
     ]
    },
    {
     "data": {
      "text/html": [
       "<div>\n",
       "<style scoped>\n",
       "    .dataframe tbody tr th:only-of-type {\n",
       "        vertical-align: middle;\n",
       "    }\n",
       "\n",
       "    .dataframe tbody tr th {\n",
       "        vertical-align: top;\n",
       "    }\n",
       "\n",
       "    .dataframe thead th {\n",
       "        text-align: right;\n",
       "    }\n",
       "</style>\n",
       "<table border=\"1\" class=\"dataframe\">\n",
       "  <thead>\n",
       "    <tr style=\"text-align: right;\">\n",
       "      <th></th>\n",
       "      <th>Accuracy</th>\n",
       "      <th>MCC</th>\n",
       "      <th>F1_weighted</th>\n",
       "    </tr>\n",
       "  </thead>\n",
       "  <tbody>\n",
       "    <tr>\n",
       "      <th>mean</th>\n",
       "      <td>0.849</td>\n",
       "      <td>0.615</td>\n",
       "      <td>0.842</td>\n",
       "    </tr>\n",
       "    <tr>\n",
       "      <th>std</th>\n",
       "      <td>0.066</td>\n",
       "      <td>0.143</td>\n",
       "      <td>0.070</td>\n",
       "    </tr>\n",
       "  </tbody>\n",
       "</table>\n",
       "</div>"
      ],
      "text/plain": [
       "      Accuracy    MCC  F1_weighted\n",
       "mean     0.849  0.615        0.842\n",
       "std      0.066  0.143        0.070"
      ]
     },
     "execution_count": 28,
     "metadata": {},
     "output_type": "execute_result"
    }
   ],
   "source": [
    "evaluate_per_pid(df, range(50, 100), cnnlstm_model, X_test_norm, name=\"cnnlstm_model_tsfresh_norm\")"
   ]
  },
  {
   "cell_type": "code",
   "execution_count": null,
   "id": "a97aca3f",
   "metadata": {},
   "outputs": [],
   "source": []
  }
 ],
 "metadata": {
  "kernelspec": {
   "display_name": "Python 3 (ipykernel)",
   "language": "python",
   "name": "python3"
  },
  "language_info": {
   "codemirror_mode": {
    "name": "ipython",
    "version": 3
   },
   "file_extension": ".py",
   "mimetype": "text/x-python",
   "name": "python",
   "nbconvert_exporter": "python",
   "pygments_lexer": "ipython3",
   "version": "3.8.13"
  }
 },
 "nbformat": 4,
 "nbformat_minor": 5
}
